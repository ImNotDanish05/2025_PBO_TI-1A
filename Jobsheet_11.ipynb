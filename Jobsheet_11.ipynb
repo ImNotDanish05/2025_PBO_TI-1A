{
  "nbformat": 4,
  "nbformat_minor": 0,
  "metadata": {
    "colab": {
      "provenance": [],
      "authorship_tag": "ABX9TyN+VY1QHbDYypBvVpCpm2Me",
      "include_colab_link": true
    },
    "kernelspec": {
      "name": "python3",
      "display_name": "Python 3"
    },
    "language_info": {
      "name": "python"
    }
  },
  "cells": [
    {
      "cell_type": "markdown",
      "metadata": {
        "id": "view-in-github",
        "colab_type": "text"
      },
      "source": [
        "<a href=\"https://colab.research.google.com/github/ImNotDanish05/2025_PBO_TI-1A/blob/main/Jobsheet_11.ipynb\" target=\"_parent\"><img src=\"https://colab.research.google.com/assets/colab-badge.svg\" alt=\"Open In Colab\"/></a>"
      ]
    },
    {
      "cell_type": "code",
      "execution_count": 1,
      "metadata": {
        "id": "QpwKBtoiNpNq",
        "colab": {
          "base_uri": "https://localhost:8080/"
        },
        "outputId": "5c6390c9-0d3c-4eef-b83c-26ba7ddfc528"
      },
      "outputs": [
        {
          "output_type": "stream",
          "name": "stdout",
          "text": [
            "Collecting streamlit\n",
            "  Downloading streamlit-1.45.1-py3-none-any.whl.metadata (8.9 kB)\n",
            "Collecting pyngrok\n",
            "  Downloading pyngrok-7.2.11-py3-none-any.whl.metadata (9.4 kB)\n",
            "Requirement already satisfied: altair<6,>=4.0 in /usr/local/lib/python3.11/dist-packages (from streamlit) (5.5.0)\n",
            "Requirement already satisfied: blinker<2,>=1.5.0 in /usr/local/lib/python3.11/dist-packages (from streamlit) (1.9.0)\n",
            "Requirement already satisfied: cachetools<6,>=4.0 in /usr/local/lib/python3.11/dist-packages (from streamlit) (5.5.2)\n",
            "Requirement already satisfied: click<9,>=7.0 in /usr/local/lib/python3.11/dist-packages (from streamlit) (8.2.1)\n",
            "Requirement already satisfied: numpy<3,>=1.23 in /usr/local/lib/python3.11/dist-packages (from streamlit) (2.0.2)\n",
            "Requirement already satisfied: packaging<25,>=20 in /usr/local/lib/python3.11/dist-packages (from streamlit) (24.2)\n",
            "Requirement already satisfied: pandas<3,>=1.4.0 in /usr/local/lib/python3.11/dist-packages (from streamlit) (2.2.2)\n",
            "Requirement already satisfied: pillow<12,>=7.1.0 in /usr/local/lib/python3.11/dist-packages (from streamlit) (11.2.1)\n",
            "Requirement already satisfied: protobuf<7,>=3.20 in /usr/local/lib/python3.11/dist-packages (from streamlit) (5.29.5)\n",
            "Requirement already satisfied: pyarrow>=7.0 in /usr/local/lib/python3.11/dist-packages (from streamlit) (18.1.0)\n",
            "Requirement already satisfied: requests<3,>=2.27 in /usr/local/lib/python3.11/dist-packages (from streamlit) (2.32.3)\n",
            "Requirement already satisfied: tenacity<10,>=8.1.0 in /usr/local/lib/python3.11/dist-packages (from streamlit) (9.1.2)\n",
            "Requirement already satisfied: toml<2,>=0.10.1 in /usr/local/lib/python3.11/dist-packages (from streamlit) (0.10.2)\n",
            "Requirement already satisfied: typing-extensions<5,>=4.4.0 in /usr/local/lib/python3.11/dist-packages (from streamlit) (4.14.0)\n",
            "Collecting watchdog<7,>=2.1.5 (from streamlit)\n",
            "  Downloading watchdog-6.0.0-py3-none-manylinux2014_x86_64.whl.metadata (44 kB)\n",
            "\u001b[2K     \u001b[90m━━━━━━━━━━━━━━━━━━━━━━━━━━━━━━━━━━━━━━━━\u001b[0m \u001b[32m44.3/44.3 kB\u001b[0m \u001b[31m1.9 MB/s\u001b[0m eta \u001b[36m0:00:00\u001b[0m\n",
            "\u001b[?25hRequirement already satisfied: gitpython!=3.1.19,<4,>=3.0.7 in /usr/local/lib/python3.11/dist-packages (from streamlit) (3.1.44)\n",
            "Collecting pydeck<1,>=0.8.0b4 (from streamlit)\n",
            "  Downloading pydeck-0.9.1-py2.py3-none-any.whl.metadata (4.1 kB)\n",
            "Requirement already satisfied: tornado<7,>=6.0.3 in /usr/local/lib/python3.11/dist-packages (from streamlit) (6.4.2)\n",
            "Requirement already satisfied: PyYAML>=5.1 in /usr/local/lib/python3.11/dist-packages (from pyngrok) (6.0.2)\n",
            "Requirement already satisfied: jinja2 in /usr/local/lib/python3.11/dist-packages (from altair<6,>=4.0->streamlit) (3.1.6)\n",
            "Requirement already satisfied: jsonschema>=3.0 in /usr/local/lib/python3.11/dist-packages (from altair<6,>=4.0->streamlit) (4.24.0)\n",
            "Requirement already satisfied: narwhals>=1.14.2 in /usr/local/lib/python3.11/dist-packages (from altair<6,>=4.0->streamlit) (1.41.0)\n",
            "Requirement already satisfied: gitdb<5,>=4.0.1 in /usr/local/lib/python3.11/dist-packages (from gitpython!=3.1.19,<4,>=3.0.7->streamlit) (4.0.12)\n",
            "Requirement already satisfied: python-dateutil>=2.8.2 in /usr/local/lib/python3.11/dist-packages (from pandas<3,>=1.4.0->streamlit) (2.9.0.post0)\n",
            "Requirement already satisfied: pytz>=2020.1 in /usr/local/lib/python3.11/dist-packages (from pandas<3,>=1.4.0->streamlit) (2025.2)\n",
            "Requirement already satisfied: tzdata>=2022.7 in /usr/local/lib/python3.11/dist-packages (from pandas<3,>=1.4.0->streamlit) (2025.2)\n",
            "Requirement already satisfied: charset-normalizer<4,>=2 in /usr/local/lib/python3.11/dist-packages (from requests<3,>=2.27->streamlit) (3.4.2)\n",
            "Requirement already satisfied: idna<4,>=2.5 in /usr/local/lib/python3.11/dist-packages (from requests<3,>=2.27->streamlit) (3.10)\n",
            "Requirement already satisfied: urllib3<3,>=1.21.1 in /usr/local/lib/python3.11/dist-packages (from requests<3,>=2.27->streamlit) (2.4.0)\n",
            "Requirement already satisfied: certifi>=2017.4.17 in /usr/local/lib/python3.11/dist-packages (from requests<3,>=2.27->streamlit) (2025.4.26)\n",
            "Requirement already satisfied: smmap<6,>=3.0.1 in /usr/local/lib/python3.11/dist-packages (from gitdb<5,>=4.0.1->gitpython!=3.1.19,<4,>=3.0.7->streamlit) (5.0.2)\n",
            "Requirement already satisfied: MarkupSafe>=2.0 in /usr/local/lib/python3.11/dist-packages (from jinja2->altair<6,>=4.0->streamlit) (3.0.2)\n",
            "Requirement already satisfied: attrs>=22.2.0 in /usr/local/lib/python3.11/dist-packages (from jsonschema>=3.0->altair<6,>=4.0->streamlit) (25.3.0)\n",
            "Requirement already satisfied: jsonschema-specifications>=2023.03.6 in /usr/local/lib/python3.11/dist-packages (from jsonschema>=3.0->altair<6,>=4.0->streamlit) (2025.4.1)\n",
            "Requirement already satisfied: referencing>=0.28.4 in /usr/local/lib/python3.11/dist-packages (from jsonschema>=3.0->altair<6,>=4.0->streamlit) (0.36.2)\n",
            "Requirement already satisfied: rpds-py>=0.7.1 in /usr/local/lib/python3.11/dist-packages (from jsonschema>=3.0->altair<6,>=4.0->streamlit) (0.25.1)\n",
            "Requirement already satisfied: six>=1.5 in /usr/local/lib/python3.11/dist-packages (from python-dateutil>=2.8.2->pandas<3,>=1.4.0->streamlit) (1.17.0)\n",
            "Downloading streamlit-1.45.1-py3-none-any.whl (9.9 MB)\n",
            "\u001b[2K   \u001b[90m━━━━━━━━━━━━━━━━━━━━━━━━━━━━━━━━━━━━━━━━\u001b[0m \u001b[32m9.9/9.9 MB\u001b[0m \u001b[31m24.0 MB/s\u001b[0m eta \u001b[36m0:00:00\u001b[0m\n",
            "\u001b[?25hDownloading pyngrok-7.2.11-py3-none-any.whl (25 kB)\n",
            "Downloading pydeck-0.9.1-py2.py3-none-any.whl (6.9 MB)\n",
            "\u001b[2K   \u001b[90m━━━━━━━━━━━━━━━━━━━━━━━━━━━━━━━━━━━━━━━━\u001b[0m \u001b[32m6.9/6.9 MB\u001b[0m \u001b[31m26.5 MB/s\u001b[0m eta \u001b[36m0:00:00\u001b[0m\n",
            "\u001b[?25hDownloading watchdog-6.0.0-py3-none-manylinux2014_x86_64.whl (79 kB)\n",
            "\u001b[2K   \u001b[90m━━━━━━━━━━━━━━━━━━━━━━━━━━━━━━━━━━━━━━━━\u001b[0m \u001b[32m79.1/79.1 kB\u001b[0m \u001b[31m4.7 MB/s\u001b[0m eta \u001b[36m0:00:00\u001b[0m\n",
            "\u001b[?25hInstalling collected packages: watchdog, pyngrok, pydeck, streamlit\n",
            "Successfully installed pydeck-0.9.1 pyngrok-7.2.11 streamlit-1.45.1 watchdog-6.0.0\n"
          ]
        }
      ],
      "source": [
        "!pip install streamlit pyngrok"
      ]
    },
    {
      "cell_type": "markdown",
      "source": [
        "# **Package**"
      ],
      "metadata": {
        "id": "zdxXCI4QkmHa"
      }
    },
    {
      "cell_type": "code",
      "source": [
        "from pyngrok import ngrok\n",
        "import time\n",
        "import subprocess\n",
        "from google.colab import drive\n",
        "drive.mount('/content/drive')\n",
        "file_path = '/content/drive/MyDrive/Danish05/Account/ngrok.txt'\n",
        "\n",
        "with open(file_path, 'r') as f:\n",
        "    lines = f.readlines()\n",
        "    for line in lines:\n",
        "        if \"Token:\" in line:\n",
        "            token = line.split(\"Token:\")[1].strip()"
      ],
      "metadata": {
        "colab": {
          "base_uri": "https://localhost:8080/"
        },
        "id": "I4ixjq8xgnnm",
        "outputId": "55746deb-eb9c-4a64-a8aa-d8804fbb0375"
      },
      "execution_count": 2,
      "outputs": [
        {
          "output_type": "stream",
          "name": "stdout",
          "text": [
            "Mounted at /content/drive\n"
          ]
        }
      ]
    },
    {
      "cell_type": "markdown",
      "source": [
        "# **Web Hoster**"
      ],
      "metadata": {
        "id": "R9HK9JAXksLR"
      }
    },
    {
      "cell_type": "code",
      "source": [
        "# Run streamlit\n",
        "def web(apps):\n",
        "  !ngrok config add-authtoken {token}\n",
        "  time.sleep(5)\n",
        "  process = subprocess.Popen(['streamlit', 'run', f'/content/{apps}', '--server.headless', 'true', '--server.port', '8501', '--server.enableCORS', 'false'])\n",
        "\n",
        "  # Ngrok tunnel\n",
        "  public_url = ngrok.connect(\"http://localhost:8501\")\n",
        "  print(\"Streamlit ready at:\", public_url)\n",
        "  killngrok()\n",
        "\n",
        "def killngrok():\n",
        "  while True:\n",
        "    jawab = input('Apakah anda selesai ? Tulis \"iya\" jika selesai: ').strip().lower()\n",
        "    if jawab == \"iya\":\n",
        "      print(\"Oke, hancurkan ngrok\")\n",
        "      ngrok.kill()\n",
        "      break\n",
        "    else:\n",
        "      print(f\"=== Salah Input ===\")"
      ],
      "metadata": {
        "id": "OpRaoQ-6dKCQ"
      },
      "execution_count": 3,
      "outputs": []
    },
    {
      "cell_type": "code",
      "source": [
        "ngrok.kill()"
      ],
      "metadata": {
        "id": "HKfhCmYMm2zD"
      },
      "execution_count": 4,
      "outputs": []
    },
    {
      "cell_type": "markdown",
      "source": [
        "# **Testing Website Host**"
      ],
      "metadata": {
        "id": "TwaJXrtckvri"
      }
    },
    {
      "cell_type": "code",
      "source": [
        "# Buat file app.py, dan isi di dalamnya\n",
        "%%writefile testapp.py\n",
        "# Isi di dalamnya\n",
        "import streamlit as st\n",
        "st.title(\"Hello Colab!\")"
      ],
      "metadata": {
        "colab": {
          "base_uri": "https://localhost:8080/"
        },
        "id": "G7JfPQGWjo1t",
        "outputId": "97424f36-60ea-47c2-e604-c736a76cb7c2"
      },
      "execution_count": 5,
      "outputs": [
        {
          "output_type": "stream",
          "name": "stdout",
          "text": [
            "Writing testapp.py\n"
          ]
        }
      ]
    },
    {
      "cell_type": "code",
      "source": [
        "# Hosting Web\n",
        "# web(\"testapp.py\")"
      ],
      "metadata": {
        "id": "sS_8o2lHkQ8g"
      },
      "execution_count": 6,
      "outputs": []
    },
    {
      "cell_type": "markdown",
      "source": [
        "![image.png](data:image/png;base64,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)"
      ],
      "metadata": {
        "id": "h-LppUHxC0t2"
      }
    },
    {
      "cell_type": "markdown",
      "source": [
        "# **Langkah 1: Persiapan Awal**"
      ],
      "metadata": {
        "id": "LlY7X-I-OkO0"
      }
    },
    {
      "cell_type": "code",
      "source": [
        "# File 1: Konfigurasi.py\n",
        "%%writefile konfigurasi.py\n",
        "import os\n",
        "\n",
        "# Path dasar direktori file ini\n",
        "BASE_DIR = os.path.dirname(os.path.abspath(__file__))\n",
        "\n",
        "# Nama dan path database\n",
        "NAMA_DB = 'pengeluaran_harian.db'\n",
        "DB_PATH = os.path.join(BASE_DIR, NAMA_DB)\n",
        "\n",
        "# Daftar kategori pengeluaran\n",
        "KATEGORI_PENGELUARAN = [\n",
        "    \"Makanan\", \"Transportasi\", \"Hiburan\", \"Tagihan\",\n",
        "    \"Belanja\", \"Kesehatan\", \"Pendidikan\", \"Lainnya\"\n",
        "]\n",
        "\n",
        "# Kategori default jika tidak ditentukan\n",
        "KATEGORI_DEFAULT = \"Lainnya\"\n"
      ],
      "metadata": {
        "colab": {
          "base_uri": "https://localhost:8080/"
        },
        "id": "J8-LInsBFcqd",
        "outputId": "f1754a7c-2b18-4df9-fca5-fc5efde5d452"
      },
      "execution_count": 7,
      "outputs": [
        {
          "output_type": "stream",
          "name": "stdout",
          "text": [
            "Writing konfigurasi.py\n"
          ]
        }
      ]
    },
    {
      "cell_type": "code",
      "source": [
        "# File 2: setup_db_pengeluaran.py\n",
        "%%writefile setup_db_pengeluaran.py\n",
        "import sqlite3\n",
        "import os\n",
        "from konfigurasi import DB_PATH\n",
        "\n",
        "def setup_database():\n",
        "    print(f\"Memeriksa/membuat database di: {DB_PATH}\")\n",
        "    conn = None\n",
        "\n",
        "    try:\n",
        "        conn = sqlite3.connect(DB_PATH)\n",
        "        cursor = conn.cursor()\n",
        "\n",
        "        # SQL untuk membuat tabel jika belum ada\n",
        "        sql_create_table = \"\"\"\n",
        "        CREATE TABLE IF NOT EXISTS transaksi (\n",
        "            id INTEGER PRIMARY KEY AUTOINCREMENT,\n",
        "            deskripsi TEXT NOT NULL,\n",
        "            jumlah REAL NOT NULL CHECK(jumlah > 0),\n",
        "            kategori TEXT,\n",
        "            tanggal DATE NOT NULL\n",
        "        );\n",
        "        \"\"\"\n",
        "\n",
        "        print(\"Membuat tabel 'transaksi' (jika belum ada)...\")\n",
        "        cursor.execute(sql_create_table)\n",
        "        conn.commit()\n",
        "        print(\"-> Tabel 'transaksi' siap.\")\n",
        "        return True\n",
        "\n",
        "    except sqlite3.Error as e:\n",
        "        print(f\"-> Error SQLite saat setup: {e}\")\n",
        "        return False\n",
        "\n",
        "    finally:\n",
        "        if conn:\n",
        "            conn.close()\n",
        "            print(\"-> Koneksi DB setup ditutup.\")\n",
        "\n",
        "if __name__ == \"__main__\":\n",
        "    print(\"--- Memulai Setup Database Pengeluaran ---\")\n",
        "    if setup_database():\n",
        "        print(f\"\\nSetup database '{os.path.basename(DB_PATH)}' selesai.\")\n",
        "    else:\n",
        "        print(\"\\nSetup database GAGAL.\")\n",
        "    print(\"--- Setup Database Selesai ---\")"
      ],
      "metadata": {
        "colab": {
          "base_uri": "https://localhost:8080/"
        },
        "id": "ArV5yszMIKXh",
        "outputId": "41302f24-b389-4b57-e7b9-6141080a64a7"
      },
      "execution_count": 8,
      "outputs": [
        {
          "output_type": "stream",
          "name": "stdout",
          "text": [
            "Writing setup_db_pengeluaran.py\n"
          ]
        }
      ]
    },
    {
      "cell_type": "markdown",
      "source": [
        "# **Langkah 2: Modul Akses Database (database.py)**"
      ],
      "metadata": {
        "id": "33Hp2YtpPeoR"
      }
    },
    {
      "cell_type": "code",
      "source": [
        "# File 3: database.py\n",
        "%%writefile database.py\n",
        "import sqlite3\n",
        "import pandas as pd\n",
        "from konfigurasi import DB_PATH  # Gunakan path dari konfigurasi\n",
        "\n",
        "\n",
        "def get_db_connection() -> sqlite3.Connection | None:\n",
        "    \"\"\"Membuka dan mengembalikan koneksi baru ke database SQLite.\"\"\"\n",
        "    try:\n",
        "        conn = sqlite3.connect(\n",
        "            DB_PATH,\n",
        "            timeout=10,\n",
        "            detect_types=sqlite3.PARSE_DECLTYPES\n",
        "        )\n",
        "        conn.row_factory = sqlite3.Row  # Akses kolom by name\n",
        "        return conn\n",
        "    except sqlite3.Error as e:\n",
        "        print(f\"ERROR [database.py] Koneksi DB gagal: {e}\")\n",
        "        return None\n",
        "\n",
        "def execute_query(query: str, params: tuple = None):\n",
        "    \"\"\"\n",
        "    Menjalankan query non-SELECT (seperti INSERT, UPDATE, DELETE).\n",
        "    Mengembalikan lastrowid jika berhasil (untuk INSERT).\n",
        "    \"\"\"\n",
        "    conn = get_db_connection()\n",
        "    if not conn:\n",
        "        return None\n",
        "\n",
        "    try:\n",
        "        cursor = conn.cursor()\n",
        "        if params:\n",
        "            cursor.execute(query, params)\n",
        "        else:\n",
        "            cursor.execute(query)\n",
        "        conn.commit()\n",
        "        return cursor.lastrowid\n",
        "    except sqlite3.Error as e:\n",
        "        print(f\"ERROR [database.py] Query gagal: {e} | Query: {query[:60]}\")\n",
        "        conn.rollback()\n",
        "        return None\n",
        "    finally:\n",
        "        if conn:\n",
        "            conn.close()\n",
        "\n",
        "\n",
        "def fetch_query(query: str, params: tuple = None, fetch_all: bool = True):\n",
        "    \"\"\"\n",
        "    Menjalankan query SELECT dan mengembalikan hasil:\n",
        "    - fetch_all=True: list of rows\n",
        "    - fetch_all=False: single row\n",
        "    \"\"\"\n",
        "    conn = get_db_connection()\n",
        "    if not conn:\n",
        "        return None\n",
        "\n",
        "    try:\n",
        "        cursor = conn.cursor()\n",
        "        if params:\n",
        "            cursor.execute(query, params)\n",
        "        else:\n",
        "            cursor.execute(query)\n",
        "        result = cursor.fetchall() if fetch_all else cursor.fetchone()\n",
        "        return result\n",
        "    except sqlite3.Error as e:\n",
        "        print(f\"ERROR [database.py] Fetch gagal: {e} | Query: {query[:60]}\")\n",
        "        return None\n",
        "    finally:\n",
        "        if conn:\n",
        "            conn.close()\n",
        "\n",
        "def get_dataframe(query: str, params: tuple = None) -> pd.DataFrame:\n",
        "    \"\"\"Menjalankan query SELECT dan mengembalikan hasil sebagai DataFrame Pandas.\"\"\"\n",
        "    conn = get_db_connection()\n",
        "    if not conn:\n",
        "        return pd.DataFrame()\n",
        "\n",
        "    try:\n",
        "        df = pd.read_sql_query(query, conn, params=params)\n",
        "        return df\n",
        "    except Exception as e:\n",
        "        print(f\"ERROR [database.py] Gagal baca ke DataFrame: {e}\")\n",
        "        return pd.DataFrame()\n",
        "    finally:\n",
        "        if conn:\n",
        "            conn.close()\n",
        "\n",
        "def setup_database_initial():\n",
        "    \"\"\"\n",
        "    Memastikan tabel 'transaksi' ada.\n",
        "    Dapat dipanggil saat aplikasi pertama kali dijalankan.\n",
        "    \"\"\"\n",
        "    print(f\"Memeriksa/membuat tabel di database (via database.py): {DB_PATH}\")\n",
        "    conn = get_db_connection()\n",
        "    if not conn:\n",
        "        return False\n",
        "\n",
        "    try:\n",
        "        cursor = conn.cursor()\n",
        "        sql_create_table = \"\"\"\n",
        "        CREATE TABLE IF NOT EXISTS transaksi (\n",
        "            id INTEGER PRIMARY KEY AUTOINCREMENT,\n",
        "            deskripsi TEXT NOT NULL,\n",
        "            jumlah REAL NOT NULL CHECK(jumlah > 0),\n",
        "            kategori TEXT,\n",
        "            tanggal DATE NOT NULL\n",
        "        );\n",
        "        \"\"\"\n",
        "        cursor.execute(sql_create_table)\n",
        "        conn.commit()\n",
        "        print(\"-> Tabel 'transaksi' siap.\")\n",
        "        return True\n",
        "    except sqlite3.Error as e:\n",
        "        print(f\"Error SQLite saat setup tabel: {e}\")\n",
        "        return False\n",
        "    finally:\n",
        "        if conn:\n",
        "            conn.close()"
      ],
      "metadata": {
        "colab": {
          "base_uri": "https://localhost:8080/"
        },
        "id": "NHUSYVgTPlkb",
        "outputId": "3a5efa9e-c854-47a4-aa5a-e7b4f0dc7340"
      },
      "execution_count": 9,
      "outputs": [
        {
          "output_type": "stream",
          "name": "stdout",
          "text": [
            "Writing database.py\n"
          ]
        }
      ]
    },
    {
      "cell_type": "markdown",
      "source": [
        "# **Langkah 3: Modul Model Data (model.py)**"
      ],
      "metadata": {
        "id": "_l_L-mz1YYaL"
      }
    },
    {
      "cell_type": "code",
      "source": [
        "# File 4: model.py\n",
        "%%writefile model.py\n",
        "import datetime\n",
        "\n",
        "class Transaksi:\n",
        "    \"\"\"Merepresentasikan satu entitas transaksi pengeluaran.\"\"\"\n",
        "\n",
        "    def __init__(self, deskripsi: str, jumlah: float, kategori: str,\n",
        "                 tanggal: datetime.date | str, id_transaksi: int | None = None):\n",
        "        self.id = id_transaksi\n",
        "        self.deskripsi = str(deskripsi).strip() if deskripsi else \"Tanpa Deskripsi\"\n",
        "\n",
        "        try:\n",
        "            jumlah_float = float(jumlah)\n",
        "            self.jumlah = jumlah_float if jumlah_float > 0 else 0.0\n",
        "            if jumlah_float <= 0:\n",
        "                print(f\"Peringatan: Jumlah '{jumlah}' harus positif.\")\n",
        "        except (ValueError, TypeError):\n",
        "            self.jumlah = 0.0\n",
        "            print(f\"Peringatan: Jumlah '{jumlah}' tidak valid.\")\n",
        "\n",
        "        self.kategori = str(kategori).strip() if kategori else \"Lainnya\"\n",
        "\n",
        "        if isinstance(tanggal, datetime.date):\n",
        "            self.tanggal = tanggal\n",
        "        elif isinstance(tanggal, str):\n",
        "            try:\n",
        "                self.tanggal = datetime.datetime.strptime(tanggal, \"%Y-%m-%d\").date()\n",
        "            except ValueError:\n",
        "                self.tanggal = datetime.date.today()\n",
        "                print(f\"Peringatan: Format tanggal '{tanggal}' salah.\")\n",
        "        else:\n",
        "            self.tanggal = datetime.date.today()\n",
        "            print(f\"Peringatan: Tipe tanggal '{type(tanggal)}' tidak valid.\")\n",
        "\n",
        "    def __repr__(self) -> str:\n",
        "        try:\n",
        "            import locale\n",
        "            locale.setlocale(locale.LC_ALL, 'id_ID.UTF8')\n",
        "            jml_str = locale.format_string(\"%.0f\", self.jumlah, grouping=True)\n",
        "        except:\n",
        "            jml_str = f\"{self.jumlah:.0f}\"\n",
        "\n",
        "        return (\n",
        "            f\"Transaksi(ID:{self.id}, \"\n",
        "            f\"Tgl:{self.tanggal.strftime('%Y-%m-%d')}, \"\n",
        "            f\"Jml:{jml_str}, \"\n",
        "            f\"Kat:'{self.kategori}', \"\n",
        "            f\"Desc:'{self.deskripsi}')\"\n",
        "        )\n",
        "\n",
        "    def to_dict(self) -> dict:\n",
        "        return {\n",
        "            \"deskripsi\": self.deskripsi,\n",
        "            \"jumlah\": self.jumlah,\n",
        "            \"kategori\": self.kategori,\n",
        "            \"tanggal\": self.tanggal.strftime(\"%Y-%m-%d\")\n",
        "        }\n"
      ],
      "metadata": {
        "colab": {
          "base_uri": "https://localhost:8080/"
        },
        "id": "oFJ2T6LoYWXY",
        "outputId": "6d98340a-012b-4c0d-e1cb-b689946ad372"
      },
      "execution_count": 10,
      "outputs": [
        {
          "output_type": "stream",
          "name": "stdout",
          "text": [
            "Writing model.py\n"
          ]
        }
      ]
    },
    {
      "cell_type": "markdown",
      "source": [
        "# **Langkah 4: Modul Manajer Anggaran (manajer_anggaran.py)**"
      ],
      "metadata": {
        "id": "T7pJhSKDdhMr"
      }
    },
    {
      "cell_type": "code",
      "source": [
        "# File 5: manajer_anggaran.py\n",
        "%%writefile manajer_anggaran.py\n",
        "\n",
        "import datetime\n",
        "import pandas as pd\n",
        "from model import Transaksi\n",
        "import database  # Impor modul database kita\n",
        "\n",
        "class AnggaranHarian:\n",
        "    \"\"\"Mengelola logika bisnis pengeluaran harian (Repository Pattern).\"\"\"\n",
        "\n",
        "    _db_setup_done = False  # Setup DB hanya dilakukan sekali per sesi\n",
        "\n",
        "    def __init__(self):\n",
        "        if not AnggaranHarian._db_setup_done:\n",
        "            print(\"[AnggaranHarian] Melakukan pengecekan/setup database awal...\")\n",
        "            if database.setup_database_initial():\n",
        "                AnggaranHarian._db_setup_done = True\n",
        "                print(\"[AnggaranHarian] Database siap.\")\n",
        "            else:\n",
        "                print(\"[AnggaranHarian] KRITIKAL: Setup database awal GAGAL!\")\n",
        "\n",
        "    def tambah_transaksi(self, transaksi: Transaksi) -> bool:\n",
        "        if not isinstance(transaksi, Transaksi) or transaksi.jumlah <= 0:\n",
        "            return False\n",
        "\n",
        "        sql = \"\"\"\n",
        "            INSERT INTO transaksi (deskripsi, jumlah, kategori, tanggal)\n",
        "            VALUES (?, ?, ?, ?)\n",
        "        \"\"\"\n",
        "        params = (\n",
        "            transaksi.deskripsi,\n",
        "            transaksi.jumlah,\n",
        "            transaksi.kategori,\n",
        "            transaksi.tanggal.strftime(\"%Y-%m-%d\")\n",
        "        )\n",
        "        last_id = database.execute_query(sql, params)\n",
        "\n",
        "        if last_id is not None:\n",
        "            transaksi.id = last_id\n",
        "            return True\n",
        "        return False\n",
        "\n",
        "    def hapus_transaksi(self, id_transaksi: int) -> bool:\n",
        "        \"\"\" Menghapus transaksi berdasarkan ID \"\"\"\n",
        "        sql = \"DELETE FROM transaksi WHERE id = ?\"\n",
        "        try:\n",
        "          result = database.execute_query(sql, (id_transaksi,))\n",
        "          return result is not None and result > 0\n",
        "        except Exception as e:\n",
        "          print(f\"[AnggaranHarian] Error saat menghapus transaksi {id_transaksi,}: {e}\")\n",
        "          return False\n",
        "\n",
        "    def get_semua_transaksi_obj(self) -> list[Transaksi]:\n",
        "        sql = \"\"\"\n",
        "            SELECT id, deskripsi, jumlah, kategori, tanggal\n",
        "            FROM transaksi\n",
        "            ORDER BY tanggal DESC, id DESC\n",
        "        \"\"\"\n",
        "        rows = database.fetch_query(sql, fetch_all=True)\n",
        "        transaksi_list = []\n",
        "\n",
        "        if rows:\n",
        "            for row in rows:\n",
        "                transaksi_list.append(\n",
        "                    Transaksi(\n",
        "                        id_transaksi=row['id'],\n",
        "                        deskripsi=row['deskripsi'],\n",
        "                        jumlah=row['jumlah'],\n",
        "                        kategori=row['kategori'],\n",
        "                        tanggal=row['tanggal']\n",
        "                    )\n",
        "                )\n",
        "        return transaksi_list\n",
        "\n",
        "    def get_dataframe_transaksi(self, filter_tanggal: datetime.date | None = None) -> pd.DataFrame:\n",
        "        query = \"\"\"\n",
        "            SELECT id, tanggal, kategori, deskripsi, jumlah\n",
        "            FROM transaksi\n",
        "        \"\"\"\n",
        "        params = None\n",
        "\n",
        "        if filter_tanggal:\n",
        "            query += \" WHERE tanggal = ?\"\n",
        "            params = (filter_tanggal.strftime(\"%Y-%m-%d\"),)\n",
        "\n",
        "        query += \" ORDER BY tanggal DESC, id DESC\"\n",
        "        df = database.get_dataframe(query, params=params)\n",
        "\n",
        "        if not df.empty:\n",
        "            try:\n",
        "                import locale\n",
        "                locale.setlocale(locale.LC_ALL, 'id_ID.UTF-8')\n",
        "                df['Jumlah (Rp)'] = df['jumlah'].map(\n",
        "                    lambda x: locale.currency(x or 0, grouping=True, symbol='Rp ')[:-3]\n",
        "                )\n",
        "            except:\n",
        "                df['Jumlah (Rp)'] = df['jumlah'].map(\n",
        "                    lambda x: f\"Rp {x or 0:,.0f}\".replace(\",\", \".\")\n",
        "                )\n",
        "            df = df[['id', 'tanggal', 'kategori', 'deskripsi', 'Jumlah (Rp)']]\n",
        "\n",
        "        return df\n",
        "\n",
        "    def hitung_total_pengeluaran(self, tanggal: datetime.date | None = None) -> float:\n",
        "        sql = \"SELECT SUM(jumlah) FROM transaksi\"\n",
        "        params = None\n",
        "\n",
        "        if tanggal:\n",
        "            sql += \" WHERE tanggal = ?\"\n",
        "            params = (tanggal.strftime(\"%Y-%m-%d\"),)\n",
        "\n",
        "        result = database.fetch_query(sql, params=params, fetch_all=False)\n",
        "\n",
        "        if result and result[0] is not None:\n",
        "            return float(result[0])\n",
        "        return 0.0\n",
        "\n",
        "    def get_pengeluaran_per_kategori(self, tanggal: datetime.date | None = None) -> dict:\n",
        "        hasil = {}\n",
        "        sql = \"SELECT kategori, SUM(jumlah) FROM transaksi\"\n",
        "        params = []\n",
        "\n",
        "        if tanggal:\n",
        "            sql += \" WHERE tanggal = ?\"\n",
        "            params.append(tanggal.strftime(\"%Y-%m-%d\"))\n",
        "\n",
        "        sql += \" GROUP BY kategori HAVING SUM(jumlah) > 0 ORDER BY SUM(jumlah) DESC\"\n",
        "        rows = database.fetch_query(sql, params=tuple(params) if params else None, fetch_all=True)\n",
        "\n",
        "        if rows:\n",
        "            for row in rows:\n",
        "                kategori = row['kategori'] if row['kategori'] else \"Lainnya\"\n",
        "                jumlah = float(row[1]) if row[1] is not None else 0.0\n",
        "                hasil[kategori] = jumlah\n",
        "\n",
        "        return hasil"
      ],
      "metadata": {
        "colab": {
          "base_uri": "https://localhost:8080/"
        },
        "id": "bGwgGHkndpa3",
        "outputId": "cecddd9a-6bbe-4089-f14b-d4a87b09da07"
      },
      "execution_count": 11,
      "outputs": [
        {
          "output_type": "stream",
          "name": "stdout",
          "text": [
            "Writing manajer_anggaran.py\n"
          ]
        }
      ]
    },
    {
      "cell_type": "code",
      "source": [
        "# File 6: app.py\n",
        "%%writefile app.py\n",
        "# main_app.py\n",
        "import streamlit as st\n",
        "import datetime\n",
        "import pandas as pd\n",
        "import locale\n",
        "\n",
        "# --- Setting Locale Indonesia ---\n",
        "try:\n",
        "    locale.setlocale(locale.LC_ALL, 'id_ID.UTF-8')\n",
        "except locale.Error:\n",
        "    try:\n",
        "        locale.setlocale(locale.LC_ALL, 'Indonesian_Indonesia.1252')\n",
        "    except:\n",
        "        print(\"Locale id_ID/Indonesian tidak tersedia.\")\n",
        "\n",
        "def format_rp(angka):\n",
        "    try:\n",
        "        return locale.currency(angka or 0, grouping=True, symbol='Rp')[:-3]\n",
        "    except:\n",
        "        return f\"Rp {angka or 0:,.0f}\".replace(\",\", \".\")\n",
        "\n",
        "# --- Import Modul ---\n",
        "try:\n",
        "    from model import Transaksi\n",
        "    from manajer_anggaran import AnggaranHarian\n",
        "    from konfigurasi import KATEGORI_PENGELUARAN\n",
        "except ImportError as e:\n",
        "    st.error(f\"Gagal mengimpor modul: {e}. Pastikan file .py lain ada.\")\n",
        "    st.stop()\n",
        "\n",
        "# --- Konfigurasi Halaman ---\n",
        "st.set_page_config(page_title=\"Catatan Pengeluaran\", layout=\"wide\", initial_sidebar_state=\"expanded\")\n",
        "\n",
        "# --- Cache untuk Inisialisasi Anggaran ---\n",
        "@st.cache_resource\n",
        "def get_anggaran_manager():\n",
        "    print(\">>> STREAMLIT: (Cache Resource) Menginisialisasi AnggaranHarian...\")\n",
        "    return AnggaranHarian()\n",
        "\n",
        "anggaran = get_anggaran_manager()\n",
        "\n",
        "# --- Halaman Tambah Transaksi ---\n",
        "def halaman_input(anggaran: AnggaranHarian):\n",
        "    st.header(\"Tambah Pengeluaran Baru\")\n",
        "\n",
        "    with st.form(\"form_transaksi_baru\", clear_on_submit=True):\n",
        "        col1, col2 = st.columns([3, 1])\n",
        "        with col1:\n",
        "            deskripsi = st.text_input(\"Deskripsi*\", placeholder=\"Contoh: Makan siang\")\n",
        "        with col2:\n",
        "            kategori = st.selectbox(\"Kategori*:\", KATEGORI_PENGELUARAN, index=0)\n",
        "        col3, col4 = st.columns([1, 1])\n",
        "        with col3:\n",
        "            jumlah = st.number_input(\"Jumlah (Rp)*:\", min_value=0.01, step=1000.0, format=\"%.0f\", placeholder=\"Contoh: 25000\")\n",
        "        with col4:\n",
        "            tanggal = st.date_input(\"Tanggal*:\", value=datetime.date.today())\n",
        "\n",
        "        submitted = st.form_submit_button(\"Simpan Transaksi\")\n",
        "\n",
        "        if submitted:\n",
        "            if not deskripsi:\n",
        "                st.warning(\"Deskripsi wajib!\", icon=\"⚠️\")\n",
        "            elif jumlah is None or jumlah <= 0:\n",
        "                st.warning(\"Jumlah wajib!\", icon=\"⚠️\")\n",
        "            else:\n",
        "                with st.spinner(\"Menyimpan...\"):\n",
        "                    tx = Transaksi(deskripsi, float(jumlah), kategori, tanggal)\n",
        "                    if anggaran.tambah_transaksi(tx):\n",
        "                        st.success(\"OK! Simpan.\", icon=\"✅\")\n",
        "                        st.cache_data.clear()\n",
        "                        st.rerun()\n",
        "                    else:\n",
        "                        st.error(\"Gagal simpan.\", icon=\"❌\")\n",
        "\n",
        "# --- Halaman Riwayat Transaksi ---\n",
        "def halaman_riwayat(anggaran: AnggaranHarian):\n",
        "    st.subheader(\"Detail Semua Transaksi\")\n",
        "\n",
        "    if st.button(\"Refresh Riwayat\"):\n",
        "        st.cache_data.clear()\n",
        "        st.rerun()\n",
        "\n",
        "    with st.spinner(\"Memuat riwayat...\"):\n",
        "        df_transaksi = anggaran.get_dataframe_transaksi()\n",
        "\n",
        "    if df_transaksi is None:\n",
        "        st.error(\"Gagal ambil riwayat.\")\n",
        "    elif df_transaksi.empty:\n",
        "        st.info(\"Belum ada transaksi.\")\n",
        "\n",
        "    # Tampilkan tabel\n",
        "    st.dataframe(df_transaksi, use_container_width=True, hide_index=True)\n",
        "\n",
        "    # --- Form Hapus Transaksi ---\n",
        "    st.markdown(\"---\")\n",
        "    st.subheader(\"Hapus Transaksi\")\n",
        "    id_hapus = st.number_input(\"ID Transaksi:\", min_value=1, step=1) # Input Id yang ingin dihapus\n",
        "    if \"hapus_ditekan\" not in st.session_state:\n",
        "        st.session_state.hapus_ditekan = False\n",
        "\n",
        "    if st.button(\"Hapus Transaksi\"):\n",
        "        if id_hapus not in df_transaksi[\"id\"].values:\n",
        "            st.warning(\"ID tidak ditemukan.\", icon=\"⚠️\")\n",
        "        else:\n",
        "            st.session_state.hapus_ditekan = True\n",
        "\n",
        "    # Tampilkan tombol konfirmasi jika tombol hapus ditekan\n",
        "    if st.session_state.hapus_ditekan:\n",
        "        st.warning(f\"Yakin ingin menghapus {id_hapus} ?\", icon=\"⚠️\")\n",
        "        if st.button(\"Ya, Hapus\"):\n",
        "            if anggaran.hapus_transaksi(id_hapus):\n",
        "                st.success(\"OK! Hapus.\", icon=\"✅\")\n",
        "            else:\n",
        "                st.error(\"Gagal hapus.\", icon=\"❌\")\n",
        "            st.session_state.hapus_ditekan = False\n",
        "            st.cache_data.clear()\n",
        "            st.rerun()\n",
        "\n",
        "# --- Halaman Ringkasan Pengeluaran ---\n",
        "def halaman_ringkasan(anggaran: AnggaranHarian):\n",
        "    st.subheader(\"Ringkasan Pengeluaran\")\n",
        "    col_filter1, col_filter2 = st.columns([1, 2])\n",
        "\n",
        "    with col_filter1:\n",
        "        pilihan_periode = st.selectbox(\n",
        "            \"Filter Periode:\",\n",
        "            [\"Semua Waktu\", \"Hari Ini\", \"Pilih Tanggal\"],\n",
        "            key=\"filter_periode\",\n",
        "            on_change=lambda: st.cache_data.clear()\n",
        "        )\n",
        "\n",
        "        tanggal_filter = None\n",
        "        label_periode = \"(Semua Waktu)\"\n",
        "\n",
        "        if pilihan_periode == \"Hari Ini\":\n",
        "            tanggal_filter = datetime.date.today()\n",
        "            label_periode = f\"({tanggal_filter.strftime('%d %b')})\"\n",
        "\n",
        "        elif pilihan_periode == \"Pilih Tanggal\":\n",
        "            if 'tanggal_pilihan_state' not in st.session_state:\n",
        "                st.session_state.tanggal_pilihan_state = datetime.date.today()\n",
        "            tanggal_filter = st.date_input(\n",
        "                \"Pilih Tanggal:\",\n",
        "                value=st.session_state.tanggal_pilihan_state,\n",
        "                key=\"tanggal_pilihan\",\n",
        "                on_change=lambda: setattr(st.session_state, 'tanggal_pilihan_state', st.session_state.tanggal_pilihan) or st.cache_data.clear()\n",
        "            )\n",
        "            label_periode = f\"({tanggal_filter.strftime('%d %b %Y')})\"\n",
        "\n",
        "    with col_filter2:\n",
        "        @st.cache_data(ttl=300)\n",
        "        def hitung_total_cached(tgl_filter):\n",
        "            return anggaran.hitung_total_pengeluaran(tanggal=tgl_filter)\n",
        "\n",
        "        total_pengeluaran = hitung_total_cached(tanggal_filter)\n",
        "        st.metric(label=f\"Total Pengeluaran {label_periode}\", value=format_rp(total_pengeluaran))\n",
        "\n",
        "    st.divider()\n",
        "    st.subheader(f\"Pengeluaran per Kategori {label_periode}\")\n",
        "\n",
        "    @st.cache_data(ttl=300)\n",
        "    def get_kategori_cached(tgl_filter):\n",
        "        return anggaran.get_pengeluaran_per_kategori(tanggal=tgl_filter)\n",
        "\n",
        "    with st.spinner(\"Memuat ringkasan kategori...\"):\n",
        "        dict_per_kategori = get_kategori_cached(tanggal_filter)\n",
        "\n",
        "    if not dict_per_kategori:\n",
        "        st.info(\"Tidak ada data untuk periode ini.\")\n",
        "    else:\n",
        "        try:\n",
        "            data_kategori = [{\"Kategori\": k, \"Total\": v} for k, v in dict_per_kategori.items()]\n",
        "            df_kategori = pd.DataFrame(data_kategori).sort_values(by=\"Total\", ascending=False).reset_index(drop=True)\n",
        "            df_kategori['Total (Rp)'] = df_kategori['Total'].apply(format_rp)\n",
        "\n",
        "            col_kat1, col_kat2 = st.columns(2)\n",
        "            with col_kat1:\n",
        "                st.write(\"Tabel:\")\n",
        "                st.dataframe(df_kategori[['Kategori', 'Total (Rp)']], hide_index=True, use_container_width=True)\n",
        "            with col_kat2:\n",
        "                st.write(\"Grafik:\")\n",
        "                st.bar_chart(df_kategori.set_index('Kategori')['Total'], use_container_width=True)\n",
        "        except Exception as e:\n",
        "            st.error(f\"Gagal tampilkan ringkasan: {e}\")\n",
        "\n",
        "# --- Fungsi Utama ---\n",
        "def main():\n",
        "    st.sidebar.title(\"Catatan Pengeluaran\")\n",
        "    menu_pilihan = st.sidebar.radio(\"Pilih Menu:\", [\"Tambah\", \"Riwayat\", \"Ringkasan\"], key=\"menu_utama\")\n",
        "    st.sidebar.markdown(\"---\")\n",
        "    st.sidebar.info(\"Jobsheet - Aplikasi Keuangan\")\n",
        "\n",
        "    manajer_anggaran = get_anggaran_manager()\n",
        "\n",
        "    if menu_pilihan == \"Tambah\":\n",
        "        halaman_input(manajer_anggaran)\n",
        "    elif menu_pilihan == \"Riwayat\":\n",
        "        halaman_riwayat(manajer_anggaran)\n",
        "    elif menu_pilihan == \"Ringkasan\":\n",
        "        halaman_ringkasan(manajer_anggaran)\n",
        "\n",
        "    st.markdown(\"---\")\n",
        "    st.caption(\"Pengembangan Aplikasi Berbasis OOP - ImNotDanish05\")\n",
        "\n",
        "if __name__ == \"__main__\":\n",
        "    main()"
      ],
      "metadata": {
        "colab": {
          "base_uri": "https://localhost:8080/"
        },
        "id": "TzLLnKGMuBAq",
        "outputId": "2d96dda5-0ac8-426d-cdc2-48e71474b120"
      },
      "execution_count": 12,
      "outputs": [
        {
          "output_type": "stream",
          "name": "stdout",
          "text": [
            "Writing app.py\n"
          ]
        }
      ]
    },
    {
      "cell_type": "code",
      "source": [
        "!python3 /content/setup_db_pengeluaran.py\n",
        "!python3 /content/database.py\n",
        "!python3 /content/model.py\n",
        "!python3 /content/manajer_anggaran.py\n",
        "!python3 /content/konfigurasi.py\n",
        "!python3 /content/pengeluaran_harian.db\n",
        "!ls"
      ],
      "metadata": {
        "colab": {
          "base_uri": "https://localhost:8080/"
        },
        "id": "aPar6-SR41Aw",
        "outputId": "cfc30076-49e4-4366-a605-620a95ff103c"
      },
      "execution_count": 13,
      "outputs": [
        {
          "output_type": "stream",
          "name": "stdout",
          "text": [
            "--- Memulai Setup Database Pengeluaran ---\n",
            "Memeriksa/membuat database di: /content/pengeluaran_harian.db\n",
            "Membuat tabel 'transaksi' (jika belum ada)...\n",
            "-> Tabel 'transaksi' siap.\n",
            "-> Koneksi DB setup ditutup.\n",
            "\n",
            "Setup database 'pengeluaran_harian.db' selesai.\n",
            "--- Setup Database Selesai ---\n",
            "  File \"/content/pengeluaran_harian.db\", line 1\n",
            "    SQLite format 3\n",
            "SyntaxError: source code cannot contain null bytes\n",
            "app.py\t\tmanajer_anggaran.py    sample_data\n",
            "database.py\tmodel.py\t       setup_db_pengeluaran.py\n",
            "drive\t\tpengeluaran_harian.db  testapp.py\n",
            "konfigurasi.py\t__pycache__\n"
          ]
        }
      ]
    },
    {
      "cell_type": "code",
      "source": [
        "web(\"app.py\")"
      ],
      "metadata": {
        "colab": {
          "base_uri": "https://localhost:8080/"
        },
        "id": "a-4TjMqD5pOl",
        "outputId": "f1f42bdf-b112-424d-b07e-93b9370e8ded"
      },
      "execution_count": 16,
      "outputs": [
        {
          "output_type": "stream",
          "name": "stdout",
          "text": [
            "Authtoken saved to configuration file: /root/.config/ngrok/ngrok.yml\n",
            "Streamlit ready at: NgrokTunnel: \"https://b5b7-34-21-19-251.ngrok-free.app\" -> \"http://localhost:8501\"\n",
            "Apakah anda selesai ? Tulis \"iya\" jika selesai: iya\n",
            "Oke, hancurkan ngrok\n"
          ]
        }
      ]
    }
  ]
}
