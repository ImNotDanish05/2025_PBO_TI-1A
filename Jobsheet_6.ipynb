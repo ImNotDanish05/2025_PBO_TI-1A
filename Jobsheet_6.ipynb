{
  "nbformat": 4,
  "nbformat_minor": 0,
  "metadata": {
    "colab": {
      "provenance": [],
      "authorship_tag": "ABX9TyNI+KYhQINrVuBRVMcjGp9D",
      "include_colab_link": true
    },
    "kernelspec": {
      "name": "python3",
      "display_name": "Python 3"
    },
    "language_info": {
      "name": "python"
    }
  },
  "cells": [
    {
      "cell_type": "markdown",
      "metadata": {
        "id": "view-in-github",
        "colab_type": "text"
      },
      "source": [
        "<a href=\"https://colab.research.google.com/github/ImNotDanish05/2025_PBO_TI-1A/blob/main/Jobsheet_6.ipynb\" target=\"_parent\"><img src=\"https://colab.research.google.com/assets/colab-badge.svg\" alt=\"Open In Colab\"/></a>"
      ]
    },
    {
      "cell_type": "code",
      "execution_count": 16,
      "metadata": {
        "id": "QpwKBtoiNpNq",
        "colab": {
          "base_uri": "https://localhost:8080/"
        },
        "outputId": "aea8df30-7721-4fa8-af5d-06eb96866ba8"
      },
      "outputs": [
        {
          "output_type": "stream",
          "name": "stdout",
          "text": [
            "Lamb mulai berjalan\n",
            "Mesin dalam status operasional\n"
          ]
        }
      ],
      "source": [
        "from abc import ABC, abstractmethod\n",
        "\n",
        "\n",
        "class MesinAbstrak(ABC):\n",
        "    def __init__(self, name):\n",
        "        self.name = name\n",
        "\n",
        "    @abstractmethod\n",
        "    def mulai(self):\n",
        "      raise NotImplementError\n",
        "\n",
        "    @abstractmethod\n",
        "    def berhenti(self):\n",
        "      raise NotImplementError\n",
        "\n",
        "    def status(self):\n",
        "      print(\"Mesin dalam status operasional\")\n",
        "\n",
        "class MesinMobil(MesinAbstrak):\n",
        "    def mulai(self):\n",
        "        print(f\"{self.name} mulai berjalan\")\n",
        "\n",
        "    def berhenti(self):\n",
        "        print(f\"{self.name} berhenti berjalan\")\n",
        "\n",
        "# Penggunaan\n",
        "mesin_mobil = MesinMobil(\"Lamb\")\n",
        "mesin_mobil.mulai()\n",
        "mesin_mobil.status()\n"
      ]
    },
    {
      "cell_type": "code",
      "source": [
        "# Ini akan error karena class induk punya Abstract Method\n",
        "mesin_error = MesinAbstrak(\"Error\")\n",
        "mesin_error.mulai()"
      ],
      "metadata": {
        "colab": {
          "base_uri": "https://localhost:8080/",
          "height": 176
        },
        "id": "xvWtbVm4_1Ju",
        "outputId": "eddb979c-ce8e-460c-d72b-b3b8c163dd37"
      },
      "execution_count": 17,
      "outputs": [
        {
          "output_type": "error",
          "ename": "TypeError",
          "evalue": "Can't instantiate abstract class MesinAbstrak with abstract methods berhenti, mulai",
          "traceback": [
            "\u001b[0;31m---------------------------------------------------------------------------\u001b[0m",
            "\u001b[0;31mTypeError\u001b[0m                                 Traceback (most recent call last)",
            "\u001b[0;32m<ipython-input-17-e4758b6e833d>\u001b[0m in \u001b[0;36m<cell line: 0>\u001b[0;34m()\u001b[0m\n\u001b[1;32m      1\u001b[0m \u001b[0;31m# Ini akan error karena class induk punya Abstract Method\u001b[0m\u001b[0;34m\u001b[0m\u001b[0;34m\u001b[0m\u001b[0m\n\u001b[0;32m----> 2\u001b[0;31m \u001b[0mmesin_error\u001b[0m \u001b[0;34m=\u001b[0m \u001b[0mMesinAbstrak\u001b[0m\u001b[0;34m(\u001b[0m\u001b[0;34m\"Error\"\u001b[0m\u001b[0;34m)\u001b[0m\u001b[0;34m\u001b[0m\u001b[0;34m\u001b[0m\u001b[0m\n\u001b[0m\u001b[1;32m      3\u001b[0m \u001b[0mmesin_error\u001b[0m\u001b[0;34m.\u001b[0m\u001b[0mmulai\u001b[0m\u001b[0;34m(\u001b[0m\u001b[0;34m)\u001b[0m\u001b[0;34m\u001b[0m\u001b[0;34m\u001b[0m\u001b[0m\n",
            "\u001b[0;31mTypeError\u001b[0m: Can't instantiate abstract class MesinAbstrak with abstract methods berhenti, mulai"
          ]
        }
      ]
    },
    {
      "cell_type": "markdown",
      "source": [
        "# **Praktikum 1: Mendefinisikan Kelas Abstrak Sederhana**"
      ],
      "metadata": {
        "id": "r1c3NECSAg6T"
      }
    },
    {
      "cell_type": "code",
      "source": [
        "# Import komponen yang diperlukan\n",
        "from abc import ABC, abstractmethod\n",
        "\n",
        "# 1. Definisikan kelas abstrak\n",
        "#    Kelas ini mewarisi dari ABC untuk menandakan bahwa ini adalah Abstract Base Class\n",
        "class KendaraanAbstrak(ABC):\n",
        "  def __init__(self, merk):\n",
        "    self.merk = merk\n",
        "    print(f\"Inisialisasi Kendaraan dengan merk {self.merk}\")\n",
        "\n",
        "  # Metode Konkret(tidak abstrak)\n",
        "  # Metode ini sudah memiliki implementasi dan bisa diwarisi langsung\n",
        "  def info_merk(self):\n",
        "    print(f\"Merk kendaraan ini adalah {self.merk}\")\n",
        "\n",
        "  # 2. Definisikan Metode Abstrak\n",
        "  #    Dekorator @abstractmethod menandakan metode ini WAJIB\n",
        "  #    Dioverride oleh subclass konkret\n",
        "  @abstractmethod\n",
        "  def start_mesin(self):\n",
        "    # Kode di dalam metode ini adalah implementasinya\n",
        "    print(f\"[AB] Mesin mobil {self.merk} dinyalakan\")\n",
        "\n",
        "  @abstractmethod\n",
        "  def stop_mesin(self):\n",
        "    # Kode di dalam metode ini adalah implementasinya\n",
        "    print(f\"[AB] Mesin mobil {self.merk} dimatikan\")\n",
        "\n",
        "# --- Kode Utama (hanya definisi, belum ada instansi kelas abstrak)\n",
        "\n",
        "if __name__ == \"__main__\":\n",
        "  print(\"Definisi kelas abstrak 'Kendaraan Abstrak' selesai\")\n",
        "\n",
        "  # Contoh definisi kelas anak (konkret)\n",
        "  # Kelas ini mewarisi dari kelas abstrak\n",
        "  class Mobil(KendaraanAbstrak):\n",
        "    #Implementasi metode abstrak start_mesin\n",
        "    def start_mesin(self):\n",
        "      print(f\"Mesin mobil {self.merk} dinyalakan\")\n",
        "\n",
        "    #Implementasi metode abstrak stop_mesin\n",
        "    def stop_mesin(self):\n",
        "      print(f\"Mesin mobil {self.merk} dimatikan\")\n",
        "\n",
        "  print(f\"\\nContoh implementasi kelas anak 'Mobil' selesai\")\n",
        "\n",
        "  # Membuat objek dari kelas anak (konkret) diperbolehkan\n",
        "  mobil_contoh = Mobil(\"Toyota\")\n",
        "\n",
        "  # Memanggil metode yang ada di kelas anak\n",
        "  mobil_contoh.start_mesin()\n",
        "\n",
        "  # Memanggil metode yang ada di kelas anak\n",
        "  mobil_contoh.info_merk()\n",
        "\n",
        "  # Memanggil metode yang ada di kelas anak\n",
        "  mobil_contoh.stop_mesin()"
      ],
      "metadata": {
        "colab": {
          "base_uri": "https://localhost:8080/"
        },
        "id": "zMyomk8oAI_J",
        "outputId": "12d3427b-0a0a-427b-b430-234d9bd00558"
      },
      "execution_count": 18,
      "outputs": [
        {
          "output_type": "stream",
          "name": "stdout",
          "text": [
            "Definisi kelas abstrak 'Kendaraan Abstrak' selesai\n",
            "\n",
            "Contoh implementasi kelas anak 'Mobil' selesai\n",
            "Inisialisasi Kendaraan dengan merk Toyota\n",
            "Mesin mobil Toyota dinyalakan\n",
            "Merk kendaraan ini adalah Toyota\n",
            "Mesin mobil Toyota dimatikan\n"
          ]
        }
      ]
    },
    {
      "cell_type": "markdown",
      "source": [
        "# **Praktikum 02: Mencoba Instansi Kelas Abstrak**"
      ],
      "metadata": {
        "id": "-sjgmh0dILON"
      }
    },
    {
      "cell_type": "code",
      "source": [
        "# Import package abstractmethod\n",
        "from abc import ABC, abstractmethod\n",
        "\n",
        "# Definisi kelas abstrak\n",
        "class MediaAbstrak(ABC):\n",
        "  def __init__(self, judul):\n",
        "    self.judul = judul\n",
        "    print(f\"Inisialisasi MediaAbstrak dengan judul {self.judul}\")\n",
        "  def info_judul(self):\n",
        "    print(f\"Judul media ini adalah {self.judul}\")\n",
        "  @abstractmethod\n",
        "  def play(self):\n",
        "    \"\"\"Metode abstrak untuk memulai peputaran\"\"\"\n",
        "    pass\n",
        "  @abstractmethod\n",
        "  def pause(self):\n",
        "    \"\"\"Metode abstrak untuk memulai peputaran\"\"\"\n",
        "    pass\n",
        "  def stop(self):\n",
        "    \"\"\"Metoe abstrak untuk memulai peputaran\"\"\"\n",
        "    pass\n",
        "  # Metode Konkret(tidak abstrak)\n",
        "  # Metode ini sudah memiliki implementasi dan bisa diwarisi langsung\n",
        "  def info_judul(self):\n",
        "    print(f\"Judul media ini adalah {self.judul}\")\n",
        "\n",
        "# Kode Utama\n",
        "if __name__ == \"__main__\":\n",
        "  print(f\"Mencoba membuat objek dari kelas abstrak MediaAbstrak\")\n",
        "\n",
        "  # Block error code dengan menangkap error dari try-except\n",
        "\n",
        "  try:\n",
        "    pass\n",
        "    # Baris ini akan Error karena MediaAbstrak saja\n",
        "    media = MediaAbstrak(\"Contoh Media\")\n",
        "    print(\"Kode ini dan dibawah ini tidak akan pernah terkesekusi\")\n",
        "    media.play()\n",
        "    media.pause()\n",
        "    media.stop()\n",
        "  except TypeError as error:\n",
        "    # Menangkap error\n",
        "    print(f\"Create Objek MediaAbstrak gagal :V\")\n",
        "    print(f\"Alasan Error: {error}\")"
      ],
      "metadata": {
        "colab": {
          "base_uri": "https://localhost:8080/"
        },
        "id": "jvtlxZU7Ho49",
        "outputId": "ef3f9145-cb7b-4f4e-a082-0333b349655e"
      },
      "execution_count": 19,
      "outputs": [
        {
          "output_type": "stream",
          "name": "stdout",
          "text": [
            "Mencoba membuat objek dari kelas abstrak MediaAbstrak\n",
            "Create Objek MediaAbstrak gagal :V\n",
            "Alasan Error: Can't instantiate abstract class MediaAbstrak with abstract methods pause, play\n"
          ]
        }
      ]
    },
    {
      "cell_type": "markdown",
      "source": [
        "# **Praktikum 3: Membuat subclass Konkret - Alat Pembayaran**"
      ],
      "metadata": {
        "id": "uZZmdx3ILaso"
      }
    },
    {
      "cell_type": "code",
      "source": [
        "from abc import ABC, abstractmethod\n",
        "import locale\n",
        "import random # Untuk simulasi\n",
        "\n",
        "# Setting lokasi di Indonesia\n",
        "try:\n",
        "  locale.setlocale(locale.LC_ALL, 'id_ID')\n",
        "except locale.Error:\n",
        "  print(f\"Lokasi tidak tersedia. pakai default saja\")\n",
        "\n",
        "def format_rupiah(angka):\n",
        "  try:\n",
        "    return locale.currency(angka, grouping=True, symbol='Rp ')\n",
        "  except:\n",
        "    return f\"Rp {angka:,.0f}\".replace(',', '.')\n",
        "\n",
        "class AlatPembayaranAbstrak(ABC):\n",
        "  def __init__(self, nama_metode):\n",
        "    self.nama_metode = nama_metode\n",
        "    print(f\"Inisialisasi AlatPembayaran dengan nama_metode {self.nama_metode}\")\n",
        "  def info(self):\n",
        "    print(f\"Metode pembayaran: {self.nama_metode}\")\n",
        "  @abstractmethod\n",
        "  def proses_pembayar(self, jumlah):\n",
        "    \"\"\"\n",
        "    Metode abstrak untuk memulai pembayaran\n",
        "    Harus diimplementasikan oleh subclass\n",
        "    Harus mengembalikan True jika berhasil, False jika gagal\n",
        "    \"\"\"\n",
        "    pass\n",
        "\n",
        "# Implementasi Subclass Konkret\n",
        "# 1. Subclass Konkret pertama: Kartu Kredit\n",
        "class KartuKredit(AlatPembayaranAbstrak):\n",
        "  def __init__(self, nomor_kartu, nama_pemilik):\n",
        "    super().__init__(\"Kartu Kredit\")\n",
        "    self.nomor_kartu = nomor_kartu[-4:] # Simpan 4 digit terakhir saja\n",
        "    self.nama_pemilik = nama_pemilik\n",
        "    print(f\"Kartu Kredit ******************** {self.nomor_kartu} | {self.nama_pemilik} siap!\")\n",
        "\n",
        "  # Implementasi metode abstrak proses pembayaran\n",
        "  def proses_pembayar(self, jumlah):\n",
        "    print(f\"Memproses pembayaran {format_rupiah(jumlah)} via Kartu Kredi **************** {self.nomor_kartu}...\")\n",
        "    # Simulasi keberhasilan/kegagalan\n",
        "    berhasil = random.choice([True, False])\n",
        "    if berhasil:\n",
        "      print(f\"Pembayaran Kartu Kredit berhasil!\")\n",
        "      return True\n",
        "    else:\n",
        "      print(f\"Pembayaran Kartu Kredit gagal :( (Limit tidak cukup/ Error)\")\n",
        "      return False\n",
        "\n",
        "# 2. Subclass Konkret kedua: Dompet Digital\n",
        "class DompetDigital(AlatPembayaranAbstrak):\n",
        "  def __init__(self, nomor_telepon, nama_provider):\n",
        "    super().__init__(\"Dompet Digital\")\n",
        "    self.nomor_telepon = nomor_telepon\n",
        "    self.saldo = random.randint(1000000, 10000000) # Simulasi saldo acak\n",
        "    print(f\"Dompet Digital {self.nomor_telepon} siap!\")\n",
        "    print(f\"Saldo awal: {format_rupiah(self.saldo)}\")\n",
        "\n",
        "  # Implementasi metode abstrak proses pembayaran\n",
        "  def proses_pembayar(self, jumlah):\n",
        "    print(f\"Memproses pembayaran {format_rupiah(jumlah)} via Dompet Digital {self.nomor_telepon}...\")\n",
        "    if jumlah <= self.saldo:\n",
        "      self.saldo -= jumlah\n",
        "      print(f\"Pembayaran Dompet Digital berhasil!\")\n",
        "      print(f\"Saldo sekarang: {format_rupiah(self.saldo)}\")\n",
        "      return True\n",
        "    else:\n",
        "      print(f\"Pembayaran Dompet Digital gagal :( (Limit tidak cukup/ Error)\")\n",
        "      return False\n",
        "\n",
        "# -- Kode Utama --\n",
        "if __name__ == \"__main__\":\n",
        "  print(f\"Mencoba membuat objek Alat Pembayaran\")\n",
        "  kartu_bca = KartuKredit(\"1234567890123456\", \"John Doe\")\n",
        "  gopay = DompetDigital(\"081234567890\", \"Gopay\")\n",
        "  print(f\"Melakukan pembayaran\")\n",
        "  print(f\"Mencoba membayar dengan Kartu Kredit\")\n",
        "  kartu_bca.info()\n",
        "  status = kartu_bca.proses_pembayar(100000)\n",
        "  print(f\"Status Transaksi Kartu Kredit: {'Sukses!' if status else 'Gagal Nooo'} \\n\")\n",
        "  print(f\"Mencoba membayar dengan Dompet Digital\")\n",
        "  gopay.info()\n",
        "  status = gopay.proses_pembayar(100000)\n",
        "  print(f\"Status Transaksi Dompet Digital: {'Sukses!' if status else 'Gagal Nooo'} \\n\")\n",
        "\n"
      ],
      "metadata": {
        "colab": {
          "base_uri": "https://localhost:8080/"
        },
        "id": "DX2CiQYfLGvy",
        "outputId": "e2d90436-b5ab-45f2-dc12-009b09dc672c"
      },
      "execution_count": 25,
      "outputs": [
        {
          "output_type": "stream",
          "name": "stdout",
          "text": [
            "Lokasi tidak tersedia. pakai default saja\n",
            "Mencoba membuat objek Alat Pembayaran\n",
            "Inisialisasi AlatPembayaran dengan nama_metode Kartu Kredit\n",
            "Kartu Kredit ******************** 3456 | John Doe siap!\n",
            "Inisialisasi AlatPembayaran dengan nama_metode Dompet Digital\n",
            "Dompet Digital 081234567890 siap!\n",
            "Saldo awal: Rp 4.920.184\n",
            "Melakukan pembayaran\n",
            "Mencoba membayar dengan Kartu Kredit\n",
            "Metode pembayaran: Kartu Kredit\n",
            "Memproses pembayaran Rp 100.000 via Kartu Kredi **************** 3456...\n",
            "Pembayaran Kartu Kredit berhasil!\n",
            "Status Transaksi Kartu Kredit: Sukses! \n",
            "\n",
            "Mencoba membayar dengan Dompet Digital\n",
            "Metode pembayaran: Dompet Digital\n",
            "Memproses pembayaran Rp 100.000 via Dompet Digital 081234567890...\n",
            "Pembayaran Dompet Digital berhasil!\n",
            "Saldo sekarang: Rp 4.820.184\n",
            "Status Transaksi Dompet Digital: Sukses! \n",
            "\n"
          ]
        }
      ]
    },
    {
      "cell_type": "markdown",
      "source": [
        "# **Praktikum 04: Menggunakan Kelas Abstrak untuk Polimorfisme - Dokumen**"
      ],
      "metadata": {
        "id": "poUELZeXmi4X"
      }
    },
    {
      "cell_type": "code",
      "source": [
        "from abc import ABC, abstractmethod\n",
        "\n",
        "class DokumenAbstrak(ABC):\n",
        "  def __init__(self, nama_file):\n",
        "    self.nama_file = nama_file\n",
        "    print(f\"Inisialisasi DokumenAbstrak dengan nama_file {self.nama_file}\")\n",
        "\n",
        "  def info_file(self):\n",
        "    print(f\"Nama file: {self.nama_file}\")\n",
        "\n",
        "  @abstractmethod\n",
        "  def cetak(self):\n",
        "    pass\n",
        "\n",
        "  @abstractmethod\n",
        "  def simpan(self):\n",
        "    pass\n",
        "\n",
        ""
      ],
      "metadata": {
        "id": "_cJogJyLmd_w"
      },
      "execution_count": null,
      "outputs": []
    }
  ]
}