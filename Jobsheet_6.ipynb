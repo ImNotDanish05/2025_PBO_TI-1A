{
  "nbformat": 4,
  "nbformat_minor": 0,
  "metadata": {
    "colab": {
      "provenance": [],
      "authorship_tag": "ABX9TyO3v91Kr+ZdMs1e+Vshk3Qo",
      "include_colab_link": true
    },
    "kernelspec": {
      "name": "python3",
      "display_name": "Python 3"
    },
    "language_info": {
      "name": "python"
    }
  },
  "cells": [
    {
      "cell_type": "markdown",
      "metadata": {
        "id": "view-in-github",
        "colab_type": "text"
      },
      "source": [
        "<a href=\"https://colab.research.google.com/github/ImNotDanish05/2025_PBO_TI-1A/blob/main/Jobsheet_6.ipynb\" target=\"_parent\"><img src=\"https://colab.research.google.com/assets/colab-badge.svg\" alt=\"Open In Colab\"/></a>"
      ]
    },
    {
      "cell_type": "code",
      "execution_count": 2,
      "metadata": {
        "id": "QpwKBtoiNpNq",
        "colab": {
          "base_uri": "https://localhost:8080/"
        },
        "outputId": "20ceb0a8-5ef9-45e9-aed3-52aab1eee337"
      },
      "outputs": [
        {
          "output_type": "stream",
          "name": "stdout",
          "text": [
            "Lamb mulai berjalan\n",
            "Mesin dalam status operasional\n"
          ]
        }
      ],
      "source": [
        "from abc import ABC, abstractmethod\n",
        "\n",
        "\n",
        "class MesinAbstrak(ABC):\n",
        "    def __init__(self, name):\n",
        "        self.name = name\n",
        "\n",
        "    @abstractmethod\n",
        "    def mulai(self):\n",
        "      raise NotImplementError\n",
        "\n",
        "    @abstractmethod\n",
        "    def berhenti(self):\n",
        "      raise NotImplementError\n",
        "\n",
        "    def status(self):\n",
        "      print(\"Mesin dalam status operasional\")\n",
        "\n",
        "class MesinMobil(MesinAbstrak):\n",
        "    def mulai(self):\n",
        "        print(f\"{self.name} mulai berjalan\")\n",
        "\n",
        "    def berhenti(self):\n",
        "        print(f\"{self.name} berhenti berjalan\")\n",
        "\n",
        "# Penggunaan\n",
        "mesin_mobil = MesinMobil(\"Lamb\")\n",
        "mesin_mobil.mulai()\n",
        "mesin_mobil.status()\n"
      ]
    },
    {
      "cell_type": "code",
      "source": [
        "# Ini akan error karena class induk punya Abstract Method\n",
        "mesin_error = MesinAbstrak(\"Error\")\n",
        "mesin_error.mulai()"
      ],
      "metadata": {
        "id": "xvWtbVm4_1Ju",
        "outputId": "4c4e7f17-31fb-4505-ddd3-a8fdbb651c7b",
        "colab": {
          "base_uri": "https://localhost:8080/",
          "height": 176
        }
      },
      "execution_count": 3,
      "outputs": [
        {
          "output_type": "error",
          "ename": "TypeError",
          "evalue": "Can't instantiate abstract class MesinAbstrak with abstract methods berhenti, mulai",
          "traceback": [
            "\u001b[0;31m---------------------------------------------------------------------------\u001b[0m",
            "\u001b[0;31mTypeError\u001b[0m                                 Traceback (most recent call last)",
            "\u001b[0;32m<ipython-input-3-e4758b6e833d>\u001b[0m in \u001b[0;36m<cell line: 0>\u001b[0;34m()\u001b[0m\n\u001b[1;32m      1\u001b[0m \u001b[0;31m# Ini akan error karena class induk punya Abstract Method\u001b[0m\u001b[0;34m\u001b[0m\u001b[0;34m\u001b[0m\u001b[0m\n\u001b[0;32m----> 2\u001b[0;31m \u001b[0mmesin_error\u001b[0m \u001b[0;34m=\u001b[0m \u001b[0mMesinAbstrak\u001b[0m\u001b[0;34m(\u001b[0m\u001b[0;34m\"Error\"\u001b[0m\u001b[0;34m)\u001b[0m\u001b[0;34m\u001b[0m\u001b[0;34m\u001b[0m\u001b[0m\n\u001b[0m\u001b[1;32m      3\u001b[0m \u001b[0mmesin_error\u001b[0m\u001b[0;34m.\u001b[0m\u001b[0mmulai\u001b[0m\u001b[0;34m(\u001b[0m\u001b[0;34m)\u001b[0m\u001b[0;34m\u001b[0m\u001b[0;34m\u001b[0m\u001b[0m\n",
            "\u001b[0;31mTypeError\u001b[0m: Can't instantiate abstract class MesinAbstrak with abstract methods berhenti, mulai"
          ]
        }
      ]
    },
    {
      "cell_type": "code",
      "source": [],
      "metadata": {
        "id": "zMyomk8oAI_J"
      },
      "execution_count": null,
      "outputs": []
    }
  ]
}