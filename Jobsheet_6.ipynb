{
  "nbformat": 4,
  "nbformat_minor": 0,
  "metadata": {
    "colab": {
      "provenance": [],
      "authorship_tag": "ABX9TyPJD+/4SkowjtJ3JrDEtajq",
      "include_colab_link": true
    },
    "kernelspec": {
      "name": "python3",
      "display_name": "Python 3"
    },
    "language_info": {
      "name": "python"
    }
  },
  "cells": [
    {
      "cell_type": "markdown",
      "metadata": {
        "id": "view-in-github",
        "colab_type": "text"
      },
      "source": [
        "<a href=\"https://colab.research.google.com/github/ImNotDanish05/2025_PBO_TI-1A/blob/main/Jobsheet_6.ipynb\" target=\"_parent\"><img src=\"https://colab.research.google.com/assets/colab-badge.svg\" alt=\"Open In Colab\"/></a>"
      ]
    },
    {
      "cell_type": "code",
      "execution_count": null,
      "metadata": {
        "id": "QpwKBtoiNpNq"
      },
      "outputs": [],
      "source": [
        "from abc import ABC, abstractmethod\n",
        "\n",
        "\n",
        "class MesinAbstrak(ABC):\n",
        "    def __init__(self, name):\n",
        "        self.name = name\n",
        "\n",
        "    @abstractmethod\n",
        "    def mulai(self):\n",
        "      raise NotImplementError\n",
        "\n",
        "    @abstractmethod\n",
        "    def berhenti(self):\n",
        "      raise NotImplementError\n",
        "\n",
        "    def status(self):\n",
        "      print(\"Mesin dalam status operasional\")\n",
        "class Kucing(Animal):\n",
        "    def mulai(self):\n",
        "        print(f\"{self.name} mulai berjalan\")\n",
        "\n",
        "    def berhenti(self):\n",
        "        print(f\"{self.name} berhenti berjalan\")"
      ]
    }
  ]
}