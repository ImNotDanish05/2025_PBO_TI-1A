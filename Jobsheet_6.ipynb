{
  "nbformat": 4,
  "nbformat_minor": 0,
  "metadata": {
    "colab": {
      "provenance": [],
      "authorship_tag": "ABX9TyN0qteWHij/xnLW97N5t5z3",
      "include_colab_link": true
    },
    "kernelspec": {
      "name": "python3",
      "display_name": "Python 3"
    },
    "language_info": {
      "name": "python"
    }
  },
  "cells": [
    {
      "cell_type": "markdown",
      "metadata": {
        "id": "view-in-github",
        "colab_type": "text"
      },
      "source": [
        "<a href=\"https://colab.research.google.com/github/ImNotDanish05/2025_PBO_TI-1A/blob/main/Jobsheet_6.ipynb\" target=\"_parent\"><img src=\"https://colab.research.google.com/assets/colab-badge.svg\" alt=\"Open In Colab\"/></a>"
      ]
    },
    {
      "cell_type": "code",
      "execution_count": 2,
      "metadata": {
        "id": "QpwKBtoiNpNq",
        "colab": {
          "base_uri": "https://localhost:8080/"
        },
        "outputId": "20ceb0a8-5ef9-45e9-aed3-52aab1eee337"
      },
      "outputs": [
        {
          "output_type": "stream",
          "name": "stdout",
          "text": [
            "Lamb mulai berjalan\n",
            "Mesin dalam status operasional\n"
          ]
        }
      ],
      "source": [
        "from abc import ABC, abstractmethod\n",
        "\n",
        "\n",
        "class MesinAbstrak(ABC):\n",
        "    def __init__(self, name):\n",
        "        self.name = name\n",
        "\n",
        "    @abstractmethod\n",
        "    def mulai(self):\n",
        "      raise NotImplementError\n",
        "\n",
        "    @abstractmethod\n",
        "    def berhenti(self):\n",
        "      raise NotImplementError\n",
        "\n",
        "    def status(self):\n",
        "      print(\"Mesin dalam status operasional\")\n",
        "\n",
        "class MesinMobil(MesinAbstrak):\n",
        "    def mulai(self):\n",
        "        print(f\"{self.name} mulai berjalan\")\n",
        "\n",
        "    def berhenti(self):\n",
        "        print(f\"{self.name} berhenti berjalan\")\n",
        "\n",
        "# Penggunaan\n",
        "mesin_mobil = MesinMobil(\"Lamb\")\n",
        "mesin_mobil.mulai()\n",
        "mesin_mobil.status()\n"
      ]
    },
    {
      "cell_type": "code",
      "source": [
        "# Ini akan error karena class induk punya Abstract Method\n",
        "mesin_error = MesinAbstrak(\"Error\")\n",
        "mesin_error.mulai()"
      ],
      "metadata": {
        "colab": {
          "base_uri": "https://localhost:8080/",
          "height": 176
        },
        "id": "xvWtbVm4_1Ju",
        "outputId": "4c4e7f17-31fb-4505-ddd3-a8fdbb651c7b"
      },
      "execution_count": 3,
      "outputs": [
        {
          "output_type": "error",
          "ename": "TypeError",
          "evalue": "Can't instantiate abstract class MesinAbstrak with abstract methods berhenti, mulai",
          "traceback": [
            "\u001b[0;31m---------------------------------------------------------------------------\u001b[0m",
            "\u001b[0;31mTypeError\u001b[0m                                 Traceback (most recent call last)",
            "\u001b[0;32m<ipython-input-3-e4758b6e833d>\u001b[0m in \u001b[0;36m<cell line: 0>\u001b[0;34m()\u001b[0m\n\u001b[1;32m      1\u001b[0m \u001b[0;31m# Ini akan error karena class induk punya Abstract Method\u001b[0m\u001b[0;34m\u001b[0m\u001b[0;34m\u001b[0m\u001b[0m\n\u001b[0;32m----> 2\u001b[0;31m \u001b[0mmesin_error\u001b[0m \u001b[0;34m=\u001b[0m \u001b[0mMesinAbstrak\u001b[0m\u001b[0;34m(\u001b[0m\u001b[0;34m\"Error\"\u001b[0m\u001b[0;34m)\u001b[0m\u001b[0;34m\u001b[0m\u001b[0;34m\u001b[0m\u001b[0m\n\u001b[0m\u001b[1;32m      3\u001b[0m \u001b[0mmesin_error\u001b[0m\u001b[0;34m.\u001b[0m\u001b[0mmulai\u001b[0m\u001b[0;34m(\u001b[0m\u001b[0;34m)\u001b[0m\u001b[0;34m\u001b[0m\u001b[0;34m\u001b[0m\u001b[0m\n",
            "\u001b[0;31mTypeError\u001b[0m: Can't instantiate abstract class MesinAbstrak with abstract methods berhenti, mulai"
          ]
        }
      ]
    },
    {
      "cell_type": "markdown",
      "source": [
        "# **Praktikum 1: Mendefinisikan Kelas Abstrak Sederhana**"
      ],
      "metadata": {
        "id": "r1c3NECSAg6T"
      }
    },
    {
      "cell_type": "code",
      "source": [
        "# Import komponen yang diperlukan\n",
        "from abc import ABC, abstractmethod\n",
        "\n",
        "# 1. Definisikan kelas abstrak\n",
        "#    Kelas ini mewarisi dari ABC untuk menandakan bahwa ini adalah Abstract Base Class\n",
        "class KendaraanAbstrak(ABC):\n",
        "  def __init__(self, merk):\n",
        "    self.merk = merk\n",
        "    print(f\"Inisialisasi Kendaraan dengan merk {self.merk}\")\n",
        "\n",
        "  # Metode Konkret(tidak abstrak)\n",
        "  # Metode ini sudah memiliki implementasi dan bisa diwarisi langsung\n",
        "  def info_merk(self):\n",
        "    print(f\"Merk kendaraan ini adalah {self.merk}\")\n",
        "\n",
        "  # 2. Definisikan Metode Abstrak\n",
        "  #    Dekorator @abstractmethod menandakan metode ini WAJIB\n",
        "  #    Dioverride oleh subclass konkret\n",
        "  @abstractmethod\n",
        "  def start_mesin(self):\n",
        "    # Kode di dalam metode ini adalah implementasinya\n",
        "    print(f\"[AB] Mesin mobil {self.merk} dinyalakan\")\n",
        "\n",
        "  @abstractmethod\n",
        "  def stop_mesin(self):\n",
        "    # Kode di dalam metode ini adalah implementasinya\n",
        "    print(f\"[AB] Mesin mobil {self.merk} dimatikan\")\n",
        "\n",
        "# --- Kode Utama (hanya definisi, belum ada instansi kelas abstrak)\n",
        "\n",
        "if __name__ == \"__main__\":\n",
        "  print(\"Definisi kelas abstrak 'Kendaraan Abstrak' selesai\")\n",
        "\n",
        "  # Contoh definisi kelas anak (konkret)\n",
        "  # Kelas ini mewarisi dari kelas abstrak\n",
        "  class Mobil(KendaraanAbstrak):\n",
        "    #Implementasi metode abstrak start_mesin\n",
        "    def start_mesin(self):\n",
        "      print(f\"Mesin mobil {self.merk} dinyalakan\")\n",
        "\n",
        "    #Implementasi metode abstrak stop_mesin\n",
        "    def stop_mesin(self):\n",
        "      print(f\"Mesin mobil {self.merk} dimatikan\")\n",
        "\n",
        "  print(f\"\\nContoh implementasi kelas anak 'Mobil' selesai\")\n",
        "\n",
        "  # Membuat objek dari kelas anak (konkret) diperbolehkan\n",
        "  mobil_contoh = Mobil(\"Toyota\")\n",
        "\n",
        "  # Memanggil metode yang ada di kelas anak\n",
        "  mobil_contoh.start_mesin()\n",
        "\n",
        "  # Memanggil metode yang ada di kelas anak\n",
        "  mobil_contoh.info_merk()\n",
        "\n",
        "  # Memanggil metode yang ada di kelas anak\n",
        "  mobil_contoh.stop_mesin()"
      ],
      "metadata": {
        "colab": {
          "base_uri": "https://localhost:8080/"
        },
        "id": "zMyomk8oAI_J",
        "outputId": "398295b0-7618-41d2-db01-26ac51227025"
      },
      "execution_count": 12,
      "outputs": [
        {
          "output_type": "stream",
          "name": "stdout",
          "text": [
            "Definisi kelas abstrak 'Kendaraan Abstrak' selesai\n",
            "\n",
            "Contoh implementasi kelas anak 'Mobil' selesai\n",
            "Inisialisasi Kendaraan dengan merk Toyota\n",
            "Mesin mobil Toyota dinyalakan\n",
            "Merk kendaraan ini adalah Toyota\n",
            "Mesin mobil Toyota dimatikan\n"
          ]
        }
      ]
    },
    {
      "cell_type": "markdown",
      "source": [
        "# **Praktikum 02: Mencoba Instansi Kelas Abstrak**"
      ],
      "metadata": {
        "id": "-sjgmh0dILON"
      }
    },
    {
      "cell_type": "code",
      "source": [
        "# Import package abstractmethod\n",
        "from abc import ABC, abstractmethod\n",
        "\n",
        "# Definisi kelas abstrak\n",
        "class MediaAbstrak(ABC):\n",
        "  def __init__(self, judul):\n",
        "    self.judul = judul\n",
        "    print(f\"Inisialisasi MediaAbstrak dengan judul {self.judul}\")\n",
        "  def info_judul(self):\n",
        "    print(f\"Judul media ini adalah {self.judul}\")\n",
        "  @abstractmethod\n",
        "  def play(self):\n",
        "    \"\"\"Metode abstrak untuk memulai peputaran\"\"\"\n",
        "    pass\n",
        "  @abstractmethod\n",
        "  def pause(self):\n",
        "    \"\"\"Metode abstrak untuk memulai peputaran\"\"\"\n",
        "    pass\n",
        "  def stop(self):\n",
        "    \"\"\"Metoe abstrak untuk memulai peputaran\"\"\"\n",
        "    pass\n",
        "  # Metode Konkret(tidak abstrak)\n",
        "  # Metode ini sudah memiliki implementasi dan bisa diwarisi langsung\n",
        "  def info_judul(self):\n",
        "    print(f\"Judul media ini adalah {self.judul}\")\n",
        "\n",
        "# Kode Utama\n",
        "if __name__ == \"__main__\":\n",
        "  print(f\"Mencoba membuat objek dari kelas abstrak MediaAbstrak\")\n",
        "\n",
        "  # Block error code dengan menangkap error dari try-except\n",
        "\n",
        "  try:\n",
        "    pass\n",
        "    # Baris ini akan Error karena MediaAbstrak saja\n",
        "    media = MediaAbstrak(\"Contoh Media\")\n",
        "    print(\"Kode ini dan dibawah ini tidak akan pernah terkesekusi\")\n",
        "    media.play()\n",
        "    media.pause()\n",
        "    media.stop()\n",
        "  except TypeError as error:\n",
        "    # Menangkap error\n",
        "    print(f\"Create Objek MediaAbstrak gagal :V\")\n",
        "    print(f\"Alasan Error: {error}\")"
      ],
      "metadata": {
        "id": "jvtlxZU7Ho49"
      },
      "execution_count": null,
      "outputs": []
    }
  ]
}