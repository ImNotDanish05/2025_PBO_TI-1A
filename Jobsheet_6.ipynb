{
  "nbformat": 4,
  "nbformat_minor": 0,
  "metadata": {
    "colab": {
      "provenance": [],
      "authorship_tag": "ABX9TyP5OIgKmzwgi0/xB9AlTann",
      "include_colab_link": true
    },
    "kernelspec": {
      "name": "python3",
      "display_name": "Python 3"
    },
    "language_info": {
      "name": "python"
    }
  },
  "cells": [
    {
      "cell_type": "markdown",
      "metadata": {
        "id": "view-in-github",
        "colab_type": "text"
      },
      "source": [
        "<a href=\"https://colab.research.google.com/github/ImNotDanish05/2025_PBO_TI-1A/blob/main/Jobsheet_6.ipynb\" target=\"_parent\"><img src=\"https://colab.research.google.com/assets/colab-badge.svg\" alt=\"Open In Colab\"/></a>"
      ]
    },
    {
      "cell_type": "code",
      "execution_count": 3,
      "metadata": {
        "id": "QpwKBtoiNpNq",
        "colab": {
          "base_uri": "https://localhost:8080/"
        },
        "outputId": "219f76c7-86a6-40e7-b518-a2a860c75a5d"
      },
      "outputs": [
        {
          "output_type": "stream",
          "name": "stdout",
          "text": [
            "Lamb mulai berjalan\n",
            "Mesin dalam status operasional\n"
          ]
        }
      ],
      "source": [
        "from abc import ABC, abstractmethod\n",
        "\n",
        "\n",
        "class MesinAbstrak(ABC):\n",
        "    def __init__(self, name):\n",
        "        self.name = name\n",
        "\n",
        "    @abstractmethod\n",
        "    def mulai(self):\n",
        "      raise NotImplementError\n",
        "\n",
        "    @abstractmethod\n",
        "    def berhenti(self):\n",
        "      raise NotImplementError\n",
        "\n",
        "    def status(self):\n",
        "      print(\"Mesin dalam status operasional\")\n",
        "\n",
        "class MesinMobil(MesinAbstrak):\n",
        "    def mulai(self):\n",
        "        print(f\"{self.name} mulai berjalan\")\n",
        "\n",
        "    def berhenti(self):\n",
        "        print(f\"{self.name} berhenti berjalan\")\n",
        "\n",
        "# Penggunaan\n",
        "mesin_mobil = MesinMobil(\"Lamb\")\n",
        "mesin_mobil.mulai()\n",
        "mesin_mobil.status()\n"
      ]
    },
    {
      "cell_type": "code",
      "source": [
        "# Ini akan error karena class induk punya Abstract Method\n",
        "try:\n",
        "  mesin_error = MesinAbstrak(\"Error\")\n",
        "  mesin_error.mulai()\n",
        "except TypeError as e:\n",
        "  print(f\"Error: {e}\")"
      ],
      "metadata": {
        "colab": {
          "base_uri": "https://localhost:8080/"
        },
        "id": "xvWtbVm4_1Ju",
        "outputId": "e46adb9f-4485-41ae-9685-07589980626c"
      },
      "execution_count": 4,
      "outputs": [
        {
          "output_type": "stream",
          "name": "stdout",
          "text": [
            "Error: Can't instantiate abstract class MesinAbstrak with abstract methods berhenti, mulai\n"
          ]
        }
      ]
    },
    {
      "cell_type": "markdown",
      "source": [
        "# **Praktikum 1: Mendefinisikan Kelas Abstrak Sederhana**"
      ],
      "metadata": {
        "id": "r1c3NECSAg6T"
      }
    },
    {
      "cell_type": "code",
      "source": [
        "# Import komponen yang diperlukan\n",
        "from abc import ABC, abstractmethod\n",
        "\n",
        "# 1. Definisikan kelas abstrak\n",
        "#    Kelas ini mewarisi dari ABC untuk menandakan bahwa ini adalah Abstract Base Class\n",
        "class KendaraanAbstrak(ABC):\n",
        "  def __init__(self, merk):\n",
        "    self.merk = merk\n",
        "    print(f\"Inisialisasi Kendaraan dengan merk {self.merk}\")\n",
        "\n",
        "  # Metode Konkret(tidak abstrak)\n",
        "  # Metode ini sudah memiliki implementasi dan bisa diwarisi langsung\n",
        "  def info_merk(self):\n",
        "    print(f\"Merk kendaraan ini adalah {self.merk}\")\n",
        "\n",
        "  # 2. Definisikan Metode Abstrak\n",
        "  #    Dekorator @abstractmethod menandakan metode ini WAJIB\n",
        "  #    Dioverride oleh subclass konkret\n",
        "  @abstractmethod\n",
        "  def start_mesin(self):\n",
        "    # Kode di dalam metode ini adalah implementasinya\n",
        "    print(f\"[AB] Mesin mobil {self.merk} dinyalakan\")\n",
        "\n",
        "  @abstractmethod\n",
        "  def stop_mesin(self):\n",
        "    # Kode di dalam metode ini adalah implementasinya\n",
        "    print(f\"[AB] Mesin mobil {self.merk} dimatikan\")\n",
        "\n",
        "# --- Kode Utama (hanya definisi, belum ada instansi kelas abstrak)\n",
        "\n",
        "if __name__ == \"__main__\":\n",
        "  print(\"Definisi kelas abstrak 'Kendaraan Abstrak' selesai\")\n",
        "\n",
        "  # Contoh definisi kelas anak (konkret)\n",
        "  # Kelas ini mewarisi dari kelas abstrak\n",
        "  class Mobil(KendaraanAbstrak):\n",
        "    #Implementasi metode abstrak start_mesin\n",
        "    def start_mesin(self):\n",
        "      print(f\"Mesin mobil {self.merk} dinyalakan\")\n",
        "\n",
        "    #Implementasi metode abstrak stop_mesin\n",
        "    def stop_mesin(self):\n",
        "      print(f\"Mesin mobil {self.merk} dimatikan\")\n",
        "\n",
        "  print(f\"\\nContoh implementasi kelas anak 'Mobil' selesai\")\n",
        "\n",
        "  # Membuat objek dari kelas anak (konkret) diperbolehkan\n",
        "  mobil_contoh = Mobil(\"Toyota\")\n",
        "\n",
        "  # Memanggil metode yang ada di kelas anak\n",
        "  mobil_contoh.start_mesin()\n",
        "\n",
        "  # Memanggil metode yang ada di kelas anak\n",
        "  mobil_contoh.info_merk()\n",
        "\n",
        "  # Memanggil metode yang ada di kelas anak\n",
        "  mobil_contoh.stop_mesin()"
      ],
      "metadata": {
        "colab": {
          "base_uri": "https://localhost:8080/"
        },
        "id": "zMyomk8oAI_J",
        "outputId": "69ed5aad-f736-4b3c-8462-2852a5920e73"
      },
      "execution_count": 5,
      "outputs": [
        {
          "output_type": "stream",
          "name": "stdout",
          "text": [
            "Definisi kelas abstrak 'Kendaraan Abstrak' selesai\n",
            "\n",
            "Contoh implementasi kelas anak 'Mobil' selesai\n",
            "Inisialisasi Kendaraan dengan merk Toyota\n",
            "Mesin mobil Toyota dinyalakan\n",
            "Merk kendaraan ini adalah Toyota\n",
            "Mesin mobil Toyota dimatikan\n"
          ]
        }
      ]
    },
    {
      "cell_type": "markdown",
      "source": [
        "# **Praktikum 02: Mencoba Instansi Kelas Abstrak**"
      ],
      "metadata": {
        "id": "-sjgmh0dILON"
      }
    },
    {
      "cell_type": "code",
      "source": [
        "# Import package abstractmethod\n",
        "from abc import ABC, abstractmethod\n",
        "\n",
        "# Definisi kelas abstrak\n",
        "class MediaAbstrak(ABC):\n",
        "  def __init__(self, judul):\n",
        "    self.judul = judul\n",
        "    print(f\"Inisialisasi MediaAbstrak dengan judul {self.judul}\")\n",
        "  def info_judul(self):\n",
        "    print(f\"Judul media ini adalah {self.judul}\")\n",
        "  @abstractmethod\n",
        "  def play(self):\n",
        "    \"\"\"Metode abstrak untuk memulai peputaran\"\"\"\n",
        "    pass\n",
        "  @abstractmethod\n",
        "  def pause(self):\n",
        "    \"\"\"Metode abstrak untuk memulai peputaran\"\"\"\n",
        "    pass\n",
        "  def stop(self):\n",
        "    \"\"\"Metoe abstrak untuk memulai peputaran\"\"\"\n",
        "    pass\n",
        "  # Metode Konkret(tidak abstrak)\n",
        "  # Metode ini sudah memiliki implementasi dan bisa diwarisi langsung\n",
        "  def info_judul(self):\n",
        "    print(f\"Judul media ini adalah {self.judul}\")\n",
        "\n",
        "# Kode Utama\n",
        "if __name__ == \"__main__\":\n",
        "  print(f\"Mencoba membuat objek dari kelas abstrak MediaAbstrak\")\n",
        "\n",
        "  # Block error code dengan menangkap error dari try-except\n",
        "\n",
        "  try:\n",
        "    pass\n",
        "    # Baris ini akan Error karena MediaAbstrak saja\n",
        "    media = MediaAbstrak(\"Contoh Media\")\n",
        "    print(\"Kode ini dan dibawah ini tidak akan pernah terkesekusi\")\n",
        "    media.play()\n",
        "    media.pause()\n",
        "    media.stop()\n",
        "  except TypeError as error:\n",
        "    # Menangkap error\n",
        "    print(f\"Create Objek MediaAbstrak gagal :V\")\n",
        "    print(f\"Alasan Error: {error}\")"
      ],
      "metadata": {
        "colab": {
          "base_uri": "https://localhost:8080/"
        },
        "id": "jvtlxZU7Ho49",
        "outputId": "03a14147-51c5-4469-9ea1-1198b9803300"
      },
      "execution_count": 6,
      "outputs": [
        {
          "output_type": "stream",
          "name": "stdout",
          "text": [
            "Mencoba membuat objek dari kelas abstrak MediaAbstrak\n",
            "Create Objek MediaAbstrak gagal :V\n",
            "Alasan Error: Can't instantiate abstract class MediaAbstrak with abstract methods pause, play\n"
          ]
        }
      ]
    },
    {
      "cell_type": "markdown",
      "source": [
        "# **Praktikum 3: Membuat subclass Konkret - Alat Pembayaran**"
      ],
      "metadata": {
        "id": "uZZmdx3ILaso"
      }
    },
    {
      "cell_type": "code",
      "source": [
        "from abc import ABC, abstractmethod\n",
        "import locale\n",
        "import random # Untuk simulasi\n",
        "\n",
        "# Setting lokasi di Indonesia\n",
        "try:\n",
        "  locale.setlocale(locale.LC_ALL, 'id_ID')\n",
        "except locale.Error:\n",
        "  print(f\"Lokasi tidak tersedia. pakai default saja\")\n",
        "\n",
        "def format_rupiah(angka):\n",
        "  try:\n",
        "    return locale.currency(angka, grouping=True, symbol='Rp ')\n",
        "  except:\n",
        "    return f\"Rp {angka:,.0f}\".replace(',', '.')\n",
        "\n",
        "class AlatPembayaranAbstrak(ABC):\n",
        "  def __init__(self, nama_metode):\n",
        "    self.nama_metode = nama_metode\n",
        "    print(f\"Inisialisasi AlatPembayaran dengan nama_metode {self.nama_metode}\")\n",
        "  def info(self):\n",
        "    print(f\"Metode pembayaran: {self.nama_metode}\")\n",
        "  @abstractmethod\n",
        "  def proses_pembayar(self, jumlah):\n",
        "    \"\"\"\n",
        "    Metode abstrak untuk memulai pembayaran\n",
        "    Harus diimplementasikan oleh subclass\n",
        "    Harus mengembalikan True jika berhasil, False jika gagal\n",
        "    \"\"\"\n",
        "    pass\n",
        "\n",
        "# Implementasi Subclass Konkret\n",
        "# 1. Subclass Konkret pertama: Kartu Kredit\n",
        "class KartuKredit(AlatPembayaranAbstrak):\n",
        "  def __init__(self, nomor_kartu, nama_pemilik):\n",
        "    super().__init__(\"Kartu Kredit\")\n",
        "    self.nomor_kartu = nomor_kartu[-4:] # Simpan 4 digit terakhir saja\n",
        "    self.nama_pemilik = nama_pemilik\n",
        "    print(f\"Kartu Kredit ******************** {self.nomor_kartu} | {self.nama_pemilik} siap!\")\n",
        "\n",
        "  # Implementasi metode abstrak proses pembayaran\n",
        "  def proses_pembayar(self, jumlah):\n",
        "    print(f\"Memproses pembayaran {format_rupiah(jumlah)} via Kartu Kredi **************** {self.nomor_kartu}...\")\n",
        "    # Simulasi keberhasilan/kegagalan\n",
        "    berhasil = random.choice([True, False])\n",
        "    if berhasil:\n",
        "      print(f\"Pembayaran Kartu Kredit berhasil!\")\n",
        "      return True\n",
        "    else:\n",
        "      print(f\"Pembayaran Kartu Kredit gagal :( (Limit tidak cukup/ Error)\")\n",
        "      return False\n",
        "\n",
        "# 2. Subclass Konkret kedua: Dompet Digital\n",
        "class DompetDigital(AlatPembayaranAbstrak):\n",
        "  def __init__(self, nomor_telepon, nama_provider):\n",
        "    super().__init__(\"Dompet Digital\")\n",
        "    self.nomor_telepon = nomor_telepon\n",
        "    self.saldo = random.randint(1000000, 10000000) # Simulasi saldo acak\n",
        "    print(f\"Dompet Digital {self.nomor_telepon} siap!\")\n",
        "    print(f\"Saldo awal: {format_rupiah(self.saldo)}\")\n",
        "\n",
        "  # Implementasi metode abstrak proses pembayaran\n",
        "  def proses_pembayar(self, jumlah):\n",
        "    print(f\"Memproses pembayaran {format_rupiah(jumlah)} via Dompet Digital {self.nomor_telepon}...\")\n",
        "    if jumlah <= self.saldo:\n",
        "      self.saldo -= jumlah\n",
        "      print(f\"Pembayaran Dompet Digital berhasil!\")\n",
        "      print(f\"Saldo sekarang: {format_rupiah(self.saldo)}\")\n",
        "      return True\n",
        "    else:\n",
        "      print(f\"Pembayaran Dompet Digital gagal :( (Limit tidak cukup/ Error)\")\n",
        "      return False\n",
        "\n",
        "# -- Kode Utama --\n",
        "if __name__ == \"__main__\":\n",
        "  print(f\"Mencoba membuat objek Alat Pembayaran\")\n",
        "  kartu_bca = KartuKredit(\"1234567890123456\", \"John Doe\")\n",
        "  gopay = DompetDigital(\"081234567890\", \"Gopay\")\n",
        "  print(f\"Melakukan pembayaran\")\n",
        "  print(f\"Mencoba membayar dengan Kartu Kredit\")\n",
        "  kartu_bca.info()\n",
        "  status = kartu_bca.proses_pembayar(100000)\n",
        "  print(f\"Status Transaksi Kartu Kredit: {'Sukses!' if status else 'Gagal Nooo'} \\n\")\n",
        "  print(f\"Mencoba membayar dengan Dompet Digital\")\n",
        "  gopay.info()\n",
        "  status = gopay.proses_pembayar(100000)\n",
        "  print(f\"Status Transaksi Dompet Digital: {'Sukses!' if status else 'Gagal Nooo'} \\n\")\n",
        "\n"
      ],
      "metadata": {
        "colab": {
          "base_uri": "https://localhost:8080/"
        },
        "id": "DX2CiQYfLGvy",
        "outputId": "d0361ff5-3e3a-4a76-da94-efaae0bcc248"
      },
      "execution_count": 7,
      "outputs": [
        {
          "output_type": "stream",
          "name": "stdout",
          "text": [
            "Lokasi tidak tersedia. pakai default saja\n",
            "Mencoba membuat objek Alat Pembayaran\n",
            "Inisialisasi AlatPembayaran dengan nama_metode Kartu Kredit\n",
            "Kartu Kredit ******************** 3456 | John Doe siap!\n",
            "Inisialisasi AlatPembayaran dengan nama_metode Dompet Digital\n",
            "Dompet Digital 081234567890 siap!\n",
            "Saldo awal: Rp 1.985.169\n",
            "Melakukan pembayaran\n",
            "Mencoba membayar dengan Kartu Kredit\n",
            "Metode pembayaran: Kartu Kredit\n",
            "Memproses pembayaran Rp 100.000 via Kartu Kredi **************** 3456...\n",
            "Pembayaran Kartu Kredit gagal :( (Limit tidak cukup/ Error)\n",
            "Status Transaksi Kartu Kredit: Gagal Nooo \n",
            "\n",
            "Mencoba membayar dengan Dompet Digital\n",
            "Metode pembayaran: Dompet Digital\n",
            "Memproses pembayaran Rp 100.000 via Dompet Digital 081234567890...\n",
            "Pembayaran Dompet Digital berhasil!\n",
            "Saldo sekarang: Rp 1.885.169\n",
            "Status Transaksi Dompet Digital: Sukses! \n",
            "\n"
          ]
        }
      ]
    },
    {
      "cell_type": "markdown",
      "source": [
        "# **Praktikum 04: Menggunakan Kelas Abstrak untuk Polimorfisme - Dokumen**"
      ],
      "metadata": {
        "id": "poUELZeXmi4X"
      }
    },
    {
      "cell_type": "code",
      "source": [
        "from abc import ABC, abstractmethod\n",
        "import time\n",
        "\n",
        "class DokumenAbstrak(ABC):\n",
        "  def __init__(self, nama_file):\n",
        "    self.nama_file = nama_file\n",
        "    print(f\"Inisialisasi DokumenAbstrak dengan nama_file {self.nama_file}\")\n",
        "\n",
        "  def info_file(self):\n",
        "    print(f\"Nama file: {self.nama_file}\")\n",
        "\n",
        "  @abstractmethod\n",
        "  def cetak(self):\n",
        "    pass\n",
        "\n",
        "  @abstractmethod\n",
        "  def simpan(self):\n",
        "    pass\n",
        "\n",
        "\n",
        "# Subclass Konkret 1\n",
        "class DokumenTeks(DokumenAbstrak):\n",
        "  def __init__(self, nama_file, isi_teks):\n",
        "    super().__init__(nama_file)\n",
        "    self.isi_teks = isi_teks\n",
        "    print(f\"Tipe: Dokumen Teks\")\n",
        "  def cetak(self):\n",
        "    print(f\"Mencetak Dokumen Teks: {self.nama_file}\")\n",
        "    print(f\"=\" * 15)\n",
        "    print(self.isi_teks)\n",
        "    print(f\"=\" * 15)\n",
        "\n",
        "  def simpan(self):\n",
        "    print(f\"Menyimpan dokumen teks ke file {self.nama_file} ke disk...\")\n",
        "    # Logika penyimpanan file...\n",
        "    time.sleep(0.2)\n",
        "    print(f\"Dokumen teks berhasil disimpan ke disk\")\n",
        "\n",
        "# Subclass Konkret 2\n",
        "class SpreedSheet(DokumenAbstrak):\n",
        "  def __init__(self, nama_file, jumlah_baris, jumlah_kolom):\n",
        "    super().__init__(nama_file)\n",
        "    self.jumlah_baris = jumlah_baris\n",
        "    self.jumlah_kolom = jumlah_kolom\n",
        "    print(f\"Tipe: SpreedSheet\")\n",
        "\n",
        "  def cetak(self):\n",
        "    print(f\"Mencetak spreed sheet: {self.nama_file}\")\n",
        "    print(f\"Jumlah baris: {self.jumlah_baris}\")\n",
        "    print(f\"Jumlah kolom: {self.jumlah_kolom}\")\n",
        "    print(f\"Menampilkan Pratinjau\")\n",
        "    time.sleep(0.2)\n",
        "    print(f\"Berhasil disimpan\")\n",
        "\n",
        "  def simpan(self):\n",
        "    print(f\"Menyimpan spreed sheet ke file {self.nama_file} ke disk...\")\n",
        "    # Logika penyimpanan file...\n",
        "    time.sleep(0.2)\n",
        "    print(f\"Spreed sheet berhasil disimpan ke disk\")\n",
        "\n",
        "# Fungsi Polimorfik\n",
        "def proses_dokumen(daftar_dokumen):\n",
        "  print(f\"\\n===== MEMPROSES KESELURUHAN DOKUMEN =====\")\n",
        "  for doc in daftar_dokumen:\n",
        "    # Memanggil metode secara Polimorfik\n",
        "    print(f\"Memproses {type(doc).__name__}: {doc.nama_file}\")\n",
        "    try:\n",
        "      doc.cetak()\n",
        "      doc.simpan()\n",
        "    except Exception as e:\n",
        "      print(f\"Error: Terjadi kesalahan saat proses dokumen {doc.nama_file}: {e}\")\n",
        "  print(f\"\\nProses selesai!\")\n",
        "\n",
        "# Kode Utama\n",
        "if __name__ == \"__main__\":\n",
        "  print(f\"Mencoba membuat objek dari kelas abstrak DokumenAbstrak\")\n",
        "  dok1 = DokumenTeks(\"laporan.txt\", \"Ini adalah laporan singkat\")\n",
        "  dok2 = SpreedSheet(\"data.xlsx\", 10, 5)\n",
        "  dok3 = DokumenTeks(\"catatan_rapat.txt\", \"Poin penting: \\n- Bahas Budget \\n- Tentukan timeline\")\n",
        "  proses_dokumen([dok1, dok2, dok3])\n",
        "  print(f\"Program selesai\")\n",
        "#"
      ],
      "metadata": {
        "id": "_cJogJyLmd_w",
        "colab": {
          "base_uri": "https://localhost:8080/"
        },
        "outputId": "88d29e5e-74e7-4b9d-d5d3-617f7fe41813"
      },
      "execution_count": 10,
      "outputs": [
        {
          "output_type": "stream",
          "name": "stdout",
          "text": [
            "Mencoba membuat objek dari kelas abstrak DokumenAbstrak\n",
            "Inisialisasi DokumenAbstrak dengan nama_file laporan.txt\n",
            "Tipe: Dokumen Teks\n",
            "Inisialisasi DokumenAbstrak dengan nama_file data.xlsx\n",
            "Tipe: SpreedSheet\n",
            "Inisialisasi DokumenAbstrak dengan nama_file catatan_rapat.txt\n",
            "Tipe: Dokumen Teks\n",
            "\n",
            "===== MEMPROSES KESELURUHAN DOKUMEN =====\n",
            "Memproses DokumenTeks: laporan.txt\n",
            "Mencetak Dokumen Teks: laporan.txt\n",
            "===============\n",
            "Ini adalah laporan singkat\n",
            "===============\n",
            "Menyimpan dokumen teks ke file laporan.txt ke disk...\n",
            "Dokumen teks berhasil disimpan ke disk\n",
            "Memproses SpreedSheet: data.xlsx\n",
            "Mencetak spreed sheet: data.xlsx\n",
            "Jumlah baris: 10\n",
            "Jumlah kolom: 5\n",
            "Menampilkan Pratinjau\n",
            "Berhasil disimpan\n",
            "Menyimpan spreed sheet ke file data.xlsx ke disk...\n",
            "Spreed sheet berhasil disimpan ke disk\n",
            "Memproses DokumenTeks: catatan_rapat.txt\n",
            "Mencetak Dokumen Teks: catatan_rapat.txt\n",
            "===============\n",
            "Poin penting: \n",
            "- Bahas Budget \n",
            "- Tentukan timeline\n",
            "===============\n",
            "Menyimpan dokumen teks ke file catatan_rapat.txt ke disk...\n",
            "Dokumen teks berhasil disimpan ke disk\n",
            "\n",
            "Proses selesai!\n",
            "Program selesai\n"
          ]
        }
      ]
    },
    {
      "cell_type": "code",
      "source": [],
      "metadata": {
        "id": "R1BYsvSzcYix"
      },
      "execution_count": null,
      "outputs": []
    }
  ]
}