{
  "nbformat": 4,
  "nbformat_minor": 0,
  "metadata": {
    "colab": {
      "provenance": [],
      "authorship_tag": "ABX9TyOrR/ZdSFZXJOIgSJwkuMhp",
      "include_colab_link": true
    },
    "kernelspec": {
      "name": "python3",
      "display_name": "Python 3"
    },
    "language_info": {
      "name": "python"
    }
  },
  "cells": [
    {
      "cell_type": "markdown",
      "metadata": {
        "id": "view-in-github",
        "colab_type": "text"
      },
      "source": [
        "<a href=\"https://colab.research.google.com/github/ImNotDanish05/2025_PBO_TI-1A/blob/main/Jobsheet_4.ipynb\" target=\"_parent\"><img src=\"https://colab.research.google.com/assets/colab-badge.svg\" alt=\"Open In Colab\"/></a>"
      ]
    },
    {
      "cell_type": "markdown",
      "source": [
        "# **Praktikum 1**"
      ],
      "metadata": {
        "id": "DCfgASeGfaZx"
      }
    },
    {
      "cell_type": "code",
      "execution_count": 3,
      "metadata": {
        "id": "e1T0akV5d-qR",
        "colab": {
          "base_uri": "https://localhost:8080/"
        },
        "outputId": "81e2d9d8-84de-4b81-8fe9-ae1fe7816d5f"
      },
      "outputs": [
        {
          "output_type": "stream",
          "name": "stdout",
          "text": [
            "Ini adalah mobil bermerek Tesla dengan warna Pink\n",
            "Mesin kendaraan Tesla dimulai.\n"
          ]
        }
      ],
      "source": [
        "# Kelas Induk\n",
        "class Kendaraan:\n",
        "  def __init__ (self, merk):\n",
        "    self.merk = merk\n",
        "  def mulai_mesin(self):\n",
        "    print(f\"Mesin kendaraan {self.merk} dimulai.\")\n",
        "\n",
        "class Mobil(Kendaraan):\n",
        "  def __init__(self, merk, warna):\n",
        "    self.merk = merk\n",
        "    self.warna = warna\n",
        "  def info_mesin(self):\n",
        "    print(f\"Ini adalah mobil bermerek {self.merk} dengan warna {self.warna}\")\n",
        "\n",
        "def main():\n",
        "    # Mengidentifikasi mobil\n",
        "    mobil_tesla = Mobil(\"Tesla\", \"Pink\")\n",
        "\n",
        "    # Memanggil metode dari kelas anak\n",
        "    mobil_tesla.info_mesin()\n",
        "\n",
        "    # Memanggil metode dari kelas parent\n",
        "    mobil_tesla.mulai_mesin()\n",
        "\n",
        "if __name__ == \"__main__\":\n",
        "  main()"
      ]
    },
    {
      "cell_type": "markdown",
      "source": [
        "# **Praktikum 2**"
      ],
      "metadata": {
        "id": "6e8Xzkh64STE"
      }
    },
    {
      "cell_type": "code",
      "source": [
        "# Kelas Induk\n",
        "class Person():\n",
        "  def __init__(self, nama, umur):\n",
        "    self.nama = nama\n",
        "    self.umur = umur\n",
        "  def tampilkan_info(self):\n",
        "    print(f\"Nama: {self.nama}, Umur: {self.umur} tahun\")\n",
        "\n",
        "class Student(Person):\n",
        "  def __init__(self, nama, umur, student_id, jurusan):\n",
        "    print(f\"Memanggil __init__ student untuk {nama} dengan umur {umur}\")\n",
        "    super().__init__(nama, umur)\n",
        "    self.student_id = student_id\n",
        "    self.jurusan = jurusan\n",
        "    print(f\"Inisialisasi student bernama {nama} selesai! Yay :3\")\n",
        "  def info_akademik(self):\n",
        "    print(f\"ID: {self.student_id}, Jurusan: {self.jurusan}\")\n",
        "  def perkenalan(self):\n",
        "    super().perkenalan() # Memanggil versi Person\n",
        "    print(f\"Halo, nama saya {self.nama}, umur saya {self.umur} tahun, saya mahasiswa jurusan {self.jurusan} dengan ID {self.student_id}.\")\n",
        "\n",
        "if __name__ == \"__main__\":\n",
        "  dosen = Person(\"Bapak Anton\", 45)\n",
        "  dosen.tampilkan_info()\n",
        "  print(\"\\n\" + \"=\" * 40 + \"\\n\")\n",
        "  mahasiswa = Student(\"Adi\", 18, \"H071221056\", \"Teknik Informatika\")\n",
        "  mahasiswa.tampilkan_info()\n",
        "  mahasiswa.info_akademik()"
      ],
      "metadata": {
        "id": "BHPVjFdI4Q5U",
        "outputId": "e1ac902a-21e1-4448-c23b-c0913aebed75",
        "colab": {
          "base_uri": "https://localhost:8080/"
        }
      },
      "execution_count": 19,
      "outputs": [
        {
          "output_type": "stream",
          "name": "stdout",
          "text": [
            "Nama: Bapak Anton, Umur: 45 tahun\n",
            "\n",
            "========================================\n",
            "\n",
            "Memanggil __init__ student untuk Adi dengan umur 18\n",
            "Inisialisasi student bernama Adi selesai! Yay :3\n",
            "Nama: Adi, Umur: 18 tahun\n",
            "ID: H071221056, Jurusan: Teknik Informatika\n"
          ]
        }
      ]
    },
    {
      "cell_type": "markdown",
      "source": [
        "# **Praktikum 3**"
      ],
      "metadata": {
        "id": "S8B1lFGxQzsx"
      }
    },
    {
      "cell_type": "code",
      "source": [
        "# Kelas Induk\n",
        "class Hewan:\n",
        "  def __init__(self, nama):\n",
        "    self.nama = nama\n",
        "  def suara(self):\n",
        "    print(f\"{self.nama} mengeluarkan suara aneh :O\")\n",
        "  def info(self):\n",
        "    print(f\"Ini adalah hewan bernama {self.nama}\")\n",
        "\n",
        "class Anjing(Hewan):\n",
        "  def __init__(self, nama, ras):\n",
        "    super().__init__(nama)\n",
        "    self.ras = ras\n",
        "  def suara(self):\n",
        "    print(f\"{self.nama} menggonggong!\")\n",
        "  def info(self):\n",
        "    super().info()\n",
        "    print(f\"Ras: {self.ras}\")\n",
        "\n",
        "class Kucing(Hewan):\n",
        "  def __init__(self, nama, warna):\n",
        "    super().__init__(nama)\n",
        "    self.warna = warna\n",
        "  def suara(self):\n",
        "    print(f\"{self.nama} mengeong!\")\n",
        "  def info(self):\n",
        "    super().info()\n",
        "    print(f\"Ras: {self.ras}\")\n",
        "\n"
      ],
      "metadata": {
        "id": "yOOJ2mxQRAD1"
      },
      "execution_count": null,
      "outputs": []
    },
    {
      "cell_type": "markdown",
      "source": [
        "# **Praktikum 4**"
      ],
      "metadata": {
        "id": "DkDS3KJbQ3Xz"
      }
    },
    {
      "cell_type": "markdown",
      "source": [
        "# **Praktikum 5**"
      ],
      "metadata": {
        "id": "zhRcHfSyQ45W"
      }
    },
    {
      "cell_type": "markdown",
      "source": [
        "# **Praktikum 6**"
      ],
      "metadata": {
        "id": "YAXsV1wYQ7ds"
      }
    }
  ]
}