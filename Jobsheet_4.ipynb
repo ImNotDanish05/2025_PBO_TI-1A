{
  "nbformat": 4,
  "nbformat_minor": 0,
  "metadata": {
    "colab": {
      "provenance": [],
      "authorship_tag": "ABX9TyPrzB29z5nwVKSdxjd3gi0x",
      "include_colab_link": true
    },
    "kernelspec": {
      "name": "python3",
      "display_name": "Python 3"
    },
    "language_info": {
      "name": "python"
    }
  },
  "cells": [
    {
      "cell_type": "markdown",
      "metadata": {
        "id": "view-in-github",
        "colab_type": "text"
      },
      "source": [
        "<a href=\"https://colab.research.google.com/github/ImNotDanish05/2025_PBO_TI-1A/blob/main/Jobsheet_4.ipynb\" target=\"_parent\"><img src=\"https://colab.research.google.com/assets/colab-badge.svg\" alt=\"Open In Colab\"/></a>"
      ]
    },
    {
      "cell_type": "markdown",
      "source": [
        "# **Praktikum 1**"
      ],
      "metadata": {
        "id": "DCfgASeGfaZx"
      }
    },
    {
      "cell_type": "code",
      "execution_count": 3,
      "metadata": {
        "id": "e1T0akV5d-qR",
        "colab": {
          "base_uri": "https://localhost:8080/"
        },
        "outputId": "81e2d9d8-84de-4b81-8fe9-ae1fe7816d5f"
      },
      "outputs": [
        {
          "output_type": "stream",
          "name": "stdout",
          "text": [
            "Ini adalah mobil bermerek Tesla dengan warna Pink\n",
            "Mesin kendaraan Tesla dimulai.\n"
          ]
        }
      ],
      "source": [
        "# Kelas Induk\n",
        "class Kendaraan:\n",
        "  def __init__ (self, merk):\n",
        "    self.merk = merk\n",
        "  def mulai_mesin(self):\n",
        "    print(f\"Mesin kendaraan {self.merk} dimulai.\")\n",
        "\n",
        "class Mobil(Kendaraan):\n",
        "  def __init__(self, merk, warna):\n",
        "    self.merk = merk\n",
        "    self.warna = warna\n",
        "  def info_mesin(self):\n",
        "    print(f\"Ini adalah mobil bermerek {self.merk} dengan warna {self.warna}\")\n",
        "\n",
        "def main():\n",
        "    # Mengidentifikasi mobil\n",
        "    mobil_tesla = Mobil(\"Tesla\", \"Pink\")\n",
        "\n",
        "    # Memanggil metode dari kelas anak\n",
        "    mobil_tesla.info_mesin()\n",
        "\n",
        "    # Memanggil metode dari kelas parent\n",
        "    mobil_tesla.mulai_mesin()\n",
        "\n",
        "if __name__ == \"__main__\":\n",
        "  main()"
      ]
    }
  ]
}