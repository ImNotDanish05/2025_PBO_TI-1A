{
  "nbformat": 4,
  "nbformat_minor": 0,
  "metadata": {
    "colab": {
      "provenance": [],
      "authorship_tag": "ABX9TyOJ7r8ipstRrg4Vz9206ILh",
      "include_colab_link": true
    },
    "kernelspec": {
      "name": "python3",
      "display_name": "Python 3"
    },
    "language_info": {
      "name": "python"
    }
  },
  "cells": [
    {
      "cell_type": "markdown",
      "metadata": {
        "id": "view-in-github",
        "colab_type": "text"
      },
      "source": [
        "<a href=\"https://colab.research.google.com/github/ImNotDanish05/2025_PBO_TI-1A/blob/main/Jobsheet_4.ipynb\" target=\"_parent\"><img src=\"https://colab.research.google.com/assets/colab-badge.svg\" alt=\"Open In Colab\"/></a>"
      ]
    },
    {
      "cell_type": "markdown",
      "source": [
        "# **Praktikum 1**"
      ],
      "metadata": {
        "id": "DCfgASeGfaZx"
      }
    },
    {
      "cell_type": "code",
      "execution_count": null,
      "metadata": {
        "id": "e1T0akV5d-qR",
        "colab": {
          "base_uri": "https://localhost:8080/"
        },
        "outputId": "81e2d9d8-84de-4b81-8fe9-ae1fe7816d5f"
      },
      "outputs": [
        {
          "output_type": "stream",
          "name": "stdout",
          "text": [
            "Ini adalah mobil bermerek Tesla dengan warna Pink\n",
            "Mesin kendaraan Tesla dimulai.\n"
          ]
        }
      ],
      "source": [
        "# Kelas Induk\n",
        "class Kendaraan:\n",
        "  def __init__ (self, merk):\n",
        "    self.merk = merk\n",
        "  def mulai_mesin(self):\n",
        "    print(f\"Mesin kendaraan {self.merk} dimulai.\")\n",
        "\n",
        "class Mobil(Kendaraan):\n",
        "  def __init__(self, merk, warna):\n",
        "    self.merk = merk\n",
        "    self.warna = warna\n",
        "  def info_mesin(self):\n",
        "    print(f\"Ini adalah mobil bermerek {self.merk} dengan warna {self.warna}\")\n",
        "\n",
        "def main():\n",
        "    # Mengidentifikasi mobil\n",
        "    mobil_tesla = Mobil(\"Tesla\", \"Pink\")\n",
        "\n",
        "    # Memanggil metode dari kelas anak\n",
        "    mobil_tesla.info_mesin()\n",
        "\n",
        "    # Memanggil metode dari kelas parent\n",
        "    mobil_tesla.mulai_mesin()\n",
        "\n",
        "if __name__ == \"__main__\":\n",
        "  main()"
      ]
    },
    {
      "cell_type": "markdown",
      "source": [
        "# **Praktikum 2**"
      ],
      "metadata": {
        "id": "6e8Xzkh64STE"
      }
    },
    {
      "cell_type": "code",
      "source": [
        "# Kelas Induk\n",
        "class Person():\n",
        "  def __init__(self, nama, umur):\n",
        "    self.nama = nama\n",
        "    self.umur = umur\n",
        "  def tampilkan_info(self):\n",
        "    print(f\"Nama: {self.nama}, Umur: {self.umur} tahun\")\n",
        "\n",
        "class Student(Person):\n",
        "  def __init__(self, nama, umur, student_id, jurusan):\n",
        "    print(f\"Memanggil __init__ student untuk {nama} dengan umur {umur}\")\n",
        "    super().__init__(nama, umur)\n",
        "    self.student_id = student_id\n",
        "    self.jurusan = jurusan\n",
        "    print(f\"Inisialisasi student bernama {nama} selesai! Yay :3\")\n",
        "  def info_akademik(self):\n",
        "    print(f\"ID: {self.student_id}, Jurusan: {self.jurusan}\")\n",
        "  def perkenalan(self):\n",
        "    super().perkenalan() # Memanggil versi Person\n",
        "    print(f\"Halo, nama saya {self.nama}, umur saya {self.umur} tahun, saya mahasiswa jurusan {self.jurusan} dengan ID {self.student_id}.\")\n",
        "\n",
        "if __name__ == \"__main__\":\n",
        "  dosen = Person(\"Bapak Anton\", 45)\n",
        "  dosen.tampilkan_info()\n",
        "  print(\"\\n\" + \"=\" * 40 + \"\\n\")\n",
        "  mahasiswa = Student(\"Adi\", 18, \"H071221056\", \"Teknik Informatika\")\n",
        "  mahasiswa.tampilkan_info()\n",
        "  mahasiswa.info_akademik()"
      ],
      "metadata": {
        "colab": {
          "base_uri": "https://localhost:8080/"
        },
        "id": "BHPVjFdI4Q5U",
        "outputId": "e1ac902a-21e1-4448-c23b-c0913aebed75"
      },
      "execution_count": null,
      "outputs": [
        {
          "output_type": "stream",
          "name": "stdout",
          "text": [
            "Nama: Bapak Anton, Umur: 45 tahun\n",
            "\n",
            "========================================\n",
            "\n",
            "Memanggil __init__ student untuk Adi dengan umur 18\n",
            "Inisialisasi student bernama Adi selesai! Yay :3\n",
            "Nama: Adi, Umur: 18 tahun\n",
            "ID: H071221056, Jurusan: Teknik Informatika\n"
          ]
        }
      ]
    },
    {
      "cell_type": "markdown",
      "source": [
        "# **Praktikum 3**"
      ],
      "metadata": {
        "id": "S8B1lFGxQzsx"
      }
    },
    {
      "cell_type": "code",
      "source": [
        "# Kelas Induk\n",
        "class Hewan:\n",
        "  def __init__(self, nama):\n",
        "    self.nama = nama\n",
        "  def suara(self):\n",
        "    print(f\"{self.nama} mengeluarkan suara aneh :O\")\n",
        "  def info(self):\n",
        "    print(f\"Ini adalah hewan bernama {self.nama}\")\n",
        "\n",
        "class Anjing(Hewan):\n",
        "  def __init__(self, nama, ras):\n",
        "    super().__init__(nama)\n",
        "    self.ras = ras\n",
        "  def suara(self):\n",
        "    print(f\"{self.nama} menggonggong!\")\n",
        "  def info(self):\n",
        "    super().info()\n",
        "    print(f\"Ras: {self.ras}\")\n",
        "\n",
        "class Kucing(Hewan):\n",
        "  def __init__(self, nama, warna):\n",
        "    super().__init__(nama)\n",
        "    self.warna = warna\n",
        "  def suara(self):\n",
        "    print(f\"{self.nama} mengeong!\")\n",
        "  def info(self):\n",
        "    super().info() # buat manggil fungsi dari Kelas Induk\n",
        "    print(f\"Ras: {self.warna}\")\n",
        "\n",
        "hewan_umum = Hewan(\"Makhluk\")\n",
        "kucing_umum = Kucing(\"Kucing Umum\", \"Hitam\")\n",
        "anjing_umum = Anjing(\"Anjing Umum\", \"Golden Retriever\")\n",
        "\n",
        "hewan_umum.suara()\n",
        "kucing_umum.suara()\n",
        "\n",
        "kucing_umum.info()\n",
        "anjing_umum.info()\n",
        "\n",
        "print(\"\\n\" * 2 + \"=\" * 50 + \"\\n\" * 2)\n",
        "\n",
        "print(\"Info hewan umum:\")\n",
        "hewan_umum.info()\n",
        "print(\"\\nInfo kucing umum:\")\n",
        "kucing_umum.info()\n",
        "print(\"\\nInfo anjing umum:\")\n",
        "anjing_umum.info()\n",
        "\n",
        "print(\"\\n\" * 2 + \"=\" * 50 + \"\\n\" * 2)\n",
        "\n",
        "print(\"Suara hewan umum:\")\n",
        "hewan_umum.suara()\n",
        "print(\"\\nSuara kucing umum:\")\n",
        "kucing_umum.suara()\n",
        "print(\"\\nSuara anjing umum:\")\n",
        "anjing_umum.suara()"
      ],
      "metadata": {
        "colab": {
          "base_uri": "https://localhost:8080/"
        },
        "id": "yOOJ2mxQRAD1",
        "outputId": "083949ec-94c2-4048-d34c-8f2a2a98ca63"
      },
      "execution_count": null,
      "outputs": [
        {
          "output_type": "stream",
          "name": "stdout",
          "text": [
            "Makhluk mengeluarkan suara aneh :O\n",
            "Kucing Umum mengeong!\n",
            "Ini adalah hewan bernama Kucing Umum\n",
            "Ras: Hitam\n",
            "Ini adalah hewan bernama Anjing Umum\n",
            "Ras: Golden Retriever\n",
            "\n",
            "\n",
            "==================================================\n",
            "\n",
            "\n",
            "Info hewan umum:\n",
            "Ini adalah hewan bernama Makhluk\n",
            "\n",
            "Info kucing umum:\n",
            "Ini adalah hewan bernama Kucing Umum\n",
            "Ras: Hitam\n",
            "\n",
            "Info anjing umum:\n",
            "Ini adalah hewan bernama Anjing Umum\n",
            "Ras: Golden Retriever\n",
            "\n",
            "\n",
            "==================================================\n",
            "\n",
            "\n",
            "Suara hewan umum:\n",
            "Makhluk mengeluarkan suara aneh :O\n",
            "\n",
            "Suara kucing umum:\n",
            "Kucing Umum mengeong!\n",
            "\n",
            "Suara anjing umum:\n",
            "Anjing Umum menggonggong!\n"
          ]
        }
      ]
    },
    {
      "cell_type": "markdown",
      "source": [
        "# **Praktikum 4**"
      ],
      "metadata": {
        "id": "DkDS3KJbQ3Xz"
      }
    },
    {
      "cell_type": "code",
      "source": [
        "# Kelas Induk\n",
        "class Organisme:\n",
        "  def __init__(self, nama):\n",
        "    self.nama = nama\n",
        "    print(f\"Organisme {nama} diciptakan\")\n",
        "  def gerak(self):\n",
        "    print(f\"{self.nama} bergerak\")\n",
        "  def berkembang_biak(self):\n",
        "    print(f\"{self.nama} berkembang biak\")\n",
        "  def bernafas(self):\n",
        "    print(f\"{self.nama} bernafas\")\n",
        "\n",
        "# Kelas anak level 1\n",
        "class Hewan(Organisme):\n",
        "  def __init__(self, nama, jenis_makanan):\n",
        "    super().__init__(nama)\n",
        "    self.jenis_makanan = jenis_makanan\n",
        "    print(f\"Hewan {nama} jenis makanan {jenis_makanan} diciptakan\")\n",
        "  def makan(self):\n",
        "    print(f\"{self.nama} sedang makan\")\n",
        "  def tidur(self):\n",
        "    print(f\"{self.nama} sedang tidur\")\n",
        "  def bergerak(self):\n",
        "    super().gerak()\n",
        "\n",
        "# Kelas anak level 2\n",
        "class Mamalia(Hewan):\n",
        "  def __init__(self, nama, jenis_makanan, jenis_mamalia):\n",
        "    super().__init__(nama, jenis_makanan)\n",
        "    self.jenis_mamalia = jenis_mamalia\n",
        "    print(f\"Mamalia {nama} jenis makanan {jenis_makanan} jenis mamalia {jenis_mamalia} diciptakan\")\n",
        "  def menyusui(self):\n",
        "    print(f\"{self.nama} sedang menyusui\")\n",
        "\n",
        "def main():\n",
        "  kucing1 = Mamalia(\"Kucing\", \"Carnivora\", \"Mamalia\")\n",
        "  kucing1.menyusui()\n",
        "  kucing1.makan()\n",
        "  kucing1.bergerak()\n",
        "\n",
        "  # Jenis Makanan\n",
        "  print(\"\\n\" * 2 + \"=\" * 50 + \"\\n\" * 2)\n",
        "  print(f\"Jenis makanan: {kucing1.jenis_makanan}\")\n",
        "  print(f\"Nama organisme: {kucing1.nama}\")\n",
        "\n",
        "if __name__ == \"__main__\":\n",
        "  main()"
      ],
      "metadata": {
        "id": "zSEY1htlTa3Q",
        "outputId": "d9523986-0e00-4d4b-8ef4-cdbbe2b77c94",
        "colab": {
          "base_uri": "https://localhost:8080/"
        }
      },
      "execution_count": null,
      "outputs": [
        {
          "output_type": "stream",
          "name": "stdout",
          "text": [
            "Organisme Kucing diciptakan\n",
            "Hewan Kucing jenis makanan Carnivora diciptakan\n",
            "Mamalia Kucing jenis makanan Carnivora jenis mamalia Mamalia diciptakan\n",
            "Kucing sedang menyusui\n",
            "Kucing sedang makan\n",
            "Kucing bergerak\n",
            "\n",
            "\n",
            "==================================================\n",
            "\n",
            "\n",
            "Jenis makanan: Carnivora\n",
            "Nama organisme: Kucing\n"
          ]
        }
      ]
    },
    {
      "cell_type": "markdown",
      "source": [
        "# **Praktikum 5**"
      ],
      "metadata": {
        "id": "zhRcHfSyQ45W"
      }
    },
    {
      "cell_type": "code",
      "source": [
        "!apt-get install -y locales\n",
        "!locale-gen id_ID.UTF-8\n",
        "!locale-gen id_ID\n",
        "!export LC_ALL=\"id_ID.UTF-8\"\n",
        "!export LC_CTYPE=\"id_ID.UTF-8\"\n",
        "!dpkg-reconfigure locales\n",
        "!clear\n",
        "!locale -a"
      ],
      "metadata": {
        "id": "DEjTK1qhXwYZ",
        "outputId": "75040914-b0e1-45b7-9754-b2bd7e96547c",
        "colab": {
          "base_uri": "https://localhost:8080/"
        }
      },
      "execution_count": null,
      "outputs": [
        {
          "output_type": "stream",
          "name": "stdout",
          "text": [
            "Reading package lists... Done\n",
            "Building dependency tree... Done\n",
            "Reading state information... Done\n",
            "locales is already the newest version (2.35-0ubuntu3.9).\n",
            "0 upgraded, 0 newly installed, 0 to remove and 34 not upgraded.\n",
            "Generating locales (this might take a while)...\n",
            "  id_ID.UTF-8... done\n",
            "Generation complete.\n",
            "Generating locales (this might take a while)...\n",
            "  id_ID.ISO-8859-1... done\n",
            "Generation complete.\n",
            "Generating locales (this might take a while)...\n",
            "  en_US.UTF-8... done\n",
            "  id_ID.ISO-8859-1... done\n",
            "  id_ID.UTF-8... done\n",
            "Generation complete.\n",
            "\u001b[H\u001b[2JC\n",
            "C.utf8\n",
            "en_US.utf8\n",
            "id_ID\n",
            "id_ID.iso88591\n",
            "id_ID.utf8\n",
            "POSIX\n"
          ]
        }
      ]
    },
    {
      "cell_type": "code",
      "source": [
        "import locale\n",
        "\n",
        "try:\n",
        "  locale.setlocale(locale.LC_ALL, 'id_ID.UTF-8')\n",
        "except locale.Error:\n",
        "  print(\"Locale 'id_ID' tidak tersedia. Menggunakan default locale.\")\n",
        "  locale.setlocale(locale.LC_ALL, '')\n",
        "\n",
        "def format_rupiah(nilai):\n",
        "  return locale.currency(nilai, grouping=True, symbol='D ')\n",
        "\n",
        "class Pegawai():\n",
        "  def __init__(self, nama, id_pegawai, gaji_pokok):\n",
        "    self.nama = nama\n",
        "    self.id_pegawai = id_pegawai\n",
        "    self.gaji_pokok = gaji_pokok\n",
        "  def info(self):\n",
        "    print(f\"Nama: {self.nama}, ID: {self.id_pegawai} Gaji: {format_rupiah(self.gaji_pokok)}\")\n",
        "  def hitung_gaji(self):\n",
        "    return self.gaji_pokok\n",
        "  def hitung_bonus(self):\n",
        "    return 0\n",
        "\n",
        "class Manager(Pegawai):\n",
        "  def __init__(self, nama, id_pegawai, gaji_pokok, tunjangan_jabatan):\n",
        "    super().__init__(nama, id_pegawai, gaji_pokok)\n",
        "    self.tunjangan_jabatan = tunjangan_jabatan\n",
        "  def hitung_gaji(self):\n",
        "    return super().hitung_gaji() + self.tunjangan_jabatan\n",
        "  def hitung_bonus(self):\n",
        "    return self.gaji_pokok * 0\n",
        "  def info(self):\n",
        "    super().info()\n",
        "    print(f\"Tunjangan Jabatan: {format_rupiah(self.tunjangan_jabatan)}\")\n",
        "    print(f\"Total gaji: {format_rupiah(self.gaji_pokok)}\")\n",
        "\n",
        "class Programmer(Pegawai):\n",
        "  def __init__(self, nama, id_pegawai, gaji_pokok, keahlian, bonus_keahlian):\n",
        "    super().__init__(nama, id_pegawai, gaji_pokok)\n",
        "    self.keahlian = keahlian\n",
        "    self.bonus_keahlian = bonus_keahlian\n",
        "  def hitung_gaji(self):\n",
        "    return super().hitung_gaji() + self.bonus_keahlian\n",
        "  def hitung_bonus(self):\n",
        "    return self.gaji_pokok * 0.1\n",
        "  def info(self):\n",
        "    super().info()\n",
        "    print(f\"Keahlian: {self.keahlian}\")\n",
        "    print(f\"Bonus Keahlian: {format_rupiah(self.bonus_keahlian)}\")\n",
        "    print(f\"Total gaji: {format_rupiah(self.hitung_gaji())}\")\n",
        "\n",
        "def main():\n",
        "  # Buat manager programmer, dan programmer baru masing2 1\n",
        "  manager1 = Manager(\"Bapak Anton\", \"M001\", 10000000, 2000000)\n",
        "  programmer1 = Programmer(\"Adi\", \"P001\", 8000000, \"Python\", 500000)\n",
        "  programmer_baru1 = Programmer(\"Budi\", \"P002\", 6000000, \"Java\", 300000)\n",
        "\n",
        "  # Menampilkan informasi dan gaji beserta bonus\n",
        "  print(\"Informasi Manager:\")\n",
        "  manager1.info()\n",
        "  print(\"\\n\" * 2 + \"=\" * 50 + \"\\n\" * 2)\n",
        "  print(\"Informasi Programmer:\")\n",
        "  programmer1.info()\n",
        "\n",
        "  print(\"\\n\" * 2 + \"=\" * 50 + \"\\n\" * 2)\n",
        "  print(\"Informasi Programmer Baru:\")\n",
        "  programmer_baru1.info()\n",
        "  print(f\"Total gaji: {format_rupiah(programmer_baru1.hitung_gaji())}\")\n",
        "  print(f\"Bonus: {format_rupiah(programmer_baru1.hitung_bonus())}\")\n",
        "\n",
        "if __name__ == \"__main__\":\n",
        "  main()"
      ],
      "metadata": {
        "id": "eQ5oWqFhXEBs",
        "outputId": "a10dc135-65f6-4438-fbf6-bd8d5c302c69",
        "colab": {
          "base_uri": "https://localhost:8080/"
        }
      },
      "execution_count": null,
      "outputs": [
        {
          "output_type": "stream",
          "name": "stdout",
          "text": [
            "Locale 'id_ID' tidak tersedia. Menggunakan default locale.\n",
            "Informasi Manager:\n",
            "Nama: Bapak Anton, ID: M001 Gaji: $10,000,000.00\n",
            "Tunjangan Jabatan: $2,000,000.00\n",
            "Total gaji: $10,000,000.00\n",
            "\n",
            "\n",
            "==================================================\n",
            "\n",
            "\n",
            "Informasi Programmer:\n",
            "Nama: Adi, ID: P001 Gaji: $8,000,000.00\n",
            "Keahlian: Python\n",
            "Bonus Keahlian: $500,000.00\n",
            "Total gaji: $8,500,000.00\n",
            "\n",
            "\n",
            "==================================================\n",
            "\n",
            "\n",
            "Informasi Programmer Baru:\n",
            "Nama: Budi, ID: P002 Gaji: $6,000,000.00\n",
            "Keahlian: Java\n",
            "Bonus Keahlian: $300,000.00\n",
            "Total gaji: $6,300,000.00\n",
            "Total gaji: $6,300,000.00\n",
            "Bonus: $600,000.00\n"
          ]
        }
      ]
    },
    {
      "cell_type": "markdown",
      "source": [
        "# **Praktikum 6**"
      ],
      "metadata": {
        "id": "YAXsV1wYQ7ds"
      }
    },
    {
      "cell_type": "code",
      "source": [
        "class BentukGeometri:\n",
        "  def __init__(self, nama_bentuk):\n",
        "    self.nama_bentuk = nama_bentuk\n",
        "  def"
      ],
      "metadata": {
        "id": "U_aY-bH-eJE9"
      },
      "execution_count": null,
      "outputs": []
    }
  ]
}