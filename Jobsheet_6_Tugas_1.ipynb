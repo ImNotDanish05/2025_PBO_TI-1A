{
  "nbformat": 4,
  "nbformat_minor": 0,
  "metadata": {
    "colab": {
      "provenance": [],
      "authorship_tag": "ABX9TyNJ9WMvo3kVwvvp3+z7vtxc",
      "include_colab_link": true
    },
    "kernelspec": {
      "name": "python3",
      "display_name": "Python 3"
    },
    "language_info": {
      "name": "python"
    }
  },
  "cells": [
    {
      "cell_type": "markdown",
      "metadata": {
        "id": "view-in-github",
        "colab_type": "text"
      },
      "source": [
        "<a href=\"https://colab.research.google.com/github/ImNotDanish05/2025_PBO_TI-1A/blob/main/Jobsheet_6_Tugas_1.ipynb\" target=\"_parent\"><img src=\"https://colab.research.google.com/assets/colab-badge.svg\" alt=\"Open In Colab\"/></a>"
      ]
    },
    {
      "cell_type": "code",
      "execution_count": 25,
      "metadata": {
        "id": "QpwKBtoiNpNq",
        "outputId": "6fa4379e-57ae-4c00-f77e-26a8ac2505b5",
        "colab": {
          "base_uri": "https://localhost:8080/"
        }
      },
      "outputs": [
        {
          "output_type": "stream",
          "name": "stdout",
          "text": [
            "Nama Senjata: Katana\n",
            "Pedang Katana yang durabilitynya dari 148 diperbaiki sebanyak 147 menjadi 295\n",
            "Pedang Katana menebas dengan panjang bilah 50 cm!\n",
            "Durability: 295\n",
            "Pedang Katana yang durabilitynya dari 295 diperbaiki sebanyak 294 menjadi 589\n",
            "Pedang Katana menebas dengan panjang bilah 50 cm!\n",
            "Durability: 589\n",
            "Pedang Katana yang durabilitynya dari 589 diperbaiki sebanyak 588 menjadi 1177\n",
            "Pedang Katana menebas dengan panjang bilah 50 cm!\n",
            "Durability: 1177\n",
            "Pedang Katana yang durabilitynya dari 1177 diperbaiki sebanyak 1176 menjadi 2353\n",
            "Pedang Katana menebas dengan panjang bilah 50 cm!\n",
            "Durability: 2353\n",
            "Pedang Katana yang durabilitynya dari 2353 diperbaiki sebanyak 2352 menjadi 4705\n",
            "Pedang Katana menebas dengan panjang bilah 50 cm!\n",
            "Durability: 4705\n",
            "Nama Senjata: Naginata\n",
            "Panah Naginata melesat chus\n",
            "Panah sisa: 4\n",
            "Panah Naginata melesat chus\n",
            "Panah sisa: 3\n",
            "Panah Naginata melesat chus\n",
            "Panah sisa: 2\n",
            "Panah Naginata melesat chus\n",
            "Panah sisa: 1\n"
          ]
        }
      ],
      "source": [
        "from abc import ABC, abstractmethod\n",
        "import random\n",
        "\n",
        "class Senjata(ABC):\n",
        "  def __init__(self, nama: str):\n",
        "    self.nama = nama\n",
        "  @abstractmethod\n",
        "  def serang(self):\n",
        "    raise NotImplementedError\n",
        "  @property\n",
        "  @abstractmethod\n",
        "  def ammo(self):\n",
        "    # Haris diimplementasikan ke subclass\n",
        "    pass\n",
        "  @ammo.setter\n",
        "  @abstractmethod\n",
        "  def ammo(self):\n",
        "    pass\n",
        "  def info_nama(self):\n",
        "    print(f\"Nama Senjata: {self.nama}\")\n",
        "\n",
        "class Pedang(Senjata):\n",
        "  def __init__(self, nama: str, panjang_bilah: float):\n",
        "    super().__init__(nama)\n",
        "    self.panjang_bilah = panjang_bilah\n",
        "    self._ammo = random.randint(100, 200)\n",
        "  def serang(self):\n",
        "    if self.ammo <= 0:\n",
        "      print(f\"Pedang {self.nama} tidak memiliki ammo!\")\n",
        "    else:\n",
        "      self.ammo -= 1\n",
        "      print(f\"Pedang {self.nama} menebas dengan panjang bilah {self.panjang_bilah} cm!\")\n",
        "      print(f\"Durability: {self.ammo}\")\n",
        "\n",
        "  @property\n",
        "  def ammo(self):\n",
        "    return self._ammo\n",
        "  @ammo.setter\n",
        "  def ammo(self, ammo):\n",
        "    print(f\"Pedang {self.nama} yang durabilitynya dari {self.ammo} diperbaiki sebanyak {ammo} menjadi {self.ammo + ammo}\")\n",
        "    self._ammo = ammo + self._ammo\n",
        "\n",
        "class Panah(Senjata):\n",
        "  def __init__(self, nama: str, jumlah_anak_panah: int):\n",
        "    super().__init__(nama)\n",
        "    self.jumlah_anak_panah = jumlah_anak_panah\n",
        "  def serang(self):\n",
        "    if self.jumlah_anak_panah <= 0:\n",
        "      print(f\"Panah {self.nama} tidak memiliki anak panah!\")\n",
        "    else:\n",
        "      self.jumlah_anak_panah -= 1\n",
        "      print(f\"Panah {self.nama} melesat chus\")\n",
        "      print(f\"Panah sisa: {self.jumlah_anak_panah}\")\n",
        "  @property\n",
        "  def ammo(self):\n",
        "    return self.jumlah_anak_panah\n",
        "  @ammo.setter\n",
        "  def ammo(self, ammo):\n",
        "    print(f\"Panah {self.nama} yang anak panahnya dari {self.jumlah_anak_panah} diperbaiki sebanyak {ammo} menjadi {self.jumlah_anak_panah + ammo}\")\n",
        "    self.jumlah_anak_panah = ammo + self.jumlah_anak_panah\n",
        "\n",
        "def main():\n",
        "  pedang1 = Pedang(\"Katana\", 50)\n",
        "  pedang1.info_nama()\n",
        "  pedang1.serang()\n",
        "  pedang1.serang()\n",
        "  pedang1.serang()\n",
        "  pedang1.serang()\n",
        "  pedang1.serang()\n",
        "  panah1 = Panah(\"Naginata\", 5)\n",
        "  panah1.info_nama()\n",
        "  panah1.serang()\n",
        "  panah1.serang()\n",
        "  panah1.serang()\n",
        "  panah1.serang()\n",
        "\n",
        "if __name__ == \"__main__\":\n",
        "  main()"
      ]
    }
  ]
}