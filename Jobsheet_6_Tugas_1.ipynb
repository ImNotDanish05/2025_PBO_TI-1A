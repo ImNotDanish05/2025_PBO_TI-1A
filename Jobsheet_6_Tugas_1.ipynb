{
  "nbformat": 4,
  "nbformat_minor": 0,
  "metadata": {
    "colab": {
      "provenance": [],
      "authorship_tag": "ABX9TyMqiK6HxHcUI219FIBxL7zj",
      "include_colab_link": true
    },
    "kernelspec": {
      "name": "python3",
      "display_name": "Python 3"
    },
    "language_info": {
      "name": "python"
    }
  },
  "cells": [
    {
      "cell_type": "markdown",
      "metadata": {
        "id": "view-in-github",
        "colab_type": "text"
      },
      "source": [
        "<a href=\"https://colab.research.google.com/github/ImNotDanish05/2025_PBO_TI-1A/blob/main/Jobsheet_6_Tugas_1.ipynb\" target=\"_parent\"><img src=\"https://colab.research.google.com/assets/colab-badge.svg\" alt=\"Open In Colab\"/></a>"
      ]
    },
    {
      "cell_type": "code",
      "execution_count": 32,
      "metadata": {
        "id": "QpwKBtoiNpNq",
        "colab": {
          "base_uri": "https://localhost:8080/"
        },
        "outputId": "2d769312-bd45-4759-c9c2-cd540ad6b510"
      },
      "outputs": [
        {
          "output_type": "stream",
          "name": "stdout",
          "text": [
            "Nama Senjata: Katana\n",
            "Pedang Katana menebas dengan panjang bilah 50 cm!\n",
            "Durability: 180\n",
            "Pedang Katana menebas dengan panjang bilah 50 cm!\n",
            "Durability: 179\n",
            "Pedang Katana menebas dengan panjang bilah 50 cm!\n",
            "Durability: 178\n",
            "Pedang Katana menebas dengan panjang bilah 50 cm!\n",
            "Durability: 177\n",
            "Pedang Katana menebas dengan panjang bilah 50 cm!\n",
            "Durability: 176\n",
            "Nama Senjata: Naginata\n",
            "Panah Naginata melesat chus\n",
            "Panah sisa: 4\n",
            "Panah Naginata melesat chus\n",
            "Panah sisa: 3\n",
            "Panah Naginata melesat chus\n",
            "Panah sisa: 2\n",
            "Panah Naginata melesat chus\n",
            "Panah sisa: 1\n"
          ]
        }
      ],
      "source": [
        "from abc import ABC, abstractmethod\n",
        "import random\n",
        "\n",
        "\n",
        "\n",
        "class Senjata(ABC):\n",
        "  def __init__(self, nama: str):\n",
        "    self.nama = nama\n",
        "  @abstractmethod\n",
        "  def serang(self):\n",
        "    raise NotImplementedError\n",
        "  @property\n",
        "  @abstractmethod\n",
        "  def ammo(self):\n",
        "    # Haris diimplementasikan ke subclass\n",
        "    pass\n",
        "  @ammo.setter\n",
        "  @abstractmethod\n",
        "  def ammo(self):\n",
        "    pass\n",
        "  def info_nama(self):\n",
        "    print(f\"Nama Senjata: {self.nama}\")\n",
        "\n",
        "\n",
        "\n",
        "class Pedang(Senjata):\n",
        "  def __init__(self, nama: str, panjang_bilah: float):\n",
        "    super().__init__(nama)\n",
        "    self.panjang_bilah = panjang_bilah\n",
        "    self._ammo = random.randint(100, 200)\n",
        "  def serang(self):\n",
        "    if self._ammo <= 0:\n",
        "      print(f\"Pedang {self.nama} tidak memiliki ammo!\")\n",
        "    else:\n",
        "      self._ammo -= 1\n",
        "      print(f\"Pedang {self.nama} menebas dengan panjang bilah {self.panjang_bilah} cm!\")\n",
        "      print(f\"Durability: {self._ammo}\")\n",
        "  @property\n",
        "  def ammo(self):\n",
        "    return self._ammo\n",
        "  @ammo.setter\n",
        "  def ammo(self, ammo):\n",
        "    print(f\"Pedang {self.nama} yang durabilitynya dari {self._ammo} diperbaiki sebanyak {ammo} menjadi {self._ammo + ammo}\")\n",
        "    self._ammo = ammo + self._ammo\n",
        "\n",
        "\n",
        "\n",
        "class Panah(Senjata):\n",
        "  def __init__(self, nama: str, jumlah_anak_panah: int):\n",
        "    super().__init__(nama)\n",
        "    self.jumlah_anak_panah = jumlah_anak_panah\n",
        "  def serang(self):\n",
        "    if self.jumlah_anak_panah <= 0:\n",
        "      print(f\"Panah {self.nama} tidak memiliki anak panah!\")\n",
        "    else:\n",
        "      self.jumlah_anak_panah -= 1\n",
        "      print(f\"Panah {self.nama} melesat chus\")\n",
        "      print(f\"Panah sisa: {self.jumlah_anak_panah}\")\n",
        "  @property\n",
        "  def ammo(self):\n",
        "    return self.jumlah_anak_panah\n",
        "  @ammo.setter\n",
        "  def ammo(self, ammo):\n",
        "    print(f\"Panah {self.nama} yang anak panahnya dari {self.jumlah_anak_panah} diperbaiki sebanyak {ammo} menjadi {self.jumlah_anak_panah + ammo}\")\n",
        "    self.jumlah_anak_panah = ammo + self.jumlah_anak_panah\n",
        "\n",
        "\n",
        "\n",
        "def main():\n",
        "  pedang1 = Pedang(\"Katana\", 50)\n",
        "  pedang1.info_nama()\n",
        "  pedang1.serang()\n",
        "  pedang1.serang()\n",
        "  pedang1.serang()\n",
        "  pedang1.serang()\n",
        "  pedang1.serang()\n",
        "  panah1 = Panah(\"Naginata\", 5)\n",
        "  panah1.info_nama()\n",
        "  panah1.serang()\n",
        "  panah1.serang()\n",
        "  panah1.serang()\n",
        "  panah1.serang()\n",
        "\n",
        "\n",
        "\n",
        "if __name__ == \"__main__\":\n",
        "  main()"
      ]
    }
  ]
}