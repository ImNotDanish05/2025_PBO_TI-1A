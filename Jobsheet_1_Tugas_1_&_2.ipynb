{
  "nbformat": 4,
  "nbformat_minor": 0,
  "metadata": {
    "colab": {
      "provenance": [],
      "authorship_tag": "ABX9TyMNErGcQMWp5oOAgAWTNTmg",
      "include_colab_link": true
    },
    "kernelspec": {
      "name": "python3",
      "display_name": "Python 3"
    },
    "language_info": {
      "name": "python"
    }
  },
  "cells": [
    {
      "cell_type": "markdown",
      "metadata": {
        "id": "view-in-github",
        "colab_type": "text"
      },
      "source": [
        "<a href=\"https://colab.research.google.com/github/ImNotDanish05/2025_PBO_TI-1A/blob/main/Jobsheet_1_Tugas_1_%26_2.ipynb\" target=\"_parent\"><img src=\"https://colab.research.google.com/assets/colab-badge.svg\" alt=\"Open In Colab\"/></a>"
      ]
    },
    {
      "cell_type": "code",
      "execution_count": 1,
      "metadata": {
        "id": "oMmN5DC0nFf_",
        "outputId": "254c41c8-5dbf-4522-bded-a6706a681498",
        "colab": {
          "base_uri": "https://localhost:8080/",
          "height": 258
        }
      },
      "outputs": [
        {
          "name": "stdout",
          "output_type": "stream",
          "text": [
            "Tinggi ? (cm): 100\n",
            "Berat ? (KG): 100\n"
          ]
        },
        {
          "output_type": "error",
          "ename": "TypeError",
          "evalue": "unsupported operand type(s) for /: 'str' and 'int'",
          "traceback": [
            "\u001b[0;31m---------------------------------------------------------------------------\u001b[0m",
            "\u001b[0;31mTypeError\u001b[0m                                 Traceback (most recent call last)",
            "\u001b[0;32m<ipython-input-1-eba74cd277f3>\u001b[0m in \u001b[0;36m<cell line: 0>\u001b[0;34m()\u001b[0m\n\u001b[1;32m      3\u001b[0m \u001b[0mtinggi_cm\u001b[0m \u001b[0;34m=\u001b[0m \u001b[0minput\u001b[0m\u001b[0;34m(\u001b[0m\u001b[0;34m\"Tinggi ? (cm): \"\u001b[0m\u001b[0;34m)\u001b[0m\u001b[0;34m\u001b[0m\u001b[0;34m\u001b[0m\u001b[0m\n\u001b[1;32m      4\u001b[0m \u001b[0mberat\u001b[0m \u001b[0;34m=\u001b[0m \u001b[0minput\u001b[0m\u001b[0;34m(\u001b[0m\u001b[0;34m\"Berat ? (KG): \"\u001b[0m\u001b[0;34m)\u001b[0m\u001b[0;34m\u001b[0m\u001b[0;34m\u001b[0m\u001b[0m\n\u001b[0;32m----> 5\u001b[0;31m \u001b[0mtinggi_m\u001b[0m \u001b[0;34m=\u001b[0m \u001b[0mtinggi_cm\u001b[0m \u001b[0;34m/\u001b[0m \u001b[0;36m100\u001b[0m\u001b[0;34m\u001b[0m\u001b[0;34m\u001b[0m\u001b[0m\n\u001b[0m\u001b[1;32m      6\u001b[0m \u001b[0mbmi\u001b[0m \u001b[0;34m=\u001b[0m \u001b[0mberat\u001b[0m \u001b[0;34m/\u001b[0m \u001b[0;34m(\u001b[0m\u001b[0mtinggi_m\u001b[0m \u001b[0;34m**\u001b[0m \u001b[0;36m2\u001b[0m\u001b[0;34m)\u001b[0m\u001b[0;34m\u001b[0m\u001b[0;34m\u001b[0m\u001b[0m\n\u001b[1;32m      7\u001b[0m \u001b[0;34m\u001b[0m\u001b[0m\n",
            "\u001b[0;31mTypeError\u001b[0m: unsupported operand type(s) for /: 'str' and 'int'"
          ]
        }
      ],
      "source": [
        "# Program 1: Menghitung BMI dan Menentukan Kategori\n",
        "\n",
        "tinggi_cm = float(input(\"Tinggi ? (cm): \"))\n",
        "berat = float(input(\"Berat ? (KG): \"))\n",
        "tinggi_m = tinggi_cm / 100\n",
        "bmi = berat / (tinggi_m ** 2)\n",
        "\n",
        "if bmi < 18.5:\n",
        "  kategori = \"Underweight\"\n",
        "elif 18.5 <= bmi < 24.9:\n",
        "  kategori = \"Normal\"\n",
        "else:\n",
        "  kategori = \"Overweight\"\n",
        "\n"
      ]
    },
    {
      "cell_type": "code",
      "source": [
        "# Program 2: Mengecek Bilangan (Genap, Ganjil, atau Prima)\n",
        "\n",
        "def cek_prima(n):\n",
        "    if n < 2:\n",
        "        return False\n",
        "    for i in range(2, int(n**0.5) + 1):\n",
        "        if n % i == 0:\n",
        "            return False\n",
        "    return True\n",
        "\n",
        "def cek_bilangan(n):\n",
        "    if n % 2 == 0:\n",
        "        jenis = \"Genap\"\n",
        "    else:\n",
        "        jenis = \"Ganjil\"\n",
        "\n",
        "    if cek_prima(n):\n",
        "        jenis += \" dan Prima\"\n",
        "\n",
        "    return jenis\n"
      ],
      "metadata": {
        "id": "XAy-EUVJQjeX"
      },
      "execution_count": null,
      "outputs": []
    }
  ]
}