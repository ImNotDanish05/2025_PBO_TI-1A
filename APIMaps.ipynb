{
  "nbformat": 4,
  "nbformat_minor": 0,
  "metadata": {
    "colab": {
      "provenance": [],
      "collapsed_sections": [
        "6AzmrHH_ak_X",
        "9vJPgdFscnq6"
      ],
      "authorship_tag": "ABX9TyMzw1cHxRVSu7hEovDctIwQ",
      "include_colab_link": true
    },
    "kernelspec": {
      "name": "python3",
      "display_name": "Python 3"
    },
    "language_info": {
      "name": "python"
    }
  },
  "cells": [
    {
      "cell_type": "markdown",
      "metadata": {
        "id": "view-in-github",
        "colab_type": "text"
      },
      "source": [
        "<a href=\"https://colab.research.google.com/github/ImNotDanish05/2025_PBO_TI-1A/blob/main/APIMaps.ipynb\" target=\"_parent\"><img src=\"https://colab.research.google.com/assets/colab-badge.svg\" alt=\"Open In Colab\"/></a>"
      ]
    },
    {
      "cell_type": "markdown",
      "source": [
        "# **Free - Nominatim API (Open Sorce, Free, No Login at All)**\n",
        "Use big data of OpenStreetMap"
      ],
      "metadata": {
        "id": "en9hl8c6bKR4"
      }
    },
    {
      "cell_type": "code",
      "source": [
        "import requests\n",
        "\n",
        "lat, lng = -6.2088, 106.8456\n",
        "radius = 1000  # meter\n",
        "query = \"hospital\"\n",
        "\n",
        "print(f\"Mencari lokasi di sekitar: {lat}, {lng} dengan radius {radius} meter...\")\n",
        "\n",
        "url = \"https://nominatim.openstreetmap.org/search\"\n",
        "\n",
        "params = {\n",
        "    \"q\": query,\n",
        "    \"format\": \"json\",\n",
        "    \"limit\": 5,\n",
        "    \"viewbox\": f\"{lng - 0.01},{lat - 0.01},{lng + 0.01},{lat + 0.01}\",\n",
        "    \"bounded\": 1\n",
        "}\n",
        "\n",
        "headers = {\n",
        "    \"User-Agent\": \"DanishSenpaiApp/1.0 (your@email.com)\"\n",
        "}\n",
        "\n",
        "try:\n",
        "    response = requests.get(url, params=params, headers=headers)\n",
        "    response.raise_for_status()\n",
        "    data = response.json()\n",
        "\n",
        "    if data:\n",
        "        print(\"Hasil pencarian:\")\n",
        "        for place in data:\n",
        "            print(f\"{place['display_name']} (lat: {place['lat']}, lon: {place['lon']})\")\n",
        "    else:\n",
        "        print(\"Tidak ada hasil ditemukan.\")\n",
        "\n",
        "except Exception as e:\n",
        "    print(f\"Terjadi kesalahan saat membuat permintaan: {e}\")\n"
      ],
      "metadata": {
        "colab": {
          "base_uri": "https://localhost:8080/"
        },
        "id": "lbBGqshTarxu",
        "outputId": "b05160c6-1dc7-4489-b8e5-f5e0eaf3a886"
      },
      "execution_count": 34,
      "outputs": [
        {
          "output_type": "stream",
          "name": "stdout",
          "text": [
            "Mencari lokasi di sekitar: -6.2088, 106.8456 dengan radius 1000 meter...\n",
            "Hasil pencarian:\n",
            "Rumah Sakit Khusus THT dan Bedah Kepala Leher Proklamasi, 43, Jalan Proklamasi, RW 02, Pegangsaan, Menteng, Jakarta Pusat, Daerah Khusus ibukota Jakarta, Jawa, 10320, Indonesia (lat: -6.2017111, lon: 106.8474650)\n",
            "RS Agung, Jalan Padang, RW 08, Pasar Manggis, Setiabudi, Jakarta Selatan, Daerah Khusus ibukota Jakarta, Jawa, 12850, Indonesia (lat: -6.2092297, lon: 106.8463840)\n",
            "RS K, Jalan Proklamasi, RW 02, Pegangsaan, Menteng, Jakarta Pusat, Daerah Khusus ibukota Jakarta, Jawa, 10320, Indonesia (lat: -6.2020722, lon: 106.8468531)\n",
            "RS Jantung Jakarta, Jalan Matraman, RW 01, Palmeriam, Matraman, Jakarta Timur, Daerah Khusus ibukota Jakarta, Jawa, 13140, Indonesia (lat: -6.2001958, lon: 106.8553573)\n",
            "RSIA Tambak, Jalan Tambak Lorong Buntu, RW 06, Pegangsaan, Menteng, Jakarta Pusat, Daerah Khusus ibukota Jakarta, Jawa, 10320, Indonesia (lat: -6.2063911, lon: 106.8483529)\n"
          ]
        }
      ]
    },
    {
      "cell_type": "markdown",
      "source": [
        "# **Not Free - FourSquare API (Only Trial, MUST HAVE CREDIT CARD)**"
      ],
      "metadata": {
        "id": "6AzmrHH_ak_X"
      }
    },
    {
      "cell_type": "code",
      "source": [
        "# @title Config\n",
        "# @markdown WARNING! This API IS NOT FREE, DO NOT USE IT UNLESS YOU RICH:\n",
        "# @markdown https://foursquare.com/developers/\n",
        "\n",
        "from google.colab import drive\n",
        "drive.mount('/content/drive')\n",
        "file_path = '/content/drive/MyDrive/Danish05/Account/foursquare.com.txt'\n",
        "\n",
        "with open(file_path, 'r') as f:\n",
        "    lines = f.readlines()\n",
        "    for line in lines:\n",
        "        if \"Client Id:\" in line:\n",
        "            YOUR_CLIENT_ID = line.split(\"Client Id:\")[1].strip()\n",
        "        if \"Client Secret:\" in line:\n",
        "            YOUR_CLIENT_SECRET = line.split(\"Client Secret:\")[1].strip()\n",
        "        if \"Service API Key:\" in line:\n",
        "            YOUR_SERVICE_API_KEY = line.split(\"Service API Key:\")[1].strip()\n",
        "        if \"Additional API Key:\" in line:\n",
        "            YOUR_ADDITIONAL_API_KEY = line.split(\"Additional API Key:\")[1].strip()\n",
        "\n",
        "CLIENT_ID = YOUR_CLIENT_ID # @param\n",
        "CLIENT_SECRET = YOUR_CLIENT_SECRET # @param\n",
        "SERVICE_API_KEY = YOUR_SERVICE_API_KEY # @param\n",
        "ADDITIONAL_API_KEY = YOUR_ADDITIONAL_API_KEY # @param"
      ],
      "metadata": {
        "colab": {
          "base_uri": "https://localhost:8080/"
        },
        "id": "slSeCIRS316u",
        "outputId": "5b385d0c-d251-489b-acd8-5647113c3483"
      },
      "execution_count": 31,
      "outputs": [
        {
          "output_type": "stream",
          "name": "stdout",
          "text": [
            "Drive already mounted at /content/drive; to attempt to forcibly remount, call drive.mount(\"/content/drive\", force_remount=True).\n"
          ]
        }
      ]
    },
    {
      "cell_type": "code",
      "source": [
        "import requests\n",
        "import json\n",
        "\n",
        "# --- Koordinat Lokasi Anda ---\n",
        "# GANTI DENGAN KOORDINAT RUMAH ANDA (latitude, longitude)\n",
        "# Contoh: Koordinat Jakarta Pusat\n",
        "LATITUDE = -6.2088\n",
        "LONGITUDE = 106.8456\n",
        "\n",
        "# --- Parameter Pencarian ---\n",
        "RADIUS = 1000  # Radius pencarian dalam meter (misalnya 1000 meter = 1 km)\n",
        "LIMIT = 50     # Jumlah hasil yang ingin diambil\n",
        "\n",
        "# URL endpoint Foursquare Places API (v2)\n",
        "URL = 'https://api.foursquare.com/v2/venues/explore'\n",
        "\n",
        "# Parameter permintaan\n",
        "params = {\n",
        "    'client_id': CLIENT_ID,\n",
        "    'client_secret': CLIENT_SECRET,\n",
        "    'll': f\"{LATITUDE},{LONGITUDE}\",\n",
        "    'v': '20230303',  # Tanggal versi API (gunakan tanggal saat ini atau terbaru)\n",
        "    'radius': RADIUS,\n",
        "    'limit': LIMIT\n",
        "}\n",
        "\n",
        "print(f\"Mencari lokasi di sekitar: {LATITUDE}, {LONGITUDE} dengan radius {RADIUS} meter...\")\n",
        "\n",
        "try:\n",
        "    response = requests.get(URL, params=params)\n",
        "    response.raise_for_status()  # Akan memunculkan HTTPException untuk respons status buruk (4xx atau 5xx)\n",
        "\n",
        "    data = response.json()\n",
        "\n",
        "    # Periksa jika ada grup item\n",
        "    if 'response' in data and 'groups' in data['response']:\n",
        "        venues = data['response']['groups'][0]['items']\n",
        "\n",
        "        if venues:\n",
        "            print(f\"\\nDitemukan {len(venues)} lokasi:\")\n",
        "            for venue in venues:\n",
        "                name = venue['venue']['name']\n",
        "                category = venue['venue']['categories'][0]['name'] if venue['venue']['categories'] else 'N/A'\n",
        "                address = venue['venue']['location']['address'] if 'address' in venue['venue']['location'] else 'N/A'\n",
        "                distance = venue['venue']['location']['distance']\n",
        "                print(f\"- Nama: {name}, Kategori: {category}, Alamat: {address}, Jarak: {distance}m\")\n",
        "        else:\n",
        "            print(\"\\nTidak ada lokasi yang ditemukan di sekitar koordinat yang diberikan.\")\n",
        "    else:\n",
        "        print(\"\\nTidak ada data yang sesuai dalam respons API.\")\n",
        "        print(json.dumps(data, indent=4)) # Cetak respons lengkap untuk debugging\n",
        "\n",
        "except requests.exceptions.RequestException as e:\n",
        "    print(f\"Terjadi kesalahan saat membuat permintaan: {e}\")\n",
        "    if response:\n",
        "        print(f\"Status Kode: {response.status_code}\")\n",
        "        print(f\"Pesan Kesalahan Foursquare: {response.text}\")\n",
        "except KeyError as e:\n",
        "    print(f\"Terjadi kesalahan saat memproses data JSON: Kunci tidak ditemukan - {e}\")\n",
        "    print(json.dumps(data, indent=4)) # Cetak data yang diterima untuk debugging"
      ],
      "metadata": {
        "colab": {
          "base_uri": "https://localhost:8080/"
        },
        "id": "W66fsgcCZ01Y",
        "outputId": "64754c60-f4f2-4e5d-ce4a-1cddeab3e9af"
      },
      "execution_count": 33,
      "outputs": [
        {
          "output_type": "stream",
          "name": "stdout",
          "text": [
            "Mencari lokasi di sekitar: -6.2088, 106.8456 dengan radius 1000 meter...\n",
            "Terjadi kesalahan saat membuat permintaan: 402 Client Error: Payment Required for url: https://api.foursquare.com/v2/venues/explore?client_id=K1FTHTAAQVC4UNRU1FKVWDJMFBWDSWEWRK5WZSXLXDNUBRDK&client_secret=LSRWMEFBYP1ZZU0I5VB4KJFEJW31XPJNCP5MWPKXRROASL5B&ll=-6.2088%2C106.8456&v=20230303&radius=1000&limit=50\n"
          ]
        }
      ]
    },
    {
      "cell_type": "markdown",
      "source": [
        "# **Not Free - Google Maps API (Free, but NEED CREDIT CARD. MEANING STILL PAY TAXES ;-;)**"
      ],
      "metadata": {
        "id": "9vJPgdFscnq6"
      }
    },
    {
      "cell_type": "code",
      "source": [
        "# @title Config\n",
        "# @markdown WARNING! This API IS NOT FREE, DO NOT USE IT UNLESS YOU RICH:\n",
        "# @markdown https://console.cloud.google.com/\n",
        "from google.colab import drive\n",
        "drive.mount('/content/drive')\n",
        "file_path = '/content/drive/MyDrive/Danish05/Account/google/PrivateKeyAPI.txt'\n",
        "\n",
        "with open(file_path, 'r') as f:\n",
        "    lines = f.readlines()\n",
        "    for line in lines:\n",
        "        if \"PrivateKey:\" in line:\n",
        "            YOUR_PRIVATE_KEY = line.split(\"PrivateKey:\")[1].strip()\n",
        "\n",
        "PRIVATE_KEY = YOUR_PRIVATE_KEY # @param"
      ],
      "metadata": {
        "colab": {
          "base_uri": "https://localhost:8080/"
        },
        "id": "kQ2DUE8rcnC2",
        "outputId": "9c6f62b7-039f-4307-dfaa-db052826d8b2"
      },
      "execution_count": 36,
      "outputs": [
        {
          "output_type": "stream",
          "name": "stdout",
          "text": [
            "Drive already mounted at /content/drive; to attempt to forcibly remount, call drive.mount(\"/content/drive\", force_remount=True).\n"
          ]
        }
      ]
    },
    {
      "cell_type": "code",
      "source": [
        "import requests\n",
        "\n",
        "\n",
        "lat, lng = -6.966667, 110.416664\n",
        "radius = 500\n",
        "query = \"hospital\"\n",
        "\n",
        "url = \"https://maps.googleapis.com/maps/api/place/nearbysearch/json\"\n",
        "\n",
        "params = {\n",
        "    \"location\": f\"{lat},{lng}\",\n",
        "    \"radius\": radius,\n",
        "    \"keyword\": query,\n",
        "    \"key\": PRIVATE_KEY\n",
        "}\n",
        "\n",
        "response = requests.get(url, params=params)\n",
        "print(\"Status code:\", response.status_code)\n",
        "\n",
        "data = response.json()\n",
        "print(\"Response JSON:\")\n",
        "print(data)\n"
      ],
      "metadata": {
        "colab": {
          "base_uri": "https://localhost:8080/"
        },
        "id": "4TgR8uXCdYoW",
        "outputId": "155c13b5-04f9-43c7-d213-906a306e9f92"
      },
      "execution_count": 37,
      "outputs": [
        {
          "output_type": "stream",
          "name": "stdout",
          "text": [
            "Status code: 200\n",
            "Response JSON:\n",
            "{'error_message': 'You must enable Billing on the Google Cloud Project at https://console.cloud.google.com/project/_/billing/enable Learn more at https://developers.google.com/maps/gmp-get-started', 'html_attributions': [], 'results': [], 'status': 'REQUEST_DENIED'}\n"
          ]
        }
      ]
    }
  ]
}