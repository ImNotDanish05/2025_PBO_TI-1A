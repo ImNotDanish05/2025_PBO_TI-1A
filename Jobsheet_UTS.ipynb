{
  "nbformat": 4,
  "nbformat_minor": 0,
  "metadata": {
    "colab": {
      "provenance": [],
      "authorship_tag": "ABX9TyMr/hM/8TB/tVw6jiTZpe8Z",
      "include_colab_link": true
    },
    "kernelspec": {
      "name": "python3",
      "display_name": "Python 3"
    },
    "language_info": {
      "name": "python"
    }
  },
  "cells": [
    {
      "cell_type": "markdown",
      "metadata": {
        "id": "view-in-github",
        "colab_type": "text"
      },
      "source": [
        "<a href=\"https://colab.research.google.com/github/ImNotDanish05/2025_PBO_TI-1A/blob/main/Jobsheet_UTS.ipynb\" target=\"_parent\"><img src=\"https://colab.research.google.com/assets/colab-badge.svg\" alt=\"Open In Colab\"/></a>"
      ]
    },
    {
      "cell_type": "code",
      "source": [
        "!pip install danish05\n",
        "import danish05"
      ],
      "metadata": {
        "id": "E1vPFAW-PkxQ",
        "outputId": "919f387a-853f-4079-b6d1-30fcd587810b",
        "colab": {
          "base_uri": "https://localhost:8080/"
        }
      },
      "execution_count": 1,
      "outputs": [
        {
          "output_type": "stream",
          "name": "stdout",
          "text": [
            "Collecting danish05\n",
            "  Downloading danish05-0.0.7-py2.py3-none-any.whl.metadata (262 bytes)\n",
            "Collecting rembg (from danish05)\n",
            "  Downloading rembg-2.0.66-py3-none-any.whl.metadata (21 kB)\n",
            "Collecting onnxruntime (from danish05)\n",
            "  Downloading onnxruntime-1.22.0-cp311-cp311-manylinux_2_27_x86_64.manylinux_2_28_x86_64.whl.metadata (4.5 kB)\n",
            "Requirement already satisfied: opencv-python in /usr/local/lib/python3.11/dist-packages (from danish05) (4.11.0.86)\n",
            "Requirement already satisfied: numpy in /usr/local/lib/python3.11/dist-packages (from danish05) (2.0.2)\n",
            "Requirement already satisfied: Pillow in /usr/local/lib/python3.11/dist-packages (from danish05) (11.2.1)\n",
            "Collecting coloredlogs (from onnxruntime->danish05)\n",
            "  Downloading coloredlogs-15.0.1-py2.py3-none-any.whl.metadata (12 kB)\n",
            "Requirement already satisfied: flatbuffers in /usr/local/lib/python3.11/dist-packages (from onnxruntime->danish05) (25.2.10)\n",
            "Requirement already satisfied: packaging in /usr/local/lib/python3.11/dist-packages (from onnxruntime->danish05) (24.2)\n",
            "Requirement already satisfied: protobuf in /usr/local/lib/python3.11/dist-packages (from onnxruntime->danish05) (5.29.4)\n",
            "Requirement already satisfied: sympy in /usr/local/lib/python3.11/dist-packages (from onnxruntime->danish05) (1.13.1)\n",
            "Requirement already satisfied: jsonschema in /usr/local/lib/python3.11/dist-packages (from rembg->danish05) (4.23.0)\n",
            "Requirement already satisfied: opencv-python-headless in /usr/local/lib/python3.11/dist-packages (from rembg->danish05) (4.11.0.86)\n",
            "Requirement already satisfied: pooch in /usr/local/lib/python3.11/dist-packages (from rembg->danish05) (1.8.2)\n",
            "Collecting pymatting (from rembg->danish05)\n",
            "  Downloading pymatting-1.1.14-py3-none-any.whl.metadata (7.7 kB)\n",
            "Requirement already satisfied: scikit-image in /usr/local/lib/python3.11/dist-packages (from rembg->danish05) (0.25.2)\n",
            "Requirement already satisfied: scipy in /usr/local/lib/python3.11/dist-packages (from rembg->danish05) (1.15.3)\n",
            "Requirement already satisfied: tqdm in /usr/local/lib/python3.11/dist-packages (from rembg->danish05) (4.67.1)\n",
            "Collecting humanfriendly>=9.1 (from coloredlogs->onnxruntime->danish05)\n",
            "  Downloading humanfriendly-10.0-py2.py3-none-any.whl.metadata (9.2 kB)\n",
            "Requirement already satisfied: attrs>=22.2.0 in /usr/local/lib/python3.11/dist-packages (from jsonschema->rembg->danish05) (25.3.0)\n",
            "Requirement already satisfied: jsonschema-specifications>=2023.03.6 in /usr/local/lib/python3.11/dist-packages (from jsonschema->rembg->danish05) (2025.4.1)\n",
            "Requirement already satisfied: referencing>=0.28.4 in /usr/local/lib/python3.11/dist-packages (from jsonschema->rembg->danish05) (0.36.2)\n",
            "Requirement already satisfied: rpds-py>=0.7.1 in /usr/local/lib/python3.11/dist-packages (from jsonschema->rembg->danish05) (0.25.1)\n",
            "Requirement already satisfied: platformdirs>=2.5.0 in /usr/local/lib/python3.11/dist-packages (from pooch->rembg->danish05) (4.3.8)\n",
            "Requirement already satisfied: requests>=2.19.0 in /usr/local/lib/python3.11/dist-packages (from pooch->rembg->danish05) (2.32.3)\n",
            "Requirement already satisfied: numba!=0.49.0 in /usr/local/lib/python3.11/dist-packages (from pymatting->rembg->danish05) (0.60.0)\n",
            "Requirement already satisfied: networkx>=3.0 in /usr/local/lib/python3.11/dist-packages (from scikit-image->rembg->danish05) (3.4.2)\n",
            "Requirement already satisfied: imageio!=2.35.0,>=2.33 in /usr/local/lib/python3.11/dist-packages (from scikit-image->rembg->danish05) (2.37.0)\n",
            "Requirement already satisfied: tifffile>=2022.8.12 in /usr/local/lib/python3.11/dist-packages (from scikit-image->rembg->danish05) (2025.5.21)\n",
            "Requirement already satisfied: lazy-loader>=0.4 in /usr/local/lib/python3.11/dist-packages (from scikit-image->rembg->danish05) (0.4)\n",
            "Requirement already satisfied: mpmath<1.4,>=1.1.0 in /usr/local/lib/python3.11/dist-packages (from sympy->onnxruntime->danish05) (1.3.0)\n",
            "Requirement already satisfied: llvmlite<0.44,>=0.43.0dev0 in /usr/local/lib/python3.11/dist-packages (from numba!=0.49.0->pymatting->rembg->danish05) (0.43.0)\n",
            "Requirement already satisfied: typing-extensions>=4.4.0 in /usr/local/lib/python3.11/dist-packages (from referencing>=0.28.4->jsonschema->rembg->danish05) (4.13.2)\n",
            "Requirement already satisfied: charset-normalizer<4,>=2 in /usr/local/lib/python3.11/dist-packages (from requests>=2.19.0->pooch->rembg->danish05) (3.4.2)\n",
            "Requirement already satisfied: idna<4,>=2.5 in /usr/local/lib/python3.11/dist-packages (from requests>=2.19.0->pooch->rembg->danish05) (3.10)\n",
            "Requirement already satisfied: urllib3<3,>=1.21.1 in /usr/local/lib/python3.11/dist-packages (from requests>=2.19.0->pooch->rembg->danish05) (2.4.0)\n",
            "Requirement already satisfied: certifi>=2017.4.17 in /usr/local/lib/python3.11/dist-packages (from requests>=2.19.0->pooch->rembg->danish05) (2025.4.26)\n",
            "Downloading danish05-0.0.7-py2.py3-none-any.whl (4.5 kB)\n",
            "Downloading onnxruntime-1.22.0-cp311-cp311-manylinux_2_27_x86_64.manylinux_2_28_x86_64.whl (16.4 MB)\n",
            "\u001b[2K   \u001b[90m━━━━━━━━━━━━━━━━━━━━━━━━━━━━━━━━━━━━━━━━\u001b[0m \u001b[32m16.4/16.4 MB\u001b[0m \u001b[31m23.3 MB/s\u001b[0m eta \u001b[36m0:00:00\u001b[0m\n",
            "\u001b[?25hDownloading rembg-2.0.66-py3-none-any.whl (41 kB)\n",
            "\u001b[2K   \u001b[90m━━━━━━━━━━━━━━━━━━━━━━━━━━━━━━━━━━━━━━━━\u001b[0m \u001b[32m41.7/41.7 kB\u001b[0m \u001b[31m1.4 MB/s\u001b[0m eta \u001b[36m0:00:00\u001b[0m\n",
            "\u001b[?25hDownloading coloredlogs-15.0.1-py2.py3-none-any.whl (46 kB)\n",
            "\u001b[2K   \u001b[90m━━━━━━━━━━━━━━━━━━━━━━━━━━━━━━━━━━━━━━━━\u001b[0m \u001b[32m46.0/46.0 kB\u001b[0m \u001b[31m1.8 MB/s\u001b[0m eta \u001b[36m0:00:00\u001b[0m\n",
            "\u001b[?25hDownloading pymatting-1.1.14-py3-none-any.whl (54 kB)\n",
            "\u001b[2K   \u001b[90m━━━━━━━━━━━━━━━━━━━━━━━━━━━━━━━━━━━━━━━━\u001b[0m \u001b[32m54.7/54.7 kB\u001b[0m \u001b[31m2.7 MB/s\u001b[0m eta \u001b[36m0:00:00\u001b[0m\n",
            "\u001b[?25hDownloading humanfriendly-10.0-py2.py3-none-any.whl (86 kB)\n",
            "\u001b[2K   \u001b[90m━━━━━━━━━━━━━━━━━━━━━━━━━━━━━━━━━━━━━━━━\u001b[0m \u001b[32m86.8/86.8 kB\u001b[0m \u001b[31m4.5 MB/s\u001b[0m eta \u001b[36m0:00:00\u001b[0m\n",
            "\u001b[?25hInstalling collected packages: humanfriendly, pymatting, coloredlogs, onnxruntime, rembg, danish05\n",
            "Successfully installed coloredlogs-15.0.1 danish05-0.0.7 humanfriendly-10.0 onnxruntime-1.22.0 pymatting-1.1.14 rembg-2.0.66\n",
            "GUI skipped because no display available.\n",
            "\n",
            "🎉 Package 'danish05' loaded successfully! 🎉\n",
            "  Use danish05.info() for my social media!\n"
          ]
        }
      ]
    },
    {
      "cell_type": "markdown",
      "source": [
        "Soal Praktikum (Bobot 40%)\n",
        "Implementasikan ke dalam kode Python dan Class Diagram untuk merepresentasikan berbagai jenis Alat Elektronik.\n",
        "a.  Buatlah kelas induk bernama AlatElektronik dengan atribut dan metode berikut:\n",
        "* Atribut:\n",
        "* merk (string)\n",
        "* model (string)\n",
        "* _status_nyala (boolean, protected untuk menandakan status menyala/mati, default False)\n",
        "* Metode:\n",
        "* __init__(self, merk, model): Konstruktor yang harus menerima merk dan model.\n",
        "* menyalakan(self): Mengubah _status_nyala menjadi True dan mencetak pesan bahwa alat dinyalakan.\n",
        "* mematikan(self): Mengubah _status_nyala menjadi False dan mencetak pesan bahwa alat dimatikan.\n",
        "* get_info(self): Metode yang mencetak informasi dasar (merk dan model).\n",
        "\n",
        "b.  Buatlah dua kelas anak yang mewarisi dari AlatElektronik:\n",
        "* Televisi:\n",
        "* Memiliki atribut tambahan ukuran_layar (integer, dalam inchi).\n",
        "* Override metode get_info() untuk menampilkan informasi merk, model, dan ukuran_layar.\n",
        "* Tambahkan metode baru ganti_channel(self, nomor_channel) yang mencetak pesan penggantian channel (hanya jika televisi dalam status menyala).\n",
        "* Radio:\n",
        "* Memiliki atribut tambahan frekuensi (float, dalam MHz).\n",
        "* Override metode get_info() untuk menampilkan informasi merk, model, dan frekuensi.\n",
        "* Tambahkan metode baru putar_radio(self, frekuensi_baru) yang mengubah nilai atribut frekuensi (hanya jika radio dalam status menyala).\n",
        "\n",
        "c.  Demonstrasikan pembuatan objek dari masing-masing kelas anak (Televisi dan Radio).\n",
        "* Panggil metode menyalakan(), get_info(), metode spesifik masing-masing kelas anak (misalnya ganti_channel() dan putar_radio()), dan mematikan() pada objek-objek tersebut.\n"
      ],
      "metadata": {
        "id": "1-9NgaRBhvBN"
      }
    },
    {
      "cell_type": "code",
      "execution_count": 3,
      "metadata": {
        "id": "QpwKBtoiNpNq",
        "outputId": "bcd1cb5a-f836-4910-fff4-aa8a4a438ba9",
        "colab": {
          "base_uri": "https://localhost:8080/"
        }
      },
      "outputs": [
        {
          "output_type": "stream",
          "name": "stdout",
          "text": [
            "--- Televisi ---\n",
            "Samsung dinyalakan.\n",
            "Merk: Samsung, Model: Neo QLED, Ukuran: 55\"\n",
            "Channel diganti ke 7.\n",
            "Samsung dimatikan.\n",
            "\n",
            "--- Radio ---\n",
            "Sony dinyalakan.\n",
            "Merk: Sony, Model: BoomBox, Frekuensi: 101.1 MHz\n",
            "Frekuensi diubah ke 102.5 MHz.\n",
            "Sony dimatikan.\n"
          ]
        }
      ],
      "source": [
        "class AlatElektronik:\n",
        "    def __init__(self, merk, model):\n",
        "        self.merk = merk\n",
        "        self.model = model\n",
        "        self._status_nyala = False  # Protected\n",
        "\n",
        "    def menyalakan(self):\n",
        "        self._status_nyala = True\n",
        "        print(f\"{self.merk} dinyalakan.\")\n",
        "\n",
        "    def mematikan(self):\n",
        "        self._status_nyala = False\n",
        "        print(f\"{self.merk} dimatikan.\")\n",
        "\n",
        "    def get_info(self):\n",
        "        print(f\"Merk: {self.merk}, Model: {self.model}\")\n",
        "\n",
        "class Televisi(AlatElektronik):\n",
        "    def __init__(self, merk, model, ukuran_layar):\n",
        "        super().__init__(merk, model)\n",
        "        self.ukuran_layar = ukuran_layar\n",
        "        self.channel = 1\n",
        "\n",
        "    def get_info(self):\n",
        "        print(f\"Merk: {self.merk}, Model: {self.model}, Ukuran: {self.ukuran_layar}\\\"\")\n",
        "\n",
        "    def ganti_channel(self, nomor_channel):\n",
        "        if self._status_nyala:\n",
        "            self.channel = nomor_channel\n",
        "            print(f\"Channel diganti ke {self.channel}.\")\n",
        "        else:\n",
        "            print(\"TV belum dinyalakan!\")\n",
        "\n",
        "class Radio(AlatElektronik):\n",
        "    def __init__(self, merk, model, frekuensi=88.0):\n",
        "        super().__init__(merk, model)\n",
        "        self.frekuensi = frekuensi\n",
        "\n",
        "    def get_info(self):\n",
        "        print(f\"Merk: {self.merk}, Model: {self.model}, Frekuensi: {self.frekuensi} MHz\")\n",
        "\n",
        "    def putar_radio(self, frekuensi_baru):\n",
        "        if self._status_nyala:\n",
        "            self.frekuensi = frekuensi_baru\n",
        "            print(f\"Frekuensi diubah ke {self.frekuensi} MHz.\")\n",
        "        else:\n",
        "            print(\"Radio belum dinyalakan!\")\n",
        "\n",
        "# Demonstrasi\n",
        "if __name__ == \"__main__\":\n",
        "    tv = Televisi(\"Samsung\", \"Neo QLED\", 55)\n",
        "    radio = Radio(\"Sony\", \"BoomBox\", 101.1)\n",
        "\n",
        "    print(\"--- Televisi ---\")\n",
        "    tv.menyalakan()\n",
        "    tv.get_info()\n",
        "    tv.ganti_channel(7)\n",
        "    tv.mematikan()\n",
        "\n",
        "    print(\"\\n--- Radio ---\")\n",
        "    radio.menyalakan()\n",
        "    radio.get_info()\n",
        "    radio.putar_radio(102.5)\n",
        "    radio.mematikan()"
      ]
    }
  ]
}