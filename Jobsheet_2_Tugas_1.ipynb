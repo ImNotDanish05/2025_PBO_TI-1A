{
 "cells": [
  {
   "cell_type": "code",
   "execution_count": 1,
   "metadata": {},
   "outputs": [],
   "source": [
    "import programX as HP"
   ]
  },
  {
   "cell_type": "code",
   "execution_count": null,
   "metadata": {},
   "outputs": [],
   "source": [
    "\n",
    "HP1 = HP.Handphone(\"HP001\", \"Samsung Galaxy S23\", \"Samsung\", \"SM-S911B/DS\", 2023, 12999000)\n",
    "HP2 = HP.Handphone(\"HP002\", \"iPhone 14 Pro\", \"Apple\", \"A2890\", 2022, 18999000)\n",
    "HP3 = HP.Handphone(\"HP003\", \"Xiaomi 13 Pro\", \"Xiaomi\", \"2210132G\", 2023, 14999000)\n",
    "HP4 = HP.Handphone(\"HP004\", \"Realme GT Neo 5\", \"Realme\", \"RMX3708\", 2023, 9999000)\n",
    "HP5 = HP.Handphone(\"HP005\", \"Oppo Find X5 Pro\", \"Oppo\", \"CPH2305\", 2022, 15999000)\n",
    "HP6 = HP.Handphone(\"HP006\", \"Vivo X90 Pro\", \"Vivo\", \"V2219\", 2023, 12999000)\n",
    "HP7 = HP.Handphone(\"HP007\", \"Google Pixel 7 Pro\", \"Google\", \"GNE0T\", 2022, 13999000)\n",
    "HP8 = HP.Handphone(\"HP008\", \"Asus ROG Phone 7\", \"Asus\", \"AI2205\", 2023, 15999000)\n",
    "HP9 = HP.Handphone(\"HP009\", \"Sony Xperia 1 IV\", \"Sony\", \"XQ-CT54\", 2022, 17999000)\n",
    "HP10 = HP.Handphone(\"HP010\", \"OnePlus 11\", \"OnePlus\", \"PHB110\", 2023, 12999000)\n",
    "HP11 = HP.Handphone(\"HP011\", \"Motorola Edge 30 Ultra\", \"Motorola\", \"XT2241-2\", 2022, 12999000)\n",
    "HP12 = HP.Handphone(\"HP012\", \"Samsung Galaxy Z Fold 4\", \"Samsung\", \"SM-F936B\", 2022, 24999000)\n",
    "HP13 = HP.Handphone(\"HP013\", \"iPhone 13 Mini\", \"Apple\", \"A2626\", 2021, 12999000)\n",
    "HP14 = HP.Handphone(\"HP014\", \"Xiaomi 12T Pro\", \"Xiaomi\", \"22081212UG\", 2022, 10999000)\n",
    "HP15 = HP.Handphone(\"HP015\", \"Realme 10 Pro+\", \"Realme\", \"RMX3686\", 2022, 6999000)\n",
    "HP16 = HP.Handphone(\"HP016\", \"Oppo Reno 8 Pro\", \"Oppo\", \"CPH2357\", 2022, 7999000)\n",
    "HP17 = HP.Handphone(\"HP017\", \"Vivo V27 Pro\", \"Vivo\", \"V2230\", 2023, 7499000)\n",
    "HP18 = HP.Handphone(\"HP018\", \"Google Pixel 6a\", \"Google\", \"GX7AS\", 2022, 7499000)\n",
    "HP19 = HP.Handphone(\"HP019\", \"Asus Zenfone 9\", \"Asus\", \"AI2202\", 2022, 11999000)\n",
    "HP20 = HP.Handphone(\"HP020\", \"Nothing Phone (1)\", \"Nothing\", \"A063\", 2022, 8999000)\n",
    "\n",
    "# Menyimpan semua HP dalam list\n",
    "daftar_hp = [HP1, HP2, HP3, HP4, HP5, HP6, HP7, HP8, HP9, HP10,\n",
    "             HP11, HP12, HP13, HP14, HP15, HP16, HP17, HP18, HP19, HP20]\n",
    "\n",
    "# Contoh akses data\n",
    "\n",
    "HP12.beli()\n",
    "\n",
    "HP12.info()"
   ]
  }
 ],
 "metadata": {
  "kernelspec": {
   "display_name": "Python 3",
   "language": "python",
   "name": "python3"
  },
  "language_info": {
   "codemirror_mode": {
    "name": "ipython",
    "version": 3
   },
   "file_extension": ".py",
   "mimetype": "text/x-python",
   "name": "python",
   "nbconvert_exporter": "python",
   "pygments_lexer": "ipython3",
   "version": "3.13.0"
  }
 },
 "nbformat": 4,
 "nbformat_minor": 2
}
