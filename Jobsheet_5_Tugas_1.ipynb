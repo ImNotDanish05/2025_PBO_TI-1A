{
  "nbformat": 4,
  "nbformat_minor": 0,
  "metadata": {
    "colab": {
      "provenance": [],
      "authorship_tag": "ABX9TyMV1ID6H06eRWT4V98+mB+6",
      "include_colab_link": true
    },
    "kernelspec": {
      "name": "python3",
      "display_name": "Python 3"
    },
    "language_info": {
      "name": "python"
    }
  },
  "cells": [
    {
      "cell_type": "markdown",
      "metadata": {
        "id": "view-in-github",
        "colab_type": "text"
      },
      "source": [
        "<a href=\"https://colab.research.google.com/github/ImNotDanish05/2025_PBO_TI-1A/blob/main/Jobsheet_5_Tugas_1.ipynb\" target=\"_parent\"><img src=\"https://colab.research.google.com/assets/colab-badge.svg\" alt=\"Open In Colab\"/></a>"
      ]
    },
    {
      "cell_type": "code",
      "execution_count": 1,
      "metadata": {
        "colab": {
          "base_uri": "https://localhost:8080/"
        },
        "id": "cTOpi1mBTQiV",
        "outputId": "11572f14-2e7e-4eb5-e082-a5acfbadc076",
        "collapsed": true
      },
      "outputs": [
        {
          "output_type": "stream",
          "name": "stdout",
          "text": [
            "Collecting danish05\n",
            "  Downloading danish05-0.0.7-py2.py3-none-any.whl.metadata (262 bytes)\n",
            "Collecting rembg (from danish05)\n",
            "  Downloading rembg-2.0.65-py3-none-any.whl.metadata (20 kB)\n",
            "Collecting onnxruntime (from danish05)\n",
            "  Downloading onnxruntime-1.21.1-cp311-cp311-manylinux_2_27_x86_64.manylinux_2_28_x86_64.whl.metadata (4.5 kB)\n",
            "Requirement already satisfied: opencv-python in /usr/local/lib/python3.11/dist-packages (from danish05) (4.11.0.86)\n",
            "Requirement already satisfied: numpy in /usr/local/lib/python3.11/dist-packages (from danish05) (2.0.2)\n",
            "Requirement already satisfied: Pillow in /usr/local/lib/python3.11/dist-packages (from danish05) (11.2.1)\n",
            "Collecting coloredlogs (from onnxruntime->danish05)\n",
            "  Downloading coloredlogs-15.0.1-py2.py3-none-any.whl.metadata (12 kB)\n",
            "Requirement already satisfied: flatbuffers in /usr/local/lib/python3.11/dist-packages (from onnxruntime->danish05) (25.2.10)\n",
            "Requirement already satisfied: packaging in /usr/local/lib/python3.11/dist-packages (from onnxruntime->danish05) (24.2)\n",
            "Requirement already satisfied: protobuf in /usr/local/lib/python3.11/dist-packages (from onnxruntime->danish05) (5.29.4)\n",
            "Requirement already satisfied: sympy in /usr/local/lib/python3.11/dist-packages (from onnxruntime->danish05) (1.13.1)\n",
            "Requirement already satisfied: jsonschema in /usr/local/lib/python3.11/dist-packages (from rembg->danish05) (4.23.0)\n",
            "Requirement already satisfied: opencv-python-headless in /usr/local/lib/python3.11/dist-packages (from rembg->danish05) (4.11.0.86)\n",
            "Requirement already satisfied: pooch in /usr/local/lib/python3.11/dist-packages (from rembg->danish05) (1.8.2)\n",
            "Collecting pymatting (from rembg->danish05)\n",
            "  Downloading PyMatting-1.1.13-py3-none-any.whl.metadata (7.5 kB)\n",
            "Requirement already satisfied: scikit-image in /usr/local/lib/python3.11/dist-packages (from rembg->danish05) (0.25.2)\n",
            "Requirement already satisfied: scipy in /usr/local/lib/python3.11/dist-packages (from rembg->danish05) (1.15.2)\n",
            "Requirement already satisfied: tqdm in /usr/local/lib/python3.11/dist-packages (from rembg->danish05) (4.67.1)\n",
            "Collecting humanfriendly>=9.1 (from coloredlogs->onnxruntime->danish05)\n",
            "  Downloading humanfriendly-10.0-py2.py3-none-any.whl.metadata (9.2 kB)\n",
            "Requirement already satisfied: attrs>=22.2.0 in /usr/local/lib/python3.11/dist-packages (from jsonschema->rembg->danish05) (25.3.0)\n",
            "Requirement already satisfied: jsonschema-specifications>=2023.03.6 in /usr/local/lib/python3.11/dist-packages (from jsonschema->rembg->danish05) (2025.4.1)\n",
            "Requirement already satisfied: referencing>=0.28.4 in /usr/local/lib/python3.11/dist-packages (from jsonschema->rembg->danish05) (0.36.2)\n",
            "Requirement already satisfied: rpds-py>=0.7.1 in /usr/local/lib/python3.11/dist-packages (from jsonschema->rembg->danish05) (0.24.0)\n",
            "Requirement already satisfied: platformdirs>=2.5.0 in /usr/local/lib/python3.11/dist-packages (from pooch->rembg->danish05) (4.3.7)\n",
            "Requirement already satisfied: requests>=2.19.0 in /usr/local/lib/python3.11/dist-packages (from pooch->rembg->danish05) (2.32.3)\n",
            "Requirement already satisfied: numba!=0.49.0 in /usr/local/lib/python3.11/dist-packages (from pymatting->rembg->danish05) (0.60.0)\n",
            "Requirement already satisfied: networkx>=3.0 in /usr/local/lib/python3.11/dist-packages (from scikit-image->rembg->danish05) (3.4.2)\n",
            "Requirement already satisfied: imageio!=2.35.0,>=2.33 in /usr/local/lib/python3.11/dist-packages (from scikit-image->rembg->danish05) (2.37.0)\n",
            "Requirement already satisfied: tifffile>=2022.8.12 in /usr/local/lib/python3.11/dist-packages (from scikit-image->rembg->danish05) (2025.3.30)\n",
            "Requirement already satisfied: lazy-loader>=0.4 in /usr/local/lib/python3.11/dist-packages (from scikit-image->rembg->danish05) (0.4)\n",
            "Requirement already satisfied: mpmath<1.4,>=1.1.0 in /usr/local/lib/python3.11/dist-packages (from sympy->onnxruntime->danish05) (1.3.0)\n",
            "Requirement already satisfied: llvmlite<0.44,>=0.43.0dev0 in /usr/local/lib/python3.11/dist-packages (from numba!=0.49.0->pymatting->rembg->danish05) (0.43.0)\n",
            "Requirement already satisfied: typing-extensions>=4.4.0 in /usr/local/lib/python3.11/dist-packages (from referencing>=0.28.4->jsonschema->rembg->danish05) (4.13.2)\n",
            "Requirement already satisfied: charset-normalizer<4,>=2 in /usr/local/lib/python3.11/dist-packages (from requests>=2.19.0->pooch->rembg->danish05) (3.4.1)\n",
            "Requirement already satisfied: idna<4,>=2.5 in /usr/local/lib/python3.11/dist-packages (from requests>=2.19.0->pooch->rembg->danish05) (3.10)\n",
            "Requirement already satisfied: urllib3<3,>=1.21.1 in /usr/local/lib/python3.11/dist-packages (from requests>=2.19.0->pooch->rembg->danish05) (2.4.0)\n",
            "Requirement already satisfied: certifi>=2017.4.17 in /usr/local/lib/python3.11/dist-packages (from requests>=2.19.0->pooch->rembg->danish05) (2025.4.26)\n",
            "Downloading danish05-0.0.7-py2.py3-none-any.whl (4.5 kB)\n",
            "Downloading onnxruntime-1.21.1-cp311-cp311-manylinux_2_27_x86_64.manylinux_2_28_x86_64.whl (16.0 MB)\n",
            "\u001b[2K   \u001b[90m━━━━━━━━━━━━━━━━━━━━━━━━━━━━━━━━━━━━━━━━\u001b[0m \u001b[32m16.0/16.0 MB\u001b[0m \u001b[31m56.5 MB/s\u001b[0m eta \u001b[36m0:00:00\u001b[0m\n",
            "\u001b[?25hDownloading rembg-2.0.65-py3-none-any.whl (41 kB)\n",
            "\u001b[2K   \u001b[90m━━━━━━━━━━━━━━━━━━━━━━━━━━━━━━━━━━━━━━━━\u001b[0m \u001b[32m41.2/41.2 kB\u001b[0m \u001b[31m2.3 MB/s\u001b[0m eta \u001b[36m0:00:00\u001b[0m\n",
            "\u001b[?25hDownloading coloredlogs-15.0.1-py2.py3-none-any.whl (46 kB)\n",
            "\u001b[2K   \u001b[90m━━━━━━━━━━━━━━━━━━━━━━━━━━━━━━━━━━━━━━━━\u001b[0m \u001b[32m46.0/46.0 kB\u001b[0m \u001b[31m2.4 MB/s\u001b[0m eta \u001b[36m0:00:00\u001b[0m\n",
            "\u001b[?25hDownloading PyMatting-1.1.13-py3-none-any.whl (54 kB)\n",
            "\u001b[2K   \u001b[90m━━━━━━━━━━━━━━━━━━━━━━━━━━━━━━━━━━━━━━━━\u001b[0m \u001b[32m54.5/54.5 kB\u001b[0m \u001b[31m3.4 MB/s\u001b[0m eta \u001b[36m0:00:00\u001b[0m\n",
            "\u001b[?25hDownloading humanfriendly-10.0-py2.py3-none-any.whl (86 kB)\n",
            "\u001b[2K   \u001b[90m━━━━━━━━━━━━━━━━━━━━━━━━━━━━━━━━━━━━━━━━\u001b[0m \u001b[32m86.8/86.8 kB\u001b[0m \u001b[31m5.0 MB/s\u001b[0m eta \u001b[36m0:00:00\u001b[0m\n",
            "\u001b[?25hInstalling collected packages: humanfriendly, pymatting, coloredlogs, onnxruntime, rembg, danish05\n",
            "Successfully installed coloredlogs-15.0.1 danish05-0.0.7 humanfriendly-10.0 onnxruntime-1.21.1 pymatting-1.1.13 rembg-2.0.65\n"
          ]
        }
      ],
      "source": [
        "pip install danish05"
      ]
    },
    {
      "cell_type": "code",
      "source": [
        "import danish05\n",
        "\n",
        "# Class Parent\n",
        "class Computer:\n",
        "  def __init__(self, merk, processor, ram_gb):\n",
        "    self.merk = merk\n",
        "    self.processor = processor\n",
        "    self.ram_gb = ram_gb\n",
        "  def info_spesifikasi(self):\n",
        "    danish05.beautifullline()\n",
        "    print(f\"Merk: {self.merk}\\nProcessor: {self.processor}\\nRAM: {self.ram_gb} GB\")\n",
        "  def jalankan_aplikasi(self, nama_aplikasi):\n",
        "    danish05.beautifullline()\n",
        "    print(f\"{self.merk} menjalankan aplikasi {nama_aplikasi}\")\n",
        "  def install_software(self, *args):\n",
        "    for software in args:\n",
        "      print(f\"{self.merk} menginstal software {software}\")\n",
        "\n",
        "\n",
        "# Class Child Laptop!\n",
        "class Laptop(Computer):\n",
        "  def __init__(self, merk, processor, ram_gb, ukuran_layar_inch, berat_kg):\n",
        "    super().__init__(merk, processor, ram_gb)\n",
        "    self.ukuran_layar_inch = ukuran_layar_inch\n",
        "    self.berat_kg = berat_kg\n",
        "  def info_spesifikasi(self):\n",
        "    super().info_spesifikasi()\n",
        "    print(f\"Ukuran Layar Inch: {self.ukuran_layar_inch}\\n Berat (KG): {self.berat_kg}\")\n",
        "\n",
        "class Desktop(Computer):\n",
        "  def __init__(self, merk, processor, ram_gb, jenis_casing, monitor_external):\n",
        "    super().__init__(merk, processor, ram_gb)\n",
        "    self.jenis_casing = jenis_casing\n",
        "    self.monitor_external = monitor_external\n",
        "  def info_spesifikasi(self):\n",
        "    super().info_spesifikasi()\n",
        "    print(f\"Jenis Casing: {self.jenis_casing}\")\n",
        "    if self.monitor_external:\n",
        "      print(\"Monitor External: Ya\")\n",
        "    else:\n",
        "      print(\"Monitor External: Tidak\")\n",
        "\n",
        "def cetak_semua_spesifikasi(daftar_komputer):\n",
        "  for komputer in daftar_komputer:\n",
        "    komputer.info_spesifikasi()\n",
        "\n",
        "# Opsi B, *args Muahahaah :)\n",
        "def install_software(self, *args):\n",
        "  for software in args:\n",
        "    self.merk.jalankan_aplikasi(software)\n",
        "    # print(f\"{self.merk} menginstal software {software}\")\n",
        "\n",
        "if __name__ == \"__main__\":\n",
        "  # Buat 1 laptop dan 1 desktop\n",
        "  laptop1 = Laptop(\"Asus\", \"Intel Core i7\", 16, 15.6, 2.0)\n",
        "  desktop1 = Desktop(\"Dell\", \"Intel Core i9\", 32, \"Tower\", True)\n",
        "\n",
        "  # Buat daftar komputer\n",
        "  daftar_komputer = [laptop1, desktop1]\n",
        "\n",
        "  # Cetak spesifikasi semua komputer\n",
        "  cetak_semua_spesifikasi(daftar_komputer)\n",
        "\n",
        "  # Demonstrasi pemanggilan metode overloading dengan install_software(self, *args)\n",
        "  laptop1.install_software(\"Microsoft Office\", \"Adobe Photoshop\")\n",
        "  desktop1.install_software(\"Visual Studio Code\", \"Git\", \"Minecraft\")\n",
        "  danish05.info()"
      ],
      "metadata": {
        "colab": {
          "base_uri": "https://localhost:8080/"
        },
        "id": "RE1bSjoYhRuV",
        "outputId": "9de82329-c8ed-4e7c-f47e-f068d1cf2c00"
      },
      "execution_count": 5,
      "outputs": [
        {
          "output_type": "stream",
          "name": "stdout",
          "text": [
            "\n",
            "\n",
            "==============================\n",
            "\n",
            "\n",
            "Merk: Asus\n",
            "Processor: Intel Core i7\n",
            "RAM: 16 GB\n",
            "Ukuran Layar Inch: 15.6\n",
            " Berat (KG): 2.0\n",
            "\n",
            "\n",
            "==============================\n",
            "\n",
            "\n",
            "Merk: Dell\n",
            "Processor: Intel Core i9\n",
            "RAM: 32 GB\n",
            "Jenis Casing: Tower\n",
            "Monitor External: Ya\n",
            "Asus menginstal software Microsoft Office\n",
            "Asus menginstal software Adobe Photoshop\n",
            "Dell menginstal software Visual Studio Code\n",
            "Dell menginstal software Git\n",
            "Dell menginstal software Minecraft\n",
            "\n",
            "\n",
            "******************************\n",
            "\n",
            "\n",
            "This code made by Danish05! :D\n",
            "Here is my social media:\n",
            "Youtube\t: https://www.youtube.com/@ImNotDanish05\n",
            "Tiktok\t: https://www.tiktok.com/@imnotdanish05\n",
            "Github\t: https://github.com/ImNotDanish05\n",
            "Gmail\t: mailto:imnotdanish05bussiness@gmail.com\n"
          ]
        }
      ]
    }
  ]
}