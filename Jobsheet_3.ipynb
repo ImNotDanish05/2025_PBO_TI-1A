{
  "nbformat": 4,
  "nbformat_minor": 0,
  "metadata": {
    "colab": {
      "provenance": [],
      "authorship_tag": "ABX9TyPxiw4VLLopJPQOrAMdPTF4",
      "include_colab_link": true
    },
    "kernelspec": {
      "name": "python3",
      "display_name": "Python 3"
    },
    "language_info": {
      "name": "python"
    }
  },
  "cells": [
    {
      "cell_type": "markdown",
      "metadata": {
        "id": "view-in-github",
        "colab_type": "text"
      },
      "source": [
        "<a href=\"https://colab.research.google.com/github/ImNotDanish05/2025_PBO_TI-1A/blob/main/Jobsheet_3.ipynb\" target=\"_parent\"><img src=\"https://colab.research.google.com/assets/colab-badge.svg\" alt=\"Open In Colab\"/></a>"
      ]
    },
    {
      "cell_type": "code",
      "execution_count": 29,
      "metadata": {
        "id": "iax1eHuv0Qky",
        "colab": {
          "base_uri": "https://localhost:8080/"
        },
        "outputId": "9852a9d4-8b27-4324-c530-38c15442b0c4"
      },
      "outputs": [
        {
          "output_type": "stream",
          "name": "stdout",
          "text": [
            "500 telah ditambahkan ke akun Alice\n",
            "Invalid amount: tidak boleh kurang atau sama dengan dari 0\n",
            "Invalid amount: tidak boleh kurang atau sama dengan dari 0\n",
            "300 telah ditarik dari akun Alice\n",
            "Insufficient funds\n",
            "Saldo Alice: 1200\n"
          ]
        }
      ],
      "source": [
        "# Praktikum 1: Enkapsulasi pada kelas Bank Account\n",
        "class BankAccount:\n",
        "  def __init__(self, owner, balance):\n",
        "    \"\"\"Dengan double underscore (__) artinya variable private\"\"\"\n",
        "    self.__balance = balance\n",
        "    self.__owner = owner\n",
        "  def deposit(self, amount):\n",
        "    \"\"\"Method untuk menambahkan saldo\"\"\"\n",
        "    if amount <= 0:\n",
        "      print(\"Invalid amount: tidak boleh kurang atau sama dengan dari 0\")\n",
        "    else:\n",
        "      self.__balance += amount\n",
        "      print(f\"{amount} telah ditambahkan ke akun {self.__owner}\")\n",
        "      #return self.__balance\n",
        "  def withdraw(self, amount):\n",
        "    if amount > self.__balance:\n",
        "      print(\"Insufficient funds\")\n",
        "    else:\n",
        "      self.__balance -= amount\n",
        "      print(f\"{amount} telah ditarik dari akun {self.__owner}\")\n",
        "  def get_balance(self):\n",
        "    return self.__balance\n",
        "\n",
        "if __name__ == \"__main__\":\n",
        "  alice_account = BankAccount(owner=\"Alice\", balance=1000)\n",
        "  # Deposit uang\n",
        "  alice_account.deposit(500)    #Berhasil\n",
        "  alice_account.deposit(0)      #Gagal\n",
        "  alice_account.deposit(-1000)  #Gagal\n",
        "  # Withdraw uang\n",
        "  alice_account.withdraw(300)   #Berhasil\n",
        "  alice_account.withdraw(1500)  #Gagal\n",
        "  # Melihat saldo\n",
        "  print(f\"Saldo Alice: {alice_account.get_balance()}\")"
      ]
    },
    {
      "cell_type": "code",
      "source": [
        "# Praktikum 2: Enkapsulsi pada kelas Employee\n",
        "class Employee:\n",
        "  def __init__(self, name, salary):\n",
        "    self.__name = name\n",
        "    self.__salary = salary\n",
        "  def update_salary(self, increase):\n",
        "    if increase > 0:\n",
        "      self.__salary += increase\n",
        "      print(f\"Gaji dinaikkan sebesar {increase} menjadi {self.__salary}\")\n",
        "    else:\n",
        "      print(f\"Nilai kenaikan harus lebih dari 0\")\n",
        "  def set_salary(self, new_salary):\n",
        "    if new_salary >= 0:\n",
        "      self.__salary += new_salary\n",
        "      print(f\"Gaji diatur ulang menjadi {new_salary}\")\n",
        "    else:\n",
        "      print(f\"Gaji tidak boleh negatif!\")\n",
        "  def get_salary(self):\n",
        "    return self.__salary\n",
        "  def get_employee_info(self):\n",
        "    return f\"Nama: {self.__name}, Gaji: {self.__salary}\"\n",
        "if __name__ == \"__main__\":\n",
        "  employee1 = Employee(name=\"John Doe\", salary=50000)\n",
        "\n",
        "  # Tarik Informasi Karyawan\n",
        "  print(employee1.get_employee_info())\n",
        "\n",
        "  # Update gaji\n",
        "  employee1.update_salary(5000)\n",
        "\n",
        "  # Set salary\n",
        "  employee1.set_salary(60000)\n",
        "  print(f\"Informasi terbaru: {employee1.get_employee_info()}\")\n"
      ],
      "metadata": {
        "id": "bgPEBvG0QxZB",
        "outputId": "16d72d2c-c250-4ab6-fafd-4191e7d36508",
        "colab": {
          "base_uri": "https://localhost:8080/"
        }
      },
      "execution_count": 30,
      "outputs": [
        {
          "output_type": "stream",
          "name": "stdout",
          "text": [
            "Nama: John Doe, Gaji: 50000\n",
            "Gaji dinaikkan sebesar 5000 menjadi 55000\n",
            "Gaji diatur ulang menjadi 60000\n",
            "Informasi terbaru: Nama: John Doe, Gaji: 115000\n"
          ]
        }
      ]
    },
    {
      "cell_type": "code",
      "source": [
        "# Praktikum 3: Kelas dan Objek\n",
        "# Praktikum 3: Konstruktor dan Deskruktor sederhana\n",
        "class SimpleExample:\n",
        "  def __init__(self, name):\n",
        "    self.name = name\n",
        "    print(f\"Konstruktor: Objek '{self.name}' telah dibuat!\")\n",
        "  def __del__(self):\n",
        "    #Proses penghapusan\n",
        "    print(f\"Desktruktor: Objek '{self.name}' sedang dihapus\")\n",
        "\n",
        "def main():\n",
        "  print(\"Program dimulai!\\n\")\n",
        "\n",
        "  # Buat objek\n",
        "  obj = SimpleExample(\"Demo\")\n",
        "  print(\"Program sedang berjalan...\\n\")\n",
        "\n",
        "  # Menghapus objek secara eksplisit\n",
        "  del obj\n",
        "  print(\"Objek telah dihapus secara eksplisit\\n\")\n",
        "\n",
        "  print(\"Program selesai!\")\n",
        "\n",
        "main()"
      ],
      "metadata": {
        "id": "-VKxpAMoU6bZ",
        "outputId": "a22ece37-a307-4df2-883e-a72252a1e77b",
        "colab": {
          "base_uri": "https://localhost:8080/"
        }
      },
      "execution_count": 31,
      "outputs": [
        {
          "output_type": "stream",
          "name": "stdout",
          "text": [
            "Program dimulai!\n",
            "\n",
            "Konstruktor: Objek 'Demo' telah dibuat!\n",
            "Program sedang berjalan...\n",
            "\n",
            "Desktruktor: Objek 'Demo' sedang dihapus\n",
            "Objek telah dihapus secara eksplisit\n",
            "\n",
            "Program selesai!\n"
          ]
        }
      ]
    },
    {
      "cell_type": "code",
      "source": [
        "# Praktikum 4: Konstruktor dan Destruktor program FileLogger\n",
        "class FileLogger:\n",
        "  def __init__(self, filename):\n",
        "    \"\"\"\n",
        "    Konstruktor: membuka file untuk penambahan (append mode)\n",
        "    Parameter:\n",
        "    - filename: nama file tempat log akan ditulis\n",
        "    \"\"\"\n",
        "    self.filename = filename\n",
        "    try:\n",
        "      self.file = open(filename, 'a')\n",
        "      print(f\"File '{filename}' telah dibuka untuk penambahan.\")\n",
        "    except Exception as e:\n",
        "      print(f\"Error membuka file '{filename}': {e}\")\n",
        "      self.file = None\n",
        "  def write_log(self, message):\n",
        "    \"\"\"\n",
        "    Menulis pesan ke file log\n",
        "    Parameter:\n",
        "    - message: pesan yang akan ditulis ke file log\n",
        "    \"\"\"\n",
        "    self.file.write(message + '\\n')\n",
        "    print(f\"Pesan '{message}' telah ditulis ke file '{self.filename}'.\")\n",
        "    self.file.flush()\n",
        "    print(f\"Pesan Log: '{message}' telah ditulis ke file '{self.filename}'.\")\n",
        "  def __del__(self):\n",
        "    \"\"\"\n",
        "    Destruktor: menutup filelog ketika objekd ihapus\n",
        "    \"\"\"\n",
        "    if hasattr(self, \"file\") and not self.file.closed:\n",
        "      self.file.close()\n",
        "      print(f\"File '{self.filename} telah ditutup\")\n",
        "\n",
        "def main():\n",
        "  # Membuat file log\n",
        "  logger = FileLogger(\"application.log\")\n",
        "\n",
        "  # Menulis beberapa pesan log selama operasi aplikasi\n",
        "  logger.write_log(\"Ini adalah pesan pertama\")\n",
        "  logger.write_log(\"Ini adalah pesan kedua\")\n",
        "\n",
        "  # Menghapus objek logger secara eksplisit\n",
        "  del logger\n",
        "\n",
        "  print(\"Program selesai!\")\n",
        "\n",
        "if __name__ == \"__main__\":\n",
        "  main()"
      ],
      "metadata": {
        "id": "LkrXqTYXcbXC",
        "outputId": "7df3e42f-d821-453a-9281-b103fe71091e",
        "colab": {
          "base_uri": "https://localhost:8080/"
        }
      },
      "execution_count": 36,
      "outputs": [
        {
          "output_type": "stream",
          "name": "stdout",
          "text": [
            "File 'application.log' telah dibuka untuk penambahan.\n",
            "Pesan 'Ini adalah pesan pertama' telah ditulis ke file 'application.log'.\n",
            "Pesan Log: 'Ini adalah pesan pertama' telah ditulis ke file 'application.log'.\n",
            "Pesan 'Ini adalah pesan kedua' telah ditulis ke file 'application.log'.\n",
            "Pesan Log: 'Ini adalah pesan kedua' telah ditulis ke file 'application.log'.\n",
            "File 'application.log telah ditutup\n",
            "Program selesai!\n"
          ]
        }
      ]
    }
  ]
}