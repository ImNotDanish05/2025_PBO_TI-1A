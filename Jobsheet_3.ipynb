{
  "nbformat": 4,
  "nbformat_minor": 0,
  "metadata": {
    "colab": {
      "provenance": [],
      "authorship_tag": "ABX9TyN6VkRThpq6mcfxUu6tbEbd",
      "include_colab_link": true
    },
    "kernelspec": {
      "name": "python3",
      "display_name": "Python 3"
    },
    "language_info": {
      "name": "python"
    }
  },
  "cells": [
    {
      "cell_type": "markdown",
      "metadata": {
        "id": "view-in-github",
        "colab_type": "text"
      },
      "source": [
        "<a href=\"https://colab.research.google.com/github/ImNotDanish05/2025_PBO_TI-1A/blob/main/Jobsheet_3.ipynb\" target=\"_parent\"><img src=\"https://colab.research.google.com/assets/colab-badge.svg\" alt=\"Open In Colab\"/></a>"
      ]
    },
    {
      "cell_type": "code",
      "execution_count": 29,
      "metadata": {
        "id": "iax1eHuv0Qky",
        "colab": {
          "base_uri": "https://localhost:8080/"
        },
        "outputId": "9852a9d4-8b27-4324-c530-38c15442b0c4"
      },
      "outputs": [
        {
          "output_type": "stream",
          "name": "stdout",
          "text": [
            "500 telah ditambahkan ke akun Alice\n",
            "Invalid amount: tidak boleh kurang atau sama dengan dari 0\n",
            "Invalid amount: tidak boleh kurang atau sama dengan dari 0\n",
            "300 telah ditarik dari akun Alice\n",
            "Insufficient funds\n",
            "Saldo Alice: 1200\n"
          ]
        }
      ],
      "source": [
        "# Praktikum 1: Enkapsulasi pada kelas Bank Account\n",
        "class BankAccount:\n",
        "  def __init__(self, owner, balance):\n",
        "    \"\"\"Dengan double underscore (__) artinya variable private\"\"\"\n",
        "    self.__balance = balance\n",
        "    self.__owner = owner\n",
        "  def deposit(self, amount):\n",
        "    \"\"\"Method untuk menambahkan saldo\"\"\"\n",
        "    if amount <= 0:\n",
        "      print(\"Invalid amount: tidak boleh kurang atau sama dengan dari 0\")\n",
        "    else:\n",
        "      self.__balance += amount\n",
        "      print(f\"{amount} telah ditambahkan ke akun {self.__owner}\")\n",
        "      #return self.__balance\n",
        "  def withdraw(self, amount):\n",
        "    if amount > self.__balance:\n",
        "      print(\"Insufficient funds\")\n",
        "    else:\n",
        "      self.__balance -= amount\n",
        "      print(f\"{amount} telah ditarik dari akun {self.__owner}\")\n",
        "  def get_balance(self):\n",
        "    return self.__balance\n",
        "\n",
        "if __name__ == \"__main__\":\n",
        "  alice_account = BankAccount(owner=\"Alice\", balance=1000)\n",
        "  # Deposit uang\n",
        "  alice_account.deposit(500)    #Berhasil\n",
        "  alice_account.deposit(0)      #Gagal\n",
        "  alice_account.deposit(-1000)  #Gagal\n",
        "  # Withdraw uang\n",
        "  alice_account.withdraw(300)   #Berhasil\n",
        "  alice_account.withdraw(1500)  #Gagal\n",
        "  # Melihat saldo\n",
        "  print(f\"Saldo Alice: {alice_account.get_balance()}\")"
      ]
    },
    {
      "cell_type": "code",
      "source": [
        "# Praktikum 2: Enkapsulsi pada kelas Employee\n",
        "class Employee:\n",
        "  def __init__(self, name, salary):\n",
        "    self.__name = name\n",
        "    self.__salary = salary\n",
        "  def update_salary(self, increase):\n",
        "    if increase > 0:\n",
        "      self.__salary += increase\n",
        "      print(f\"Gaji dinaikkan sebesar {increase} menjadi {self.__salary}\")\n",
        "    else:\n",
        "      print(f\"Nilai kenaikan harus lebih dari 0\")\n",
        "  def set_salary(self, new_salary):\n",
        "    if new_salary >= 0:\n",
        "      self.__salary += new_salary\n",
        "      print(f\"Gaji diatur ulang menjadi {new_salary}\")\n",
        "    else:\n",
        "      print(f\"Gaji tidak boleh negatif!\")\n",
        "  def get_salary(self):\n",
        "    return self.__salary\n",
        "  def get_employee_info(self):\n",
        "    return f\"Nama: {self.__name}, Gaji: {self.__salary}\"\n",
        "if __name__ == \"__main__\":\n",
        "  employee1 = Employee(name=\"John Doe\", salary=50000)\n",
        "\n",
        "  # Tarik Informasi Karyawan\n",
        "  print(employee1.get_employee_info())\n",
        "\n",
        "  # Update gaji\n",
        "  employee1.update_salary(5000)\n",
        "\n",
        "  # Set salary\n",
        "  employee1.set_salary(60000)\n",
        "  print(f\"Informasi terbaru: {employee1.get_employee_info()}\")\n"
      ],
      "metadata": {
        "colab": {
          "base_uri": "https://localhost:8080/"
        },
        "id": "bgPEBvG0QxZB",
        "outputId": "16d72d2c-c250-4ab6-fafd-4191e7d36508"
      },
      "execution_count": 30,
      "outputs": [
        {
          "output_type": "stream",
          "name": "stdout",
          "text": [
            "Nama: John Doe, Gaji: 50000\n",
            "Gaji dinaikkan sebesar 5000 menjadi 55000\n",
            "Gaji diatur ulang menjadi 60000\n",
            "Informasi terbaru: Nama: John Doe, Gaji: 115000\n"
          ]
        }
      ]
    },
    {
      "cell_type": "code",
      "source": [
        "# Praktikum 3: Kelas dan Objek\n",
        "# Praktikum 3: Konstruktor dan Deskruktor sederhana\n",
        "class SimpleExample:\n",
        "  def __init__(self, name):\n",
        "    self.name = name\n",
        "    print(f\"Konstruktor: Objek '{self.name}' telah dibuat!\")\n",
        "  def __del__(self):\n",
        "    #Proses penghapusan\n",
        "    print(f\"Desktruktor: Objek '{self.name}' sedang dihapus\")\n",
        "\n",
        "def main():\n",
        "  print(\"Program dimulai!\\n\")\n",
        "\n",
        "  # Buat objek\n",
        "  obj = SimpleExample(\"Demo\")\n",
        "  print(\"Program sedang berjalan...\\n\")\n",
        "\n",
        "  # Menghapus objek secara eksplisit\n",
        "  del obj\n",
        "  print(\"Objek telah dihapus secara eksplisit\\n\")\n",
        "\n",
        "  print(\"Program selesai!\")\n",
        "\n",
        "main()"
      ],
      "metadata": {
        "colab": {
          "base_uri": "https://localhost:8080/"
        },
        "id": "-VKxpAMoU6bZ",
        "outputId": "a22ece37-a307-4df2-883e-a72252a1e77b"
      },
      "execution_count": 31,
      "outputs": [
        {
          "output_type": "stream",
          "name": "stdout",
          "text": [
            "Program dimulai!\n",
            "\n",
            "Konstruktor: Objek 'Demo' telah dibuat!\n",
            "Program sedang berjalan...\n",
            "\n",
            "Desktruktor: Objek 'Demo' sedang dihapus\n",
            "Objek telah dihapus secara eksplisit\n",
            "\n",
            "Program selesai!\n"
          ]
        }
      ]
    },
    {
      "cell_type": "code",
      "source": [
        "# Praktikum 4: Konstruktor dan Destruktor program FileLogger\n",
        "class FileLogger:\n",
        "  def __init__(self, filename):\n",
        "    \"\"\"\n",
        "    Konstruktor: membuka file untuk penambahan (append mode)\n",
        "    Parameter:\n",
        "    - filename: nama file tempat log akan ditulis\n",
        "    \"\"\"\n",
        "    self.filename = filename\n",
        "    try:\n",
        "      self.file = open(filename, 'a')\n",
        "      print(f\"File '{filename}' telah dibuka untuk penambahan.\")\n",
        "    except Exception as e:\n",
        "      print(f\"Error membuka file '{filename}': {e}\")\n",
        "      self.file = None\n",
        "  def write_log(self, message):\n",
        "    \"\"\"\n",
        "    Menulis pesan ke file log\n",
        "    Parameter:\n",
        "    - message: pesan yang akan ditulis ke file log\n",
        "    \"\"\"\n",
        "    self.file.write(message + '\\n')\n",
        "    print(f\"Pesan '{message}' telah ditulis ke file '{self.filename}'.\")\n",
        "    self.file.flush()\n",
        "    print(f\"Pesan Log: '{message}' telah ditulis ke file '{self.filename}'.\")\n",
        "  def __del__(self):\n",
        "    \"\"\"\n",
        "    Destruktor: menutup filelog ketika objekd ihapus\n",
        "    \"\"\"\n",
        "    if hasattr(self, \"file\") and not self.file.closed:\n",
        "      self.file.close()\n",
        "      print(f\"File '{self.filename} telah ditutup\")\n",
        "\n",
        "def main():\n",
        "  # Membuat file log\n",
        "  logger = FileLogger(\"application.log\")\n",
        "\n",
        "  # Menulis beberapa pesan log selama operasi aplikasi\n",
        "  logger.write_log(\"Ini adalah pesan pertama\")\n",
        "  logger.write_log(\"Ini adalah pesan kedua\")\n",
        "\n",
        "  # Menghapus objek logger secara eksplisit\n",
        "  del logger\n",
        "\n",
        "  print(\"Program selesai!\")\n",
        "\n",
        "if __name__ == \"__main__\":\n",
        "  main()"
      ],
      "metadata": {
        "colab": {
          "base_uri": "https://localhost:8080/"
        },
        "id": "LkrXqTYXcbXC",
        "outputId": "7df3e42f-d821-453a-9281-b103fe71091e"
      },
      "execution_count": 36,
      "outputs": [
        {
          "output_type": "stream",
          "name": "stdout",
          "text": [
            "File 'application.log' telah dibuka untuk penambahan.\n",
            "Pesan 'Ini adalah pesan pertama' telah ditulis ke file 'application.log'.\n",
            "Pesan Log: 'Ini adalah pesan pertama' telah ditulis ke file 'application.log'.\n",
            "Pesan 'Ini adalah pesan kedua' telah ditulis ke file 'application.log'.\n",
            "Pesan Log: 'Ini adalah pesan kedua' telah ditulis ke file 'application.log'.\n",
            "File 'application.log telah ditutup\n",
            "Program selesai!\n"
          ]
        }
      ]
    },
    {
      "cell_type": "code",
      "source": [
        "# Praktikum 5: Properti \"self\" pada kelas\n",
        "class Calculator:\n",
        "  def __init__(self, initial_value=0):\n",
        "    \"\"\"\n",
        "    Konstruktor: menginisialisasi nilai awal kalkulator\n",
        "    Parameter:\n",
        "    - initial_value: nilai awal kalkulator (default 0)\n",
        "    \"\"\"\n",
        "    self.value = initial_value\n",
        "    print(f\"Kalkulator diinisialisasikan dengan nilai awal: {initial_value}\")\n",
        "  def add(self, number):\n",
        "    \"\"\"\n",
        "    Menambahkan angka ke nilai saat ini\n",
        "    Parameter:\n",
        "    - number: angka yang akan ditambahkan\n",
        "    \"\"\"\n",
        "    self.value += number\n",
        "    print(f\"{number} telah ditambahkan. Nilai saat ini: {self.value}\")\n",
        "  def subtract(self, number):\n",
        "    \"\"\"\n",
        "    Mengurangi angka dari nilai saat ini\n",
        "    Parameter:\n",
        "    - number: angka yang akan dikurangi\n",
        "    \"\"\"\n",
        "    self.value -= number\n",
        "    print(f\"{number} telah dikurangi. Nilai saat ini: {self.value}\")\n",
        "  def reset(self):\n",
        "    \"\"\"\n",
        "    Mengatur ulang nilai kalkulator ke 0\n",
        "    \"\"\"\n",
        "    self.value = 0\n",
        "    print(f\"Kalkulator telah direset ke nilai awal: {self.value}\")\n",
        "  def show_result(self):\n",
        "    \"\"\"\n",
        "    Menampilkan nilai saat ini dari kalkulator\n",
        "    \"\"\"\n",
        "    print(f\"Nilai saat ini: {self.value}\")\n",
        "\n",
        "def main():\n",
        "  # Membuat objek kalkulator\n",
        "  calc = Calculator(initial_value=10)\n",
        "\n",
        "  # Melakukan operasi penjumlahan dan pengurangan\n",
        "  calc.add(5)\n",
        "  calc.subtract(3)\n",
        "\n",
        "  # Menampilkan hasil\n",
        "  calc.show_result()\n",
        "\n",
        "  # Membuat objek kalkulator dengan nilai default adalah 0\n",
        "  calc2 = Calculator()\n",
        "\n",
        "  # Melakukan operasi penjumlahan dan pengurangan\n",
        "  calc2.add(5)\n",
        "  calc2.subtract(3)\n",
        "\n",
        "  # Menampilkan hasil\n",
        "  calc2.show_result()\n",
        "\n",
        "  # Mengatur ulang kalkulator\n",
        "  calc.reset()\n",
        "  calc2.reset()\n",
        "\n",
        "  # Menampilkan hasil setelah reset\n",
        "  calc.show_result()\n",
        "  calc2.show_result()\n",
        "\n",
        "if __name__ == \"__main__\":\n",
        "  main()\n",
        ""
      ],
      "metadata": {
        "id": "DFspZuhFhFCY",
        "outputId": "98ca62de-a008-427c-fc79-e02797f99b38",
        "colab": {
          "base_uri": "https://localhost:8080/"
        }
      },
      "execution_count": 38,
      "outputs": [
        {
          "output_type": "stream",
          "name": "stdout",
          "text": [
            "Kalkulator diinisialisasikan dengan nilai awal: 10\n",
            "5 telah ditambahkan. Nilai saat ini: 15\n",
            "3 telah dikurangi. Nilai saat ini: 12\n",
            "Nilai saat ini: 12\n",
            "Kalkulator diinisialisasikan dengan nilai awal: 0\n",
            "5 telah ditambahkan. Nilai saat ini: 5\n",
            "3 telah dikurangi. Nilai saat ini: 2\n",
            "Nilai saat ini: 2\n",
            "Kalkulator telah direset ke nilai awal: 0\n",
            "Kalkulator telah direset ke nilai awal: 0\n",
            "Nilai saat ini: 0\n",
            "Nilai saat ini: 0\n"
          ]
        }
      ]
    },
    {
      "cell_type": "code",
      "source": [
        "# Praktikum 6: Menggunakan getter, setter, dan dekorator @property untuk mengengola akses atribut\n",
        "class Person:\n",
        "  def __init__(self, name, age):\n",
        "    \"\"\"\n",
        "    Konstruktor: menginisialisasi nama dan usia orang\n",
        "    Parameter:\n",
        "    - __name: nama orang\n",
        "    - __age: usia orang\n",
        "    Atribut privat menyimpan data internal\n",
        "    \"\"\"\n",
        "    self.__name = name\n",
        "    self.__age = age\n",
        "\n",
        "  @property\n",
        "  def name(self):\n",
        "    \"\"\"\n",
        "    Getter untuk atribut nama\n",
        "    Mengembalikan nilai atribut __name\n",
        "    \"\"\"\n",
        "    return self.__name\n",
        "  @name.setter\n",
        "  def name(self, value):\n",
        "    \"\"\"\n",
        "    Setter untuk atribut name\n",
        "    Memeriksa apakah nilai yang diberikan tidak kosong\n",
        "    Jika kosong, cetak pesan kesalahan\n",
        "    Jika tidak kosong, atur nilai atribut __name\n",
        "    \"\"\"\n",
        "    if not value:\n",
        "      print(\"Nama tidak boleh kosong!\")\n",
        "    else:\n",
        "      self_name = value\n",
        "  @property\n",
        "  def age(self):\n",
        "    \"\"\"\n",
        "    Getter untuk atribut age\n",
        "    \"\"\"\n",
        "    return self.__age\n",
        "  @age.setter\n",
        "  def age(self, value):\n",
        "    \"\"\"\n",
        "    Setter untuk atribut age\n",
        "    Memeriksa apakah nilai usia yang diberikan adalah bilangan bulat positif\n",
        "    \"\"\"\n",
        "    if value < 0:\n",
        "      print(\"Usia tidak boleh negatif!\")\n",
        "    else:\n",
        "      self.__age = value\n",
        "\n",
        "def main():\n",
        "  print(\"Program dimulai\")\n",
        "  # Membuat objek person dengan nama \"Alice\" dengan umur 30\n",
        "  person = Person(\"Alice\", 30)\n",
        "\n",
        "  # Mengakses atribut nama dan usia menggunakan getter\n",
        "  print(f\"Nama: {person.name}, Usia: {person.age}\")\n",
        "\n",
        "  # Mengubah nama dan umur melalui setter\n",
        "  person.name = \"Bob\"\n",
        "  person.age = 25\n",
        "\n",
        "  # Mengakses atribut nama dan usia yang telah diubah menggunakan getter\n",
        "  print(f\"Nama: {person.name}, Usia: {person.age}\")\n",
        "\n",
        "  # Mencoba menetapkan nilai yang tidak valid untuk umur\n",
        "  person.age = -5\n",
        "\n",
        "  # Mengakses atribut nama dan usia setelah percobaan menetapkan nilai yang tidak valid\n",
        "  print(f\"Nama: {person.name}, Usia: {person.age}\")\n",
        "\n",
        "  print(\"Program selesai!\")\n",
        "\n",
        "if __name__ == \"__main__\":\n",
        "  main()"
      ],
      "metadata": {
        "id": "FXWFzxZtj3ez",
        "outputId": "399c8a10-270e-421f-a6db-3ffc51792d60",
        "colab": {
          "base_uri": "https://localhost:8080/"
        }
      },
      "execution_count": 46,
      "outputs": [
        {
          "output_type": "stream",
          "name": "stdout",
          "text": [
            "Program dimulai\n",
            "Nama: Alice, Usia: 30\n",
            "Nama: Alice, Usia: 25\n",
            "Usia tidak boleh negatif!\n",
            "Nama: Alice, Usia: 25\n",
            "Program selesai!\n"
          ]
        }
      ]
    }
  ]
}