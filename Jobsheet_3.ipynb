{
  "nbformat": 4,
  "nbformat_minor": 0,
  "metadata": {
    "colab": {
      "provenance": [],
      "authorship_tag": "ABX9TyPiVmPprgEO8tAK6XKrNpAn",
      "include_colab_link": true
    },
    "kernelspec": {
      "name": "python3",
      "display_name": "Python 3"
    },
    "language_info": {
      "name": "python"
    }
  },
  "cells": [
    {
      "cell_type": "markdown",
      "metadata": {
        "id": "view-in-github",
        "colab_type": "text"
      },
      "source": [
        "<a href=\"https://colab.research.google.com/github/ImNotDanish05/2025_PBO_TI-1A/blob/main/Jobsheet_3.ipynb\" target=\"_parent\"><img src=\"https://colab.research.google.com/assets/colab-badge.svg\" alt=\"Open In Colab\"/></a>"
      ]
    },
    {
      "cell_type": "code",
      "execution_count": 2,
      "metadata": {
        "id": "iax1eHuv0Qky"
      },
      "outputs": [],
      "source": [
        "class BankAccount:\n",
        "    def __init__(self, owner, balance):\n",
        "        \"\"\"Dengan double underscore (_) artinya variable private\"\"\"\n",
        "        self._balance = balance\n",
        "        self._owner = owner\n",
        "\n",
        "    def deposit(self, amount):\n",
        "        \"\"\"Method untuk menambahkan saldo\"\"\"\n",
        "        if amount <= 0:\n",
        "            return \"Invalid amount\"\n",
        "        self._balance += amount\n",
        "        return self._balance\n",
        "\n",
        "    def withdraw(self, amount):\n",
        "        if amount > self._balance:\n",
        "            return \"Insufficient funds\"\n",
        "        self._balance -= amount\n",
        "        return self._balance\n",
        "\n",
        "    def get_balance(self):\n",
        "        return self._balance"
      ]
    }
  ]
}