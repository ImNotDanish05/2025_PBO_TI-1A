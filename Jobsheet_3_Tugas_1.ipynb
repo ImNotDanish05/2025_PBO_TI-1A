{
  "nbformat": 4,
  "nbformat_minor": 0,
  "metadata": {
    "colab": {
      "provenance": [],
      "authorship_tag": "ABX9TyM96IasVxsVlHVodiWYxiHQ",
      "include_colab_link": true
    },
    "kernelspec": {
      "name": "python3",
      "display_name": "Python 3"
    },
    "language_info": {
      "name": "python"
    }
  },
  "cells": [
    {
      "cell_type": "markdown",
      "metadata": {
        "id": "view-in-github",
        "colab_type": "text"
      },
      "source": [
        "<a href=\"https://colab.research.google.com/github/ImNotDanish05/2025_PBO_TI-1A/blob/main/Jobsheet_3_Tugas_1.ipynb\" target=\"_parent\"><img src=\"https://colab.research.google.com/assets/colab-badge.svg\" alt=\"Open In Colab\"/></a>"
      ]
    },
    {
      "cell_type": "code",
      "source": [
        "def ScoreDecider(value):\n",
        "  if value < 0 or value > 100:\n",
        "    print(\"Score must be between 0 and 100\\n\")\n",
        "  else:\n",
        "    if value >= 90:\n",
        "      result = \"A\"\n",
        "    elif value >= 80:\n",
        "      result = \"B\"\n",
        "    elif value >= 70:\n",
        "      result = \"C\"\n",
        "    elif value >= 60:\n",
        "      result = \"D\"\n",
        "    else:\n",
        "      result = \"E\"\n",
        "    return result\n",
        "\n",
        "class Student:\n",
        "  def __init__(self, name, score):\n",
        "    self.__name = name\n",
        "    if score < 0 or score > 100:\n",
        "      print(f\"Nilai input tidak dari 0-100 untuk {self.__name}. Replace 0 sebagai default\")\n",
        "      score = 0\n",
        "    self.__score = score\n",
        "    self.__grade = ScoreDecider(score)\n",
        "  @property\n",
        "  def score(self):\n",
        "    return self.__score\n",
        "  @score.setter\n",
        "  def score(self, value):\n",
        "    if value < 0 or value > 100:\n",
        "      print(\"Score must be between 0 and 100\\n\")\n",
        "    else:\n",
        "      print(f\"Nilai diubah untuk {self.__name}\")\n",
        "      print(f\"Nilai: {self.__score} -> {value}\\n\")\n",
        "      ScoreDecider(value)\n",
        "      self.__score = value\n",
        "  @property\n",
        "  def name(self):\n",
        "    return self.__name\n",
        "  @name.setter\n",
        "  def name(self, value):\n",
        "    print(\" \")\n",
        "  def show_info(self):\n",
        "    print(\"Nama Mahasiswa: \", self.__name)\n",
        "    print(\"Nilai: \", self.__score)\n",
        "    print(\"Grade: \", self.__grade, \"\\n\")\n",
        "  def __del__(self):\n",
        "    print(f\"Data Mahasiswa {self.__name} telah dihapus dari sistem.\\n\")\n",
        "\n",
        "def main():\n",
        "  student1 = Student(\"John Doe\", 85)\n",
        "  student2 = Student(\"Jane Smith\", 75)\n",
        "  student3 = Student(\"Bob Johnson\", 120)\n",
        "  student1.show_info()\n",
        "\n",
        "  # Mengubah nilai student 1\n",
        "  student1.score = 90\n",
        "  student1.show_info()\n",
        "\n",
        "  # Mengubah nilai student 1 tapi tidak sesuai dengan value\n",
        "  student1.score = 105\n",
        "  student1.show_info()\n",
        "\n",
        "  # Menghapus student 1 dan 2\n",
        "  del student2\n",
        "  del student1\n",
        "\n",
        "  # Cek info student 3\n",
        "  student3.show_info()\n",
        "\n",
        "  # Ternyata program mati, student 3 otomatis terhapus\n",
        "\n",
        "if __name__ == \"__main__\":\n",
        "  main()"
      ],
      "metadata": {
        "id": "4Ayr4iGhE97W",
        "outputId": "7b60a705-1bbc-4066-fa12-d9886ca2caa6",
        "colab": {
          "base_uri": "https://localhost:8080/"
        }
      },
      "execution_count": 16,
      "outputs": [
        {
          "output_type": "stream",
          "name": "stdout",
          "text": [
            "Nilai input tidak dari 0-100 untuk Bob Johnson. Replace 0 sebagai default\n",
            "Nama Mahasiswa:  John Doe\n",
            "Nilai:  85\n",
            "Grade:  B \n",
            "\n",
            "Nilai diubah untuk John Doe\n",
            "Nilai: 85 -> 90\n",
            "\n",
            "Nama Mahasiswa:  John Doe\n",
            "Nilai:  90\n",
            "Grade:  B \n",
            "\n",
            "Score must be between 0 and 100\n",
            "\n",
            "Nama Mahasiswa:  John Doe\n",
            "Nilai:  90\n",
            "Grade:  B \n",
            "\n",
            "Data Mahasiswa Jane Smith telah dihapus dari sistem.\n",
            "\n",
            "Data Mahasiswa John Doe telah dihapus dari sistem.\n",
            "\n",
            "Nama Mahasiswa:  Bob Johnson\n",
            "Nilai:  0\n",
            "Grade:  E \n",
            "\n",
            "Data Mahasiswa Bob Johnson telah dihapus dari sistem.\n",
            "\n"
          ]
        }
      ]
    }
  ]
}