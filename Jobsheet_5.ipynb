{
  "nbformat": 4,
  "nbformat_minor": 0,
  "metadata": {
    "colab": {
      "provenance": [],
      "authorship_tag": "ABX9TyPxWh6EUdb39yfojkI9JQPv",
      "include_colab_link": true
    },
    "kernelspec": {
      "name": "python3",
      "display_name": "Python 3"
    },
    "language_info": {
      "name": "python"
    }
  },
  "cells": [
    {
      "cell_type": "markdown",
      "metadata": {
        "id": "view-in-github",
        "colab_type": "text"
      },
      "source": [
        "<a href=\"https://colab.research.google.com/github/ImNotDanish05/2025_PBO_TI-1A/blob/main/Jobsheet_5.ipynb\" target=\"_parent\"><img src=\"https://colab.research.google.com/assets/colab-badge.svg\" alt=\"Open In Colab\"/></a>"
      ]
    },
    {
      "cell_type": "markdown",
      "source": [
        "# **Praktikum 01: Polimorfisme dengan Inheritance dan Overriding**"
      ],
      "metadata": {
        "id": "GGOupGFt0ZoC"
      }
    },
    {
      "cell_type": "code",
      "source": [
        "# Kelas Induk\n",
        "class Burung:\n",
        "  def __init__(self, nama):\n",
        "    self.nama = nama\n",
        "\n",
        "  def terbang(self):\n",
        "    print(f\"{self.nama} sedang terbang.\")\n",
        "\n",
        "  def bersuara(self):\n",
        "    print(f\"{self.nama} mengeluarkan suara burung\")\n",
        "\n",
        "# Kelas anak 1\n",
        "class Elang(Burung):\n",
        "  def __init__(self, nama, rentang_sayap):\n",
        "    super().__init__(nama)\n",
        "    self.rentang_sayap = rentang_sayap\n",
        "\n",
        "  # Override\n",
        "  def terbang(self):\n",
        "    print(f\"{self.nama} melesat di langit dengan rentang sayap {self.rentang_sayap} cm.\")\n",
        "  # Override\n",
        "  def bersuara(self):\n",
        "    print(f\"{self.nama} mengeluarkan suara khas elang.\")\n",
        "\n",
        "# Kelas anak 2\n",
        "class Pinguin(Burung):\n",
        "  def __init__(self, nama, warna_bulu):\n",
        "    super().__init__(nama)\n",
        "    self.warna_bulu = warna_bulu\n",
        "\n",
        "  # Override\n",
        "  def terbang(self):\n",
        "    print(f\"{self.nama} tidak bisa terbang.\")\n",
        "  # Override\n",
        "  def bersuara(self):\n",
        "    print(f\"{self.nama} bersuara merdu\")\n",
        "\n"
      ],
      "metadata": {
        "id": "xKYfuMfyz9qO"
      },
      "execution_count": null,
      "outputs": []
    }
  ]
}